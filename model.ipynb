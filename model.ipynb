{
  "nbformat": 4,
  "nbformat_minor": 0,
  "metadata": {
    "kernelspec": {
      "display_name": "Python 3",
      "language": "python",
      "name": "python3"
    },
    "language_info": {
      "codemirror_mode": {
        "name": "ipython",
        "version": 3
      },
      "file_extension": ".py",
      "mimetype": "text/x-python",
      "name": "python",
      "nbconvert_exporter": "python",
      "pygments_lexer": "ipython3",
      "version": "3.7.6"
    },
    "colab": {
      "name": "model.ipynb",
      "provenance": [],
      "collapsed_sections": []
    }
  },
  "cells": [
    {
      "cell_type": "code",
      "metadata": {
        "id": "58g9kCmXuHqn",
        "colab_type": "code",
        "colab": {
          "base_uri": "https://localhost:8080/",
          "height": 129
        },
        "outputId": "c9f916bf-7e7c-4e39-cdbb-aaf7b345cf9a"
      },
      "source": [
        "from google.colab import drive\n",
        "drive.mount('/content/drive')"
      ],
      "execution_count": 2,
      "outputs": [
        {
          "output_type": "stream",
          "text": [
            "Go to this URL in a browser: https://accounts.google.com/o/oauth2/auth?client_id=947318989803-6bn6qk8qdgf4n4g3pfee6491hc0brc4i.apps.googleusercontent.com&redirect_uri=urn%3aietf%3awg%3aoauth%3a2.0%3aoob&response_type=code&scope=email%20https%3a%2f%2fwww.googleapis.com%2fauth%2fdocs.test%20https%3a%2f%2fwww.googleapis.com%2fauth%2fdrive%20https%3a%2f%2fwww.googleapis.com%2fauth%2fdrive.photos.readonly%20https%3a%2f%2fwww.googleapis.com%2fauth%2fpeopleapi.readonly\n",
            "\n",
            "Enter your authorization code:\n",
            "··········\n",
            "Mounted at /content/drive\n"
          ],
          "name": "stdout"
        }
      ]
    },
    {
      "cell_type": "code",
      "metadata": {
        "id": "fytnhKWtuM9X",
        "colab_type": "code",
        "colab": {
          "base_uri": "https://localhost:8080/",
          "height": 109
        },
        "outputId": "9e896d03-9bba-48e9-a69f-257c863b7159"
      },
      "source": [
        "!cp /content/drive/My\\ Drive/final_datasets.zip /content && unzip final_datasets.zip"
      ],
      "execution_count": 70,
      "outputs": [
        {
          "output_type": "stream",
          "text": [
            "Archive:  final_datasets.zip\n",
            "  inflating: final_dataset.csv       \n",
            "  inflating: out_closed_roads.csv    \n",
            "  inflating: out_punctual_incidents.csv  \n",
            "  inflating: out_trafficflow.csv     \n"
          ],
          "name": "stdout"
        }
      ]
    },
    {
      "cell_type": "code",
      "metadata": {
        "id": "75OyrTfVt3jM",
        "colab_type": "code",
        "colab": {}
      },
      "source": [
        "import pandas as pd\n",
        "import numpy as np"
      ],
      "execution_count": 0,
      "outputs": []
    },
    {
      "cell_type": "code",
      "metadata": {
        "id": "_8tM_sprt3jh",
        "colab_type": "code",
        "colab": {}
      },
      "source": [
        "traffic_flow = pd.read_csv(\"final_dataset.csv\")\n",
        "punctual_incidents = pd.read_csv(\"out_punctual_incidents.csv\")\n",
        "closed_roads = pd.read_csv(\"out_closed_roads.csv\")"
      ],
      "execution_count": 0,
      "outputs": []
    },
    {
      "cell_type": "code",
      "metadata": {
        "id": "VKdY8XG6t3j3",
        "colab_type": "code",
        "colab": {
          "base_uri": "https://localhost:8080/",
          "height": 206
        },
        "outputId": "64ef040d-fc09-4729-92da-d8636f9b863d"
      },
      "source": [
        "traffic_flow.head()"
      ],
      "execution_count": 320,
      "outputs": [
        {
          "output_type": "execute_result",
          "data": {
            "text/html": [
              "<div>\n",
              "<style scoped>\n",
              "    .dataframe tbody tr th:only-of-type {\n",
              "        vertical-align: middle;\n",
              "    }\n",
              "\n",
              "    .dataframe tbody tr th {\n",
              "        vertical-align: top;\n",
              "    }\n",
              "\n",
              "    .dataframe thead th {\n",
              "        text-align: right;\n",
              "    }\n",
              "</style>\n",
              "<table border=\"1\" class=\"dataframe\">\n",
              "  <thead>\n",
              "    <tr style=\"text-align: right;\">\n",
              "      <th></th>\n",
              "      <th>Day of year</th>\n",
              "      <th>Hour</th>\n",
              "      <th>week_or_not</th>\n",
              "      <th>road_num</th>\n",
              "      <th>functional_road_class_desc</th>\n",
              "      <th>time_rate</th>\n",
              "      <th>rain</th>\n",
              "      <th>temperature</th>\n",
              "      <th>atmospheric_pressure</th>\n",
              "      <th>humidity</th>\n",
              "      <th>wind_speed</th>\n",
              "      <th>clouds</th>\n",
              "      <th>current_luminosity</th>\n",
              "      <th>atmosphere</th>\n",
              "    </tr>\n",
              "  </thead>\n",
              "  <tbody>\n",
              "    <tr>\n",
              "      <th>0</th>\n",
              "      <td>15.0</td>\n",
              "      <td>19.0</td>\n",
              "      <td>1.0</td>\n",
              "      <td>1.0</td>\n",
              "      <td>3.0</td>\n",
              "      <td>0.999993</td>\n",
              "      <td>0.0</td>\n",
              "      <td>8.0</td>\n",
              "      <td>1019.0</td>\n",
              "      <td>93.0</td>\n",
              "      <td>1.0</td>\n",
              "      <td>12.0</td>\n",
              "      <td>0.0</td>\n",
              "      <td>0.0</td>\n",
              "    </tr>\n",
              "    <tr>\n",
              "      <th>1</th>\n",
              "      <td>15.0</td>\n",
              "      <td>19.0</td>\n",
              "      <td>1.0</td>\n",
              "      <td>2.0</td>\n",
              "      <td>3.0</td>\n",
              "      <td>0.292290</td>\n",
              "      <td>0.0</td>\n",
              "      <td>8.0</td>\n",
              "      <td>1019.0</td>\n",
              "      <td>93.0</td>\n",
              "      <td>1.0</td>\n",
              "      <td>12.0</td>\n",
              "      <td>0.0</td>\n",
              "      <td>0.0</td>\n",
              "    </tr>\n",
              "    <tr>\n",
              "      <th>2</th>\n",
              "      <td>15.0</td>\n",
              "      <td>19.0</td>\n",
              "      <td>1.0</td>\n",
              "      <td>3.0</td>\n",
              "      <td>1.0</td>\n",
              "      <td>0.793552</td>\n",
              "      <td>0.0</td>\n",
              "      <td>8.0</td>\n",
              "      <td>1019.0</td>\n",
              "      <td>93.0</td>\n",
              "      <td>1.0</td>\n",
              "      <td>12.0</td>\n",
              "      <td>0.0</td>\n",
              "      <td>0.0</td>\n",
              "    </tr>\n",
              "    <tr>\n",
              "      <th>3</th>\n",
              "      <td>15.0</td>\n",
              "      <td>19.0</td>\n",
              "      <td>1.0</td>\n",
              "      <td>4.0</td>\n",
              "      <td>2.0</td>\n",
              "      <td>0.545009</td>\n",
              "      <td>0.0</td>\n",
              "      <td>8.0</td>\n",
              "      <td>1019.0</td>\n",
              "      <td>93.0</td>\n",
              "      <td>1.0</td>\n",
              "      <td>12.0</td>\n",
              "      <td>0.0</td>\n",
              "      <td>0.0</td>\n",
              "    </tr>\n",
              "    <tr>\n",
              "      <th>4</th>\n",
              "      <td>15.0</td>\n",
              "      <td>20.0</td>\n",
              "      <td>1.0</td>\n",
              "      <td>1.0</td>\n",
              "      <td>3.0</td>\n",
              "      <td>0.999993</td>\n",
              "      <td>0.0</td>\n",
              "      <td>9.0</td>\n",
              "      <td>1020.0</td>\n",
              "      <td>93.0</td>\n",
              "      <td>1.0</td>\n",
              "      <td>20.0</td>\n",
              "      <td>0.0</td>\n",
              "      <td>0.0</td>\n",
              "    </tr>\n",
              "  </tbody>\n",
              "</table>\n",
              "</div>"
            ],
            "text/plain": [
              "   Day of year  Hour  week_or_not  ...  clouds  current_luminosity  atmosphere\n",
              "0         15.0  19.0          1.0  ...    12.0                 0.0         0.0\n",
              "1         15.0  19.0          1.0  ...    12.0                 0.0         0.0\n",
              "2         15.0  19.0          1.0  ...    12.0                 0.0         0.0\n",
              "3         15.0  19.0          1.0  ...    12.0                 0.0         0.0\n",
              "4         15.0  20.0          1.0  ...    20.0                 0.0         0.0\n",
              "\n",
              "[5 rows x 14 columns]"
            ]
          },
          "metadata": {
            "tags": []
          },
          "execution_count": 320
        }
      ]
    },
    {
      "cell_type": "code",
      "metadata": {
        "id": "5ChaStb2t3kG",
        "colab_type": "code",
        "colab": {
          "base_uri": "https://localhost:8080/",
          "height": 293
        },
        "outputId": "3fa250fe-a68b-4c62-a403-6ef677d0f634"
      },
      "source": [
        "traffic_flow.isnull().sum()"
      ],
      "execution_count": 321,
      "outputs": [
        {
          "output_type": "execute_result",
          "data": {
            "text/plain": [
              "Day of year                      0\n",
              "Hour                             0\n",
              "week_or_not                      0\n",
              "road_num                         0\n",
              "functional_road_class_desc       0\n",
              "time_rate                     6360\n",
              "rain                          6200\n",
              "temperature                   6200\n",
              "atmospheric_pressure          6200\n",
              "humidity                      6200\n",
              "wind_speed                    6200\n",
              "clouds                        6200\n",
              "current_luminosity            6132\n",
              "atmosphere                    6200\n",
              "dtype: int64"
            ]
          },
          "metadata": {
            "tags": []
          },
          "execution_count": 321
        }
      ]
    },
    {
      "cell_type": "code",
      "metadata": {
        "id": "DqlBqJcWt3kS",
        "colab_type": "code",
        "colab": {
          "base_uri": "https://localhost:8080/",
          "height": 206
        },
        "outputId": "d53d3bd5-114b-47cd-eb7a-d108213061b4"
      },
      "source": [
        "punctual_incidents.head()"
      ],
      "execution_count": 322,
      "outputs": [
        {
          "output_type": "execute_result",
          "data": {
            "text/html": [
              "<div>\n",
              "<style scoped>\n",
              "    .dataframe tbody tr th:only-of-type {\n",
              "        vertical-align: middle;\n",
              "    }\n",
              "\n",
              "    .dataframe tbody tr th {\n",
              "        vertical-align: top;\n",
              "    }\n",
              "\n",
              "    .dataframe thead th {\n",
              "        text-align: right;\n",
              "    }\n",
              "</style>\n",
              "<table border=\"1\" class=\"dataframe\">\n",
              "  <thead>\n",
              "    <tr style=\"text-align: right;\">\n",
              "      <th></th>\n",
              "      <th>Day of year</th>\n",
              "      <th>Hour</th>\n",
              "      <th>Minute</th>\n",
              "      <th>magnitude_of_delay_desc</th>\n",
              "      <th>length_in_meters</th>\n",
              "      <th>delay_in_seconds</th>\n",
              "      <th>AvenidaCentral</th>\n",
              "      <th>AvenidaLiberdade</th>\n",
              "      <th>RuaDeCaires</th>\n",
              "      <th>Bosch</th>\n",
              "      <th>week_or_not</th>\n",
              "    </tr>\n",
              "  </thead>\n",
              "  <tbody>\n",
              "    <tr>\n",
              "      <th>0</th>\n",
              "      <td>15</td>\n",
              "      <td>19</td>\n",
              "      <td>0.083333</td>\n",
              "      <td>2</td>\n",
              "      <td>615</td>\n",
              "      <td>111</td>\n",
              "      <td>2871.589353</td>\n",
              "      <td>2871.589353</td>\n",
              "      <td>1767.444236</td>\n",
              "      <td>1267.330940</td>\n",
              "      <td>1</td>\n",
              "    </tr>\n",
              "    <tr>\n",
              "      <th>1</th>\n",
              "      <td>15</td>\n",
              "      <td>19</td>\n",
              "      <td>0.083333</td>\n",
              "      <td>2</td>\n",
              "      <td>1008</td>\n",
              "      <td>210</td>\n",
              "      <td>2571.299699</td>\n",
              "      <td>2161.513827</td>\n",
              "      <td>1486.684810</td>\n",
              "      <td>373.585408</td>\n",
              "      <td>1</td>\n",
              "    </tr>\n",
              "    <tr>\n",
              "      <th>2</th>\n",
              "      <td>15</td>\n",
              "      <td>19</td>\n",
              "      <td>0.083333</td>\n",
              "      <td>2</td>\n",
              "      <td>615</td>\n",
              "      <td>184</td>\n",
              "      <td>965.778946</td>\n",
              "      <td>1027.212214</td>\n",
              "      <td>1758.926643</td>\n",
              "      <td>3206.313071</td>\n",
              "      <td>1</td>\n",
              "    </tr>\n",
              "    <tr>\n",
              "      <th>3</th>\n",
              "      <td>15</td>\n",
              "      <td>19</td>\n",
              "      <td>0.083333</td>\n",
              "      <td>3</td>\n",
              "      <td>322</td>\n",
              "      <td>232</td>\n",
              "      <td>726.759470</td>\n",
              "      <td>855.618311</td>\n",
              "      <td>1665.794200</td>\n",
              "      <td>3053.127261</td>\n",
              "      <td>1</td>\n",
              "    </tr>\n",
              "    <tr>\n",
              "      <th>4</th>\n",
              "      <td>15</td>\n",
              "      <td>19</td>\n",
              "      <td>0.083333</td>\n",
              "      <td>3</td>\n",
              "      <td>208</td>\n",
              "      <td>235</td>\n",
              "      <td>2069.868805</td>\n",
              "      <td>2069.868805</td>\n",
              "      <td>1597.478316</td>\n",
              "      <td>2790.436927</td>\n",
              "      <td>1</td>\n",
              "    </tr>\n",
              "  </tbody>\n",
              "</table>\n",
              "</div>"
            ],
            "text/plain": [
              "   Day of year  Hour    Minute  ...  RuaDeCaires        Bosch  week_or_not\n",
              "0           15    19  0.083333  ...  1767.444236  1267.330940            1\n",
              "1           15    19  0.083333  ...  1486.684810   373.585408            1\n",
              "2           15    19  0.083333  ...  1758.926643  3206.313071            1\n",
              "3           15    19  0.083333  ...  1665.794200  3053.127261            1\n",
              "4           15    19  0.083333  ...  1597.478316  2790.436927            1\n",
              "\n",
              "[5 rows x 11 columns]"
            ]
          },
          "metadata": {
            "tags": []
          },
          "execution_count": 322
        }
      ]
    },
    {
      "cell_type": "code",
      "metadata": {
        "id": "M4KrY6Jft3kg",
        "colab_type": "code",
        "colab": {
          "base_uri": "https://localhost:8080/",
          "height": 237
        },
        "outputId": "61e7776a-c080-4fa9-8d35-0f8c2eedc781"
      },
      "source": [
        "punctual_incidents.isnull().sum()"
      ],
      "execution_count": 323,
      "outputs": [
        {
          "output_type": "execute_result",
          "data": {
            "text/plain": [
              "Day of year                0\n",
              "Hour                       0\n",
              "Minute                     0\n",
              "magnitude_of_delay_desc    0\n",
              "length_in_meters           0\n",
              "delay_in_seconds           0\n",
              "AvenidaCentral             0\n",
              "AvenidaLiberdade           0\n",
              "RuaDeCaires                0\n",
              "Bosch                      0\n",
              "week_or_not                0\n",
              "dtype: int64"
            ]
          },
          "metadata": {
            "tags": []
          },
          "execution_count": 323
        }
      ]
    },
    {
      "cell_type": "code",
      "metadata": {
        "id": "I-8_u212t3kt",
        "colab_type": "code",
        "colab": {
          "base_uri": "https://localhost:8080/",
          "height": 206
        },
        "outputId": "99a7981c-3bee-4ccd-fdd0-be2ab191d1a6"
      },
      "source": [
        "closed_roads.head()"
      ],
      "execution_count": 324,
      "outputs": [
        {
          "output_type": "execute_result",
          "data": {
            "text/html": [
              "<div>\n",
              "<style scoped>\n",
              "    .dataframe tbody tr th:only-of-type {\n",
              "        vertical-align: middle;\n",
              "    }\n",
              "\n",
              "    .dataframe tbody tr th {\n",
              "        vertical-align: top;\n",
              "    }\n",
              "\n",
              "    .dataframe thead th {\n",
              "        text-align: right;\n",
              "    }\n",
              "</style>\n",
              "<table border=\"1\" class=\"dataframe\">\n",
              "  <thead>\n",
              "    <tr style=\"text-align: right;\">\n",
              "      <th></th>\n",
              "      <th>Day of year</th>\n",
              "      <th>Hour</th>\n",
              "      <th>length_in_meters</th>\n",
              "      <th>AvenidaCentral</th>\n",
              "      <th>AvenidaLiberdade</th>\n",
              "      <th>RuaDeCaires</th>\n",
              "      <th>Bosch</th>\n",
              "      <th>week_or_not</th>\n",
              "    </tr>\n",
              "  </thead>\n",
              "  <tbody>\n",
              "    <tr>\n",
              "      <th>0</th>\n",
              "      <td>15</td>\n",
              "      <td>19</td>\n",
              "      <td>88</td>\n",
              "      <td>1582.434953</td>\n",
              "      <td>1206.42697</td>\n",
              "      <td>2467.183987</td>\n",
              "      <td>2947.217154</td>\n",
              "      <td>1</td>\n",
              "    </tr>\n",
              "    <tr>\n",
              "      <th>1</th>\n",
              "      <td>15</td>\n",
              "      <td>20</td>\n",
              "      <td>88</td>\n",
              "      <td>1582.434953</td>\n",
              "      <td>1206.42697</td>\n",
              "      <td>2467.183987</td>\n",
              "      <td>2947.217154</td>\n",
              "      <td>1</td>\n",
              "    </tr>\n",
              "    <tr>\n",
              "      <th>2</th>\n",
              "      <td>15</td>\n",
              "      <td>21</td>\n",
              "      <td>88</td>\n",
              "      <td>1582.434953</td>\n",
              "      <td>1206.42697</td>\n",
              "      <td>2467.183987</td>\n",
              "      <td>2947.217154</td>\n",
              "      <td>1</td>\n",
              "    </tr>\n",
              "    <tr>\n",
              "      <th>3</th>\n",
              "      <td>15</td>\n",
              "      <td>22</td>\n",
              "      <td>88</td>\n",
              "      <td>1582.434953</td>\n",
              "      <td>1206.42697</td>\n",
              "      <td>2467.183987</td>\n",
              "      <td>2947.217154</td>\n",
              "      <td>1</td>\n",
              "    </tr>\n",
              "    <tr>\n",
              "      <th>4</th>\n",
              "      <td>15</td>\n",
              "      <td>23</td>\n",
              "      <td>88</td>\n",
              "      <td>1582.434953</td>\n",
              "      <td>1206.42697</td>\n",
              "      <td>2467.183987</td>\n",
              "      <td>2947.217154</td>\n",
              "      <td>1</td>\n",
              "    </tr>\n",
              "  </tbody>\n",
              "</table>\n",
              "</div>"
            ],
            "text/plain": [
              "   Day of year  Hour  length_in_meters  ...  RuaDeCaires        Bosch  week_or_not\n",
              "0           15    19                88  ...  2467.183987  2947.217154            1\n",
              "1           15    20                88  ...  2467.183987  2947.217154            1\n",
              "2           15    21                88  ...  2467.183987  2947.217154            1\n",
              "3           15    22                88  ...  2467.183987  2947.217154            1\n",
              "4           15    23                88  ...  2467.183987  2947.217154            1\n",
              "\n",
              "[5 rows x 8 columns]"
            ]
          },
          "metadata": {
            "tags": []
          },
          "execution_count": 324
        }
      ]
    },
    {
      "cell_type": "code",
      "metadata": {
        "id": "xTvs0jrYt3k4",
        "colab_type": "code",
        "colab": {
          "base_uri": "https://localhost:8080/",
          "height": 182
        },
        "outputId": "d4e6bd34-6a31-4308-ffab-ed51d97f88b7"
      },
      "source": [
        "closed_roads.isnull().sum()"
      ],
      "execution_count": 325,
      "outputs": [
        {
          "output_type": "execute_result",
          "data": {
            "text/plain": [
              "Day of year         0\n",
              "Hour                0\n",
              "length_in_meters    0\n",
              "AvenidaCentral      0\n",
              "AvenidaLiberdade    0\n",
              "RuaDeCaires         0\n",
              "Bosch               0\n",
              "week_or_not         0\n",
              "dtype: int64"
            ]
          },
          "metadata": {
            "tags": []
          },
          "execution_count": 325
        }
      ]
    },
    {
      "cell_type": "code",
      "metadata": {
        "id": "k9e-HLdht3lC",
        "colab_type": "code",
        "colab": {}
      },
      "source": [
        "from sklearn.preprocessing import MinMaxScaler\n",
        "scaler_flow = MinMaxScaler()\n",
        "traffic_flow_normalized = pd.DataFrame(scaler_flow.fit_transform(traffic_flow.iloc[:,2:]), columns=traffic_flow.columns[2:] )\n",
        "traffic_flow_normalized['Day of year'] = traffic_flow.iloc[:,0]\n",
        "traffic_flow_normalized['Hour'] = traffic_flow.iloc[:,1]\n",
        "\n",
        "punctual_incidents_normalized = pd.DataFrame(scaler_flow.fit_transform(punctual_incidents.iloc[:,3:]),columns=punctual_incidents.columns[3:])\n",
        "punctual_incidents_normalized['Day of year'] = punctual_incidents.iloc[:,0]\n",
        "punctual_incidents_normalized['Hour'] = punctual_incidents.iloc[:,1]\n",
        "punctual_incidents_normalized['Minute'] = punctual_incidents.iloc[:,2]\n",
        "\n",
        "closed_roads_normalized = pd.DataFrame(scaler_flow.fit_transform(closed_roads.iloc[:,2:]),columns=closed_roads.columns[2:])\n",
        "closed_roads_normalized['Day of year'] = closed_roads.iloc[:,0]\n",
        "closed_roads_normalized['Hour'] = closed_roads.iloc[:,1]"
      ],
      "execution_count": 0,
      "outputs": []
    },
    {
      "cell_type": "code",
      "metadata": {
        "id": "vipupwxjt3lN",
        "colab_type": "code",
        "colab": {
          "base_uri": "https://localhost:8080/",
          "height": 320
        },
        "outputId": "8fded77c-f921-4f42-8e1c-4743d73a0ddc"
      },
      "source": [
        "traffic_flow.describe()"
      ],
      "execution_count": 327,
      "outputs": [
        {
          "output_type": "execute_result",
          "data": {
            "text/html": [
              "<div>\n",
              "<style scoped>\n",
              "    .dataframe tbody tr th:only-of-type {\n",
              "        vertical-align: middle;\n",
              "    }\n",
              "\n",
              "    .dataframe tbody tr th {\n",
              "        vertical-align: top;\n",
              "    }\n",
              "\n",
              "    .dataframe thead th {\n",
              "        text-align: right;\n",
              "    }\n",
              "</style>\n",
              "<table border=\"1\" class=\"dataframe\">\n",
              "  <thead>\n",
              "    <tr style=\"text-align: right;\">\n",
              "      <th></th>\n",
              "      <th>Day of year</th>\n",
              "      <th>Hour</th>\n",
              "      <th>week_or_not</th>\n",
              "      <th>road_num</th>\n",
              "      <th>functional_road_class_desc</th>\n",
              "      <th>time_rate</th>\n",
              "      <th>rain</th>\n",
              "      <th>temperature</th>\n",
              "      <th>atmospheric_pressure</th>\n",
              "      <th>humidity</th>\n",
              "      <th>wind_speed</th>\n",
              "      <th>clouds</th>\n",
              "      <th>current_luminosity</th>\n",
              "      <th>atmosphere</th>\n",
              "    </tr>\n",
              "  </thead>\n",
              "  <tbody>\n",
              "    <tr>\n",
              "      <th>count</th>\n",
              "      <td>33620.000000</td>\n",
              "      <td>33620.000000</td>\n",
              "      <td>33620.000000</td>\n",
              "      <td>33620.000000</td>\n",
              "      <td>33620.000000</td>\n",
              "      <td>27260.000000</td>\n",
              "      <td>27420.000000</td>\n",
              "      <td>27420.000000</td>\n",
              "      <td>27420.000000</td>\n",
              "      <td>27420.000000</td>\n",
              "      <td>27420.000000</td>\n",
              "      <td>27420.000000</td>\n",
              "      <td>27488.000000</td>\n",
              "      <td>27420.000000</td>\n",
              "    </tr>\n",
              "    <tr>\n",
              "      <th>mean</th>\n",
              "      <td>190.395598</td>\n",
              "      <td>11.505651</td>\n",
              "      <td>0.714456</td>\n",
              "      <td>2.500000</td>\n",
              "      <td>2.250000</td>\n",
              "      <td>0.874601</td>\n",
              "      <td>0.113056</td>\n",
              "      <td>15.113640</td>\n",
              "      <td>1017.869584</td>\n",
              "      <td>81.825237</td>\n",
              "      <td>3.048869</td>\n",
              "      <td>35.311889</td>\n",
              "      <td>0.977445</td>\n",
              "      <td>0.302553</td>\n",
              "    </tr>\n",
              "    <tr>\n",
              "      <th>std</th>\n",
              "      <td>101.097937</td>\n",
              "      <td>6.924192</td>\n",
              "      <td>0.451680</td>\n",
              "      <td>1.118051</td>\n",
              "      <td>0.829169</td>\n",
              "      <td>0.179114</td>\n",
              "      <td>0.440381</td>\n",
              "      <td>5.508167</td>\n",
              "      <td>5.952428</td>\n",
              "      <td>17.177387</td>\n",
              "      <td>2.176722</td>\n",
              "      <td>34.915653</td>\n",
              "      <td>0.978356</td>\n",
              "      <td>1.008697</td>\n",
              "    </tr>\n",
              "    <tr>\n",
              "      <th>min</th>\n",
              "      <td>15.000000</td>\n",
              "      <td>0.000000</td>\n",
              "      <td>0.000000</td>\n",
              "      <td>1.000000</td>\n",
              "      <td>1.000000</td>\n",
              "      <td>0.000000</td>\n",
              "      <td>0.000000</td>\n",
              "      <td>1.000000</td>\n",
              "      <td>990.000000</td>\n",
              "      <td>19.000000</td>\n",
              "      <td>0.000000</td>\n",
              "      <td>0.000000</td>\n",
              "      <td>0.000000</td>\n",
              "      <td>0.000000</td>\n",
              "    </tr>\n",
              "    <tr>\n",
              "      <th>25%</th>\n",
              "      <td>103.000000</td>\n",
              "      <td>6.000000</td>\n",
              "      <td>0.000000</td>\n",
              "      <td>1.750000</td>\n",
              "      <td>1.750000</td>\n",
              "      <td>0.767359</td>\n",
              "      <td>0.000000</td>\n",
              "      <td>11.000000</td>\n",
              "      <td>1015.000000</td>\n",
              "      <td>72.000000</td>\n",
              "      <td>1.000000</td>\n",
              "      <td>0.000000</td>\n",
              "      <td>0.000000</td>\n",
              "      <td>0.000000</td>\n",
              "    </tr>\n",
              "    <tr>\n",
              "      <th>50%</th>\n",
              "      <td>190.000000</td>\n",
              "      <td>12.000000</td>\n",
              "      <td>1.000000</td>\n",
              "      <td>2.500000</td>\n",
              "      <td>2.500000</td>\n",
              "      <td>0.999996</td>\n",
              "      <td>0.000000</td>\n",
              "      <td>15.000000</td>\n",
              "      <td>1018.000000</td>\n",
              "      <td>87.000000</td>\n",
              "      <td>3.000000</td>\n",
              "      <td>20.000000</td>\n",
              "      <td>1.000000</td>\n",
              "      <td>0.000000</td>\n",
              "    </tr>\n",
              "    <tr>\n",
              "      <th>75%</th>\n",
              "      <td>278.000000</td>\n",
              "      <td>18.000000</td>\n",
              "      <td>1.000000</td>\n",
              "      <td>3.250000</td>\n",
              "      <td>3.000000</td>\n",
              "      <td>0.999999</td>\n",
              "      <td>0.000000</td>\n",
              "      <td>18.000000</td>\n",
              "      <td>1021.000000</td>\n",
              "      <td>93.000000</td>\n",
              "      <td>4.000000</td>\n",
              "      <td>75.000000</td>\n",
              "      <td>2.000000</td>\n",
              "      <td>0.000000</td>\n",
              "    </tr>\n",
              "    <tr>\n",
              "      <th>max</th>\n",
              "      <td>365.000000</td>\n",
              "      <td>23.000000</td>\n",
              "      <td>1.000000</td>\n",
              "      <td>4.000000</td>\n",
              "      <td>3.000000</td>\n",
              "      <td>1.000000</td>\n",
              "      <td>3.000000</td>\n",
              "      <td>34.000000</td>\n",
              "      <td>1033.000000</td>\n",
              "      <td>100.000000</td>\n",
              "      <td>14.000000</td>\n",
              "      <td>100.000000</td>\n",
              "      <td>2.000000</td>\n",
              "      <td>5.000000</td>\n",
              "    </tr>\n",
              "  </tbody>\n",
              "</table>\n",
              "</div>"
            ],
            "text/plain": [
              "        Day of year          Hour  ...  current_luminosity    atmosphere\n",
              "count  33620.000000  33620.000000  ...        27488.000000  27420.000000\n",
              "mean     190.395598     11.505651  ...            0.977445      0.302553\n",
              "std      101.097937      6.924192  ...            0.978356      1.008697\n",
              "min       15.000000      0.000000  ...            0.000000      0.000000\n",
              "25%      103.000000      6.000000  ...            0.000000      0.000000\n",
              "50%      190.000000     12.000000  ...            1.000000      0.000000\n",
              "75%      278.000000     18.000000  ...            2.000000      0.000000\n",
              "max      365.000000     23.000000  ...            2.000000      5.000000\n",
              "\n",
              "[8 rows x 14 columns]"
            ]
          },
          "metadata": {
            "tags": []
          },
          "execution_count": 327
        }
      ]
    },
    {
      "cell_type": "code",
      "metadata": {
        "id": "VLRSEck_t3lZ",
        "colab_type": "code",
        "colab": {}
      },
      "source": [
        "traffic_flow_normalized_masked=traffic_flow_normalized.fillna(value=-1)"
      ],
      "execution_count": 0,
      "outputs": []
    },
    {
      "cell_type": "code",
      "metadata": {
        "id": "BeMc7374t3li",
        "colab_type": "code",
        "colab": {
          "base_uri": "https://localhost:8080/",
          "height": 320
        },
        "outputId": "bb75c0a3-7728-484a-d97d-e9c928404fa6"
      },
      "source": [
        "traffic_flow_normalized_masked.describe()"
      ],
      "execution_count": 329,
      "outputs": [
        {
          "output_type": "execute_result",
          "data": {
            "text/html": [
              "<div>\n",
              "<style scoped>\n",
              "    .dataframe tbody tr th:only-of-type {\n",
              "        vertical-align: middle;\n",
              "    }\n",
              "\n",
              "    .dataframe tbody tr th {\n",
              "        vertical-align: top;\n",
              "    }\n",
              "\n",
              "    .dataframe thead th {\n",
              "        text-align: right;\n",
              "    }\n",
              "</style>\n",
              "<table border=\"1\" class=\"dataframe\">\n",
              "  <thead>\n",
              "    <tr style=\"text-align: right;\">\n",
              "      <th></th>\n",
              "      <th>week_or_not</th>\n",
              "      <th>road_num</th>\n",
              "      <th>functional_road_class_desc</th>\n",
              "      <th>time_rate</th>\n",
              "      <th>rain</th>\n",
              "      <th>temperature</th>\n",
              "      <th>atmospheric_pressure</th>\n",
              "      <th>humidity</th>\n",
              "      <th>wind_speed</th>\n",
              "      <th>clouds</th>\n",
              "      <th>current_luminosity</th>\n",
              "      <th>atmosphere</th>\n",
              "      <th>Day of year</th>\n",
              "      <th>Hour</th>\n",
              "    </tr>\n",
              "  </thead>\n",
              "  <tbody>\n",
              "    <tr>\n",
              "      <th>count</th>\n",
              "      <td>33620.000000</td>\n",
              "      <td>33620.000000</td>\n",
              "      <td>33620.000000</td>\n",
              "      <td>33620.000000</td>\n",
              "      <td>33620.000000</td>\n",
              "      <td>33620.000000</td>\n",
              "      <td>33620.000000</td>\n",
              "      <td>33620.000000</td>\n",
              "      <td>33620.000000</td>\n",
              "      <td>33620.000000</td>\n",
              "      <td>33620.000000</td>\n",
              "      <td>33620.000000</td>\n",
              "      <td>33620.000000</td>\n",
              "      <td>33620.000000</td>\n",
              "    </tr>\n",
              "    <tr>\n",
              "      <th>mean</th>\n",
              "      <td>0.714456</td>\n",
              "      <td>0.500000</td>\n",
              "      <td>0.625000</td>\n",
              "      <td>0.519977</td>\n",
              "      <td>-0.153678</td>\n",
              "      <td>0.164401</td>\n",
              "      <td>0.344192</td>\n",
              "      <td>0.448171</td>\n",
              "      <td>-0.006799</td>\n",
              "      <td>0.103585</td>\n",
              "      <td>0.217192</td>\n",
              "      <td>-0.135062</td>\n",
              "      <td>190.395598</td>\n",
              "      <td>11.505651</td>\n",
              "    </tr>\n",
              "    <tr>\n",
              "      <th>std</th>\n",
              "      <td>0.451680</td>\n",
              "      <td>0.372684</td>\n",
              "      <td>0.414584</td>\n",
              "      <td>0.751698</td>\n",
              "      <td>0.423715</td>\n",
              "      <td>0.573848</td>\n",
              "      <td>0.651300</td>\n",
              "      <td>0.714769</td>\n",
              "      <td>0.492718</td>\n",
              "      <td>0.612224</td>\n",
              "      <td>0.725371</td>\n",
              "      <td>0.449841</td>\n",
              "      <td>101.097937</td>\n",
              "      <td>6.924192</td>\n",
              "    </tr>\n",
              "    <tr>\n",
              "      <th>min</th>\n",
              "      <td>0.000000</td>\n",
              "      <td>0.000000</td>\n",
              "      <td>0.000000</td>\n",
              "      <td>-1.000000</td>\n",
              "      <td>-1.000000</td>\n",
              "      <td>-1.000000</td>\n",
              "      <td>-1.000000</td>\n",
              "      <td>-1.000000</td>\n",
              "      <td>-1.000000</td>\n",
              "      <td>-1.000000</td>\n",
              "      <td>-1.000000</td>\n",
              "      <td>-1.000000</td>\n",
              "      <td>15.000000</td>\n",
              "      <td>0.000000</td>\n",
              "    </tr>\n",
              "    <tr>\n",
              "      <th>25%</th>\n",
              "      <td>0.000000</td>\n",
              "      <td>0.250000</td>\n",
              "      <td>0.375000</td>\n",
              "      <td>0.544118</td>\n",
              "      <td>0.000000</td>\n",
              "      <td>0.212121</td>\n",
              "      <td>0.488372</td>\n",
              "      <td>0.419753</td>\n",
              "      <td>0.000000</td>\n",
              "      <td>0.000000</td>\n",
              "      <td>0.000000</td>\n",
              "      <td>0.000000</td>\n",
              "      <td>103.000000</td>\n",
              "      <td>6.000000</td>\n",
              "    </tr>\n",
              "    <tr>\n",
              "      <th>50%</th>\n",
              "      <td>1.000000</td>\n",
              "      <td>0.500000</td>\n",
              "      <td>0.750000</td>\n",
              "      <td>0.912298</td>\n",
              "      <td>0.000000</td>\n",
              "      <td>0.363636</td>\n",
              "      <td>0.627907</td>\n",
              "      <td>0.765432</td>\n",
              "      <td>0.142857</td>\n",
              "      <td>0.200000</td>\n",
              "      <td>0.000000</td>\n",
              "      <td>0.000000</td>\n",
              "      <td>190.000000</td>\n",
              "      <td>12.000000</td>\n",
              "    </tr>\n",
              "    <tr>\n",
              "      <th>75%</th>\n",
              "      <td>1.000000</td>\n",
              "      <td>0.750000</td>\n",
              "      <td>1.000000</td>\n",
              "      <td>0.999999</td>\n",
              "      <td>0.000000</td>\n",
              "      <td>0.484848</td>\n",
              "      <td>0.697674</td>\n",
              "      <td>0.913580</td>\n",
              "      <td>0.285714</td>\n",
              "      <td>0.750000</td>\n",
              "      <td>1.000000</td>\n",
              "      <td>0.000000</td>\n",
              "      <td>278.000000</td>\n",
              "      <td>18.000000</td>\n",
              "    </tr>\n",
              "    <tr>\n",
              "      <th>max</th>\n",
              "      <td>1.000000</td>\n",
              "      <td>1.000000</td>\n",
              "      <td>1.000000</td>\n",
              "      <td>1.000000</td>\n",
              "      <td>1.000000</td>\n",
              "      <td>1.000000</td>\n",
              "      <td>1.000000</td>\n",
              "      <td>1.000000</td>\n",
              "      <td>1.000000</td>\n",
              "      <td>1.000000</td>\n",
              "      <td>1.000000</td>\n",
              "      <td>1.000000</td>\n",
              "      <td>365.000000</td>\n",
              "      <td>23.000000</td>\n",
              "    </tr>\n",
              "  </tbody>\n",
              "</table>\n",
              "</div>"
            ],
            "text/plain": [
              "        week_or_not      road_num  ...   Day of year          Hour\n",
              "count  33620.000000  33620.000000  ...  33620.000000  33620.000000\n",
              "mean       0.714456      0.500000  ...    190.395598     11.505651\n",
              "std        0.451680      0.372684  ...    101.097937      6.924192\n",
              "min        0.000000      0.000000  ...     15.000000      0.000000\n",
              "25%        0.000000      0.250000  ...    103.000000      6.000000\n",
              "50%        1.000000      0.500000  ...    190.000000     12.000000\n",
              "75%        1.000000      0.750000  ...    278.000000     18.000000\n",
              "max        1.000000      1.000000  ...    365.000000     23.000000\n",
              "\n",
              "[8 rows x 14 columns]"
            ]
          },
          "metadata": {
            "tags": []
          },
          "execution_count": 329
        }
      ]
    },
    {
      "cell_type": "code",
      "metadata": {
        "id": "Qi7W3pKst3l7",
        "colab_type": "code",
        "colab": {
          "base_uri": "https://localhost:8080/",
          "height": 553
        },
        "outputId": "310a428e-fba0-418e-8c70-861f98c70742"
      },
      "source": [
        "grouped_traffic_flow = traffic_flow_normalized_masked.groupby(['Day of year', 'Hour']).agg(lambda x: list(x))\n",
        "grouped_traffic_flow.head()"
      ],
      "execution_count": 330,
      "outputs": [
        {
          "output_type": "execute_result",
          "data": {
            "text/html": [
              "<div>\n",
              "<style scoped>\n",
              "    .dataframe tbody tr th:only-of-type {\n",
              "        vertical-align: middle;\n",
              "    }\n",
              "\n",
              "    .dataframe tbody tr th {\n",
              "        vertical-align: top;\n",
              "    }\n",
              "\n",
              "    .dataframe thead th {\n",
              "        text-align: right;\n",
              "    }\n",
              "</style>\n",
              "<table border=\"1\" class=\"dataframe\">\n",
              "  <thead>\n",
              "    <tr style=\"text-align: right;\">\n",
              "      <th></th>\n",
              "      <th></th>\n",
              "      <th>week_or_not</th>\n",
              "      <th>road_num</th>\n",
              "      <th>functional_road_class_desc</th>\n",
              "      <th>time_rate</th>\n",
              "      <th>rain</th>\n",
              "      <th>temperature</th>\n",
              "      <th>atmospheric_pressure</th>\n",
              "      <th>humidity</th>\n",
              "      <th>wind_speed</th>\n",
              "      <th>clouds</th>\n",
              "      <th>current_luminosity</th>\n",
              "      <th>atmosphere</th>\n",
              "    </tr>\n",
              "    <tr>\n",
              "      <th>Day of year</th>\n",
              "      <th>Hour</th>\n",
              "      <th></th>\n",
              "      <th></th>\n",
              "      <th></th>\n",
              "      <th></th>\n",
              "      <th></th>\n",
              "      <th></th>\n",
              "      <th></th>\n",
              "      <th></th>\n",
              "      <th></th>\n",
              "      <th></th>\n",
              "      <th></th>\n",
              "      <th></th>\n",
              "    </tr>\n",
              "  </thead>\n",
              "  <tbody>\n",
              "    <tr>\n",
              "      <th rowspan=\"5\" valign=\"top\">15.0</th>\n",
              "      <th>19.0</th>\n",
              "      <td>[1.0, 1.0, 1.0, 1.0]</td>\n",
              "      <td>[0.0, 0.3333333333333333, 0.6666666666666667, ...</td>\n",
              "      <td>[1.0, 1.0, 0.0, 0.5]</td>\n",
              "      <td>[0.999993133434998, 0.2922900916604517, 0.7935...</td>\n",
              "      <td>[0.0, 0.0, 0.0, 0.0]</td>\n",
              "      <td>[0.21212121212121213, 0.21212121212121213, 0.2...</td>\n",
              "      <td>[0.6744186046511658, 0.6744186046511658, 0.674...</td>\n",
              "      <td>[0.9135802469135803, 0.9135802469135803, 0.913...</td>\n",
              "      <td>[0.07142857142857142, 0.07142857142857142, 0.0...</td>\n",
              "      <td>[0.12, 0.12, 0.12, 0.12]</td>\n",
              "      <td>[0.0, 0.0, 0.0, 0.0]</td>\n",
              "      <td>[0.0, 0.0, 0.0, 0.0]</td>\n",
              "    </tr>\n",
              "    <tr>\n",
              "      <th>20.0</th>\n",
              "      <td>[1.0, 1.0, 1.0, 1.0]</td>\n",
              "      <td>[0.0, 0.3333333333333333, 0.6666666666666667, ...</td>\n",
              "      <td>[1.0, 1.0, 0.0, 0.5]</td>\n",
              "      <td>[0.999993133434998, 0.8041744270897978, 0.9999...</td>\n",
              "      <td>[0.0, 0.0, 0.0, 0.0]</td>\n",
              "      <td>[0.2424242424242424, 0.2424242424242424, 0.242...</td>\n",
              "      <td>[0.6976744186046524, 0.6976744186046524, 0.697...</td>\n",
              "      <td>[0.9135802469135803, 0.9135802469135803, 0.913...</td>\n",
              "      <td>[0.07142857142857142, 0.07142857142857142, 0.0...</td>\n",
              "      <td>[0.2, 0.2, 0.2, 0.2]</td>\n",
              "      <td>[0.0, 0.0, 0.0, 0.0]</td>\n",
              "      <td>[0.0, 0.0, 0.0, 0.0]</td>\n",
              "    </tr>\n",
              "    <tr>\n",
              "      <th>21.0</th>\n",
              "      <td>[1.0, 1.0, 1.0, 1.0]</td>\n",
              "      <td>[0.0, 0.3333333333333333, 0.6666666666666667, ...</td>\n",
              "      <td>[1.0, 1.0, 0.0, 0.5]</td>\n",
              "      <td>[0.999993133434998, 0.9999995807546644, 0.9999...</td>\n",
              "      <td>[0.0, 0.0, 0.0, 0.0]</td>\n",
              "      <td>[0.2727272727272727, 0.2727272727272727, 0.272...</td>\n",
              "      <td>[0.6976744186046524, 0.6976744186046524, 0.697...</td>\n",
              "      <td>[0.8395061728395061, 0.8395061728395061, 0.839...</td>\n",
              "      <td>[0.14285714285714285, 0.14285714285714285, 0.1...</td>\n",
              "      <td>[0.75, 0.75, 0.75, 0.75]</td>\n",
              "      <td>[0.0, 0.0, 0.0, 0.0]</td>\n",
              "      <td>[0.0, 0.0, 0.0, 0.0]</td>\n",
              "    </tr>\n",
              "    <tr>\n",
              "      <th>22.0</th>\n",
              "      <td>[1.0, 1.0, 1.0, 1.0]</td>\n",
              "      <td>[0.0, 0.3333333333333333, 0.6666666666666667, ...</td>\n",
              "      <td>[1.0, 1.0, 0.0, 0.5]</td>\n",
              "      <td>[0.999993133434998, 0.9999996183486081, 0.9999...</td>\n",
              "      <td>[0.0, 0.0, 0.0, 0.0]</td>\n",
              "      <td>[0.2424242424242424, 0.2424242424242424, 0.242...</td>\n",
              "      <td>[0.6976744186046524, 0.6976744186046524, 0.697...</td>\n",
              "      <td>[0.9135802469135803, 0.9135802469135803, 0.913...</td>\n",
              "      <td>[0.21428571428571427, 0.21428571428571427, 0.2...</td>\n",
              "      <td>[0.75, 0.75, 0.75, 0.75]</td>\n",
              "      <td>[0.0, 0.0, 0.0, 0.0]</td>\n",
              "      <td>[0.0, 0.0, 0.0, 0.0]</td>\n",
              "    </tr>\n",
              "    <tr>\n",
              "      <th>23.0</th>\n",
              "      <td>[1.0, 1.0, 1.0, 1.0]</td>\n",
              "      <td>[0.0, 0.3333333333333333, 0.6666666666666667, ...</td>\n",
              "      <td>[1.0, 1.0, 0.0, 0.5]</td>\n",
              "      <td>[0.999993133434998, 0.9999996183486081, 0.9999...</td>\n",
              "      <td>[0.0, 0.0, 0.0, 0.0]</td>\n",
              "      <td>[0.2727272727272727, 0.2727272727272727, 0.272...</td>\n",
              "      <td>[0.6976744186046524, 0.6976744186046524, 0.697...</td>\n",
              "      <td>[0.9135802469135803, 0.9135802469135803, 0.913...</td>\n",
              "      <td>[0.2857142857142857, 0.2857142857142857, 0.285...</td>\n",
              "      <td>[0.75, 0.75, 0.75, 0.75]</td>\n",
              "      <td>[0.0, 0.0, 0.0, 0.0]</td>\n",
              "      <td>[0.0, 0.0, 0.0, 0.0]</td>\n",
              "    </tr>\n",
              "  </tbody>\n",
              "</table>\n",
              "</div>"
            ],
            "text/plain": [
              "                           week_or_not  ...            atmosphere\n",
              "Day of year Hour                        ...                      \n",
              "15.0        19.0  [1.0, 1.0, 1.0, 1.0]  ...  [0.0, 0.0, 0.0, 0.0]\n",
              "            20.0  [1.0, 1.0, 1.0, 1.0]  ...  [0.0, 0.0, 0.0, 0.0]\n",
              "            21.0  [1.0, 1.0, 1.0, 1.0]  ...  [0.0, 0.0, 0.0, 0.0]\n",
              "            22.0  [1.0, 1.0, 1.0, 1.0]  ...  [0.0, 0.0, 0.0, 0.0]\n",
              "            23.0  [1.0, 1.0, 1.0, 1.0]  ...  [0.0, 0.0, 0.0, 0.0]\n",
              "\n",
              "[5 rows x 12 columns]"
            ]
          },
          "metadata": {
            "tags": []
          },
          "execution_count": 330
        }
      ]
    },
    {
      "cell_type": "code",
      "metadata": {
        "id": "o8vD28X_uF57",
        "colab_type": "code",
        "colab": {}
      },
      "source": [
        "trafic_flow_reshaped = np.zeros((351,24,4,len(grouped_traffic_flow.columns)))\n",
        "trafic_flow_reshaped.fill(-1)"
      ],
      "execution_count": 0,
      "outputs": []
    },
    {
      "cell_type": "code",
      "metadata": {
        "id": "yFdqxucrn-gA",
        "colab_type": "code",
        "colab": {}
      },
      "source": [
        "for (day,hour),content in grouped_traffic_flow.iterrows():\n",
        "    index_day = int(day - 15)\n",
        "    index_hour = int(hour - 1)\n",
        "\n",
        "    \n",
        "    for entrance in range(4):\n",
        "        place_holder = []\n",
        "        for i in range(len(grouped_traffic_flow.columns)):\n",
        "            place_holder.append(content[i][entrance])\n",
        "    \n",
        "        trafic_flow_reshaped[index_day][index_hour][entrance] = np.array(place_holder)\n",
        "        "
      ],
      "execution_count": 0,
      "outputs": []
    },
    {
      "cell_type": "code",
      "metadata": {
        "id": "gRXWVg4Irsuu",
        "colab_type": "code",
        "colab": {
          "base_uri": "https://localhost:8080/",
          "height": 72
        },
        "outputId": "53c755c9-6f21-4e36-964c-d2106ceddb8e"
      },
      "source": [
        "trafic_flow_reshaped[0][18][1]"
      ],
      "execution_count": 333,
      "outputs": [
        {
          "output_type": "execute_result",
          "data": {
            "text/plain": [
              "array([1.        , 0.33333333, 1.        , 0.29229009, 0.        ,\n",
              "       0.21212121, 0.6744186 , 0.91358025, 0.07142857, 0.12      ,\n",
              "       0.        , 0.        ])"
            ]
          },
          "metadata": {
            "tags": []
          },
          "execution_count": 333
        }
      ]
    },
    {
      "cell_type": "code",
      "metadata": {
        "id": "JguahWepuTid",
        "colab_type": "code",
        "colab": {
          "base_uri": "https://localhost:8080/",
          "height": 449
        },
        "outputId": "64fd240e-c2a3-4df8-ce89-ceaca4f2706b"
      },
      "source": [
        "grouped_punctual_incidents = punctual_incidents_normalized.groupby(['Day of year', 'Hour']).agg(lambda x: list(x))\n",
        "grouped_punctual_incidents.head()"
      ],
      "execution_count": 334,
      "outputs": [
        {
          "output_type": "execute_result",
          "data": {
            "text/html": [
              "<div>\n",
              "<style scoped>\n",
              "    .dataframe tbody tr th:only-of-type {\n",
              "        vertical-align: middle;\n",
              "    }\n",
              "\n",
              "    .dataframe tbody tr th {\n",
              "        vertical-align: top;\n",
              "    }\n",
              "\n",
              "    .dataframe thead th {\n",
              "        text-align: right;\n",
              "    }\n",
              "</style>\n",
              "<table border=\"1\" class=\"dataframe\">\n",
              "  <thead>\n",
              "    <tr style=\"text-align: right;\">\n",
              "      <th></th>\n",
              "      <th></th>\n",
              "      <th>magnitude_of_delay_desc</th>\n",
              "      <th>length_in_meters</th>\n",
              "      <th>delay_in_seconds</th>\n",
              "      <th>AvenidaCentral</th>\n",
              "      <th>AvenidaLiberdade</th>\n",
              "      <th>RuaDeCaires</th>\n",
              "      <th>Bosch</th>\n",
              "      <th>week_or_not</th>\n",
              "      <th>Minute</th>\n",
              "    </tr>\n",
              "    <tr>\n",
              "      <th>Day of year</th>\n",
              "      <th>Hour</th>\n",
              "      <th></th>\n",
              "      <th></th>\n",
              "      <th></th>\n",
              "      <th></th>\n",
              "      <th></th>\n",
              "      <th></th>\n",
              "      <th></th>\n",
              "      <th></th>\n",
              "      <th></th>\n",
              "    </tr>\n",
              "  </thead>\n",
              "  <tbody>\n",
              "    <tr>\n",
              "      <th>15</th>\n",
              "      <th>19</th>\n",
              "      <td>[0.5, 0.5, 0.5, 1.0, 1.0, 0.0, 1.0, 1.0, 1.0, ...</td>\n",
              "      <td>[0.0832409972299169, 0.13767313019390584, 0.08...</td>\n",
              "      <td>[0.01688664596273292, 0.03610248447204969, 0.0...</td>\n",
              "      <td>[0.3788401855751303, 0.3391396277838723, 0.126...</td>\n",
              "      <td>[0.4055087009098813, 0.30502284857314715, 0.14...</td>\n",
              "      <td>[0.27240673892583406, 0.22880618977279096, 0.2...</td>\n",
              "      <td>[0.1746011688174085, 0.05065291773696623, 0.44...</td>\n",
              "      <td>[1.0, 1.0, 1.0, 1.0, 1.0, 1.0, 1.0, 1.0, 1.0, ...</td>\n",
              "      <td>[0.08333333333333333, 0.08333333333333333, 0.0...</td>\n",
              "    </tr>\n",
              "    <tr>\n",
              "      <th rowspan=\"4\" valign=\"top\">16</th>\n",
              "      <th>8</th>\n",
              "      <td>[1.0, 0.5, 1.0, 1.0, 1.0, 1.0, 0.5, 1.0, 1.0, ...</td>\n",
              "      <td>[0.038227146814404436, 0.09182825484764544, 0....</td>\n",
              "      <td>[0.01106366459627329, 0.024068322981366456, 0....</td>\n",
              "      <td>[0.5507741575713005, 0.37627702628430915, 0.30...</td>\n",
              "      <td>[0.5029863166330251, 0.3463496762020834, 0.285...</td>\n",
              "      <td>[0.48364530622437174, 0.26985749005677173, 0.1...</td>\n",
              "      <td>[0.277122816936313, 0.0902808690565426, 0.0318...</td>\n",
              "      <td>[1.0, 1.0, 1.0, 1.0, 1.0, 1.0, 1.0, 1.0, 1.0, ...</td>\n",
              "      <td>[0.4, 0.4, 0.4, 0.4, 0.4, 0.4, 0.4, 0.4, 0.4, ...</td>\n",
              "    </tr>\n",
              "    <tr>\n",
              "      <th>9</th>\n",
              "      <td>[1.0, 0.0, 1.0, 1.0, 0.5, 1.0, 1.0, 1.0, 1.0, ...</td>\n",
              "      <td>[0.0832409972299169, 0.1926592797783934, 0.059...</td>\n",
              "      <td>[0.04444875776397515, 0.026979813664596272, 0....</td>\n",
              "      <td>[0.3788401855751303, 0.23008203940512229, 0.29...</td>\n",
              "      <td>[0.4055087009098813, 0.24627870129517784, 0.27...</td>\n",
              "      <td>[0.27240673892583406, 0.09862601976517309, 0.1...</td>\n",
              "      <td>[0.1746011688174085, 0.1230668119990839, 0.028...</td>\n",
              "      <td>[1.0, 1.0, 1.0, 1.0, 1.0, 1.0, 1.0, 1.0, 1.0, ...</td>\n",
              "      <td>[0.06666666666666668, 0.06666666666666668, 0.0...</td>\n",
              "    </tr>\n",
              "    <tr>\n",
              "      <th>10</th>\n",
              "      <td>[0.0]</td>\n",
              "      <td>[0.10664819944598339]</td>\n",
              "      <td>[0.007569875776397514]</td>\n",
              "      <td>[0.37955291444546274]</td>\n",
              "      <td>[0.26506759955548714]</td>\n",
              "      <td>[0.39197836406003533]</td>\n",
              "      <td>[0.28868189688066065]</td>\n",
              "      <td>[1.0]</td>\n",
              "      <td>[0.06666666666666668]</td>\n",
              "    </tr>\n",
              "    <tr>\n",
              "      <th>11</th>\n",
              "      <td>[1.0]</td>\n",
              "      <td>[0.03462603878116344]</td>\n",
              "      <td>[0.023874223602484472]</td>\n",
              "      <td>[0.08186255874814218]</td>\n",
              "      <td>[0.13422039930584245]</td>\n",
              "      <td>[0.2818255853309882]</td>\n",
              "      <td>[0.376068381679153]</td>\n",
              "      <td>[1.0]</td>\n",
              "      <td>[0.7333333333333333]</td>\n",
              "    </tr>\n",
              "  </tbody>\n",
              "</table>\n",
              "</div>"
            ],
            "text/plain": [
              "                                            magnitude_of_delay_desc  ...                                             Minute\n",
              "Day of year Hour                                                     ...                                                   \n",
              "15          19    [0.5, 0.5, 0.5, 1.0, 1.0, 0.0, 1.0, 1.0, 1.0, ...  ...  [0.08333333333333333, 0.08333333333333333, 0.0...\n",
              "16          8     [1.0, 0.5, 1.0, 1.0, 1.0, 1.0, 0.5, 1.0, 1.0, ...  ...  [0.4, 0.4, 0.4, 0.4, 0.4, 0.4, 0.4, 0.4, 0.4, ...\n",
              "            9     [1.0, 0.0, 1.0, 1.0, 0.5, 1.0, 1.0, 1.0, 1.0, ...  ...  [0.06666666666666668, 0.06666666666666668, 0.0...\n",
              "            10                                                [0.0]  ...                              [0.06666666666666668]\n",
              "            11                                                [1.0]  ...                               [0.7333333333333333]\n",
              "\n",
              "[5 rows x 9 columns]"
            ]
          },
          "metadata": {
            "tags": []
          },
          "execution_count": 334
        }
      ]
    },
    {
      "cell_type": "code",
      "metadata": {
        "id": "ta9Qp3pkthI3",
        "colab_type": "code",
        "colab": {}
      },
      "source": [
        "punctual_incidents_reshaped = np.zeros((351,24,223,len(grouped_punctual_incidents.columns)))\n",
        "punctual_incidents_reshaped.fill(-1)"
      ],
      "execution_count": 0,
      "outputs": []
    },
    {
      "cell_type": "code",
      "metadata": {
        "id": "SRKdHbqFupoA",
        "colab_type": "code",
        "colab": {}
      },
      "source": [
        "for (day,hour),content in grouped_punctual_incidents.iterrows():\n",
        "    index_day = int(day - 15)\n",
        "    index_hour = int(hour - 1)\n",
        "\n",
        "    \n",
        "    for entrance in range(len(content[0])):\n",
        "        place_holder = []\n",
        "        for i in range(len(grouped_punctual_incidents.columns)):\n",
        "            place_holder.append(content[i][entrance])\n",
        "    \n",
        "        punctual_incidents_reshaped[index_day][index_hour][entrance] = np.array(place_holder)\n",
        "        "
      ],
      "execution_count": 0,
      "outputs": []
    },
    {
      "cell_type": "code",
      "metadata": {
        "id": "Gh4cUoKRvW-o",
        "colab_type": "code",
        "colab": {
          "base_uri": "https://localhost:8080/",
          "height": 256
        },
        "outputId": "c5ed3e0a-593e-45e3-9020-3b5ac5aeb7cd"
      },
      "source": [
        "punctual_incidents_reshaped[0][18]"
      ],
      "execution_count": 337,
      "outputs": [
        {
          "output_type": "execute_result",
          "data": {
            "text/plain": [
              "array([[ 0.5       ,  0.083241  ,  0.01688665, ...,  0.17460117,\n",
              "         1.        ,  0.08333333],\n",
              "       [ 0.5       ,  0.13767313,  0.03610248, ...,  0.05065292,\n",
              "         1.        ,  0.08333333],\n",
              "       [ 0.5       ,  0.083241  ,  0.0310559 , ...,  0.44350707,\n",
              "         1.        ,  0.08333333],\n",
              "       ...,\n",
              "       [-1.        , -1.        , -1.        , ..., -1.        ,\n",
              "        -1.        , -1.        ],\n",
              "       [-1.        , -1.        , -1.        , ..., -1.        ,\n",
              "        -1.        , -1.        ],\n",
              "       [-1.        , -1.        , -1.        , ..., -1.        ,\n",
              "        -1.        , -1.        ]])"
            ]
          },
          "metadata": {
            "tags": []
          },
          "execution_count": 337
        }
      ]
    },
    {
      "cell_type": "code",
      "metadata": {
        "id": "5Dzgx4P-vkmc",
        "colab_type": "code",
        "colab": {
          "base_uri": "https://localhost:8080/",
          "height": 238
        },
        "outputId": "55e69031-50f0-4bd5-bc50-78347be9d434"
      },
      "source": [
        "grouped_closed_roads = closed_roads_normalized.groupby(['Day of year', 'Hour']).agg(lambda x: list(x))\n",
        "grouped_closed_roads.head()"
      ],
      "execution_count": 338,
      "outputs": [
        {
          "output_type": "execute_result",
          "data": {
            "text/html": [
              "<div>\n",
              "<style scoped>\n",
              "    .dataframe tbody tr th:only-of-type {\n",
              "        vertical-align: middle;\n",
              "    }\n",
              "\n",
              "    .dataframe tbody tr th {\n",
              "        vertical-align: top;\n",
              "    }\n",
              "\n",
              "    .dataframe thead th {\n",
              "        text-align: right;\n",
              "    }\n",
              "</style>\n",
              "<table border=\"1\" class=\"dataframe\">\n",
              "  <thead>\n",
              "    <tr style=\"text-align: right;\">\n",
              "      <th></th>\n",
              "      <th></th>\n",
              "      <th>length_in_meters</th>\n",
              "      <th>AvenidaCentral</th>\n",
              "      <th>AvenidaLiberdade</th>\n",
              "      <th>RuaDeCaires</th>\n",
              "      <th>Bosch</th>\n",
              "      <th>week_or_not</th>\n",
              "    </tr>\n",
              "    <tr>\n",
              "      <th>Day of year</th>\n",
              "      <th>Hour</th>\n",
              "      <th></th>\n",
              "      <th></th>\n",
              "      <th></th>\n",
              "      <th></th>\n",
              "      <th></th>\n",
              "      <th></th>\n",
              "    </tr>\n",
              "  </thead>\n",
              "  <tbody>\n",
              "    <tr>\n",
              "      <th rowspan=\"5\" valign=\"top\">15</th>\n",
              "      <th>19</th>\n",
              "      <td>[0.03626306084818685]</td>\n",
              "      <td>[0.18012757697717777]</td>\n",
              "      <td>[0.15036128164510024]</td>\n",
              "      <td>[0.30646102349450727]</td>\n",
              "      <td>[0.4025830411786491]</td>\n",
              "      <td>[1.0]</td>\n",
              "    </tr>\n",
              "    <tr>\n",
              "      <th>20</th>\n",
              "      <td>[0.03626306084818685]</td>\n",
              "      <td>[0.18012757697717777]</td>\n",
              "      <td>[0.15036128164510024]</td>\n",
              "      <td>[0.30646102349450727]</td>\n",
              "      <td>[0.4025830411786491]</td>\n",
              "      <td>[1.0]</td>\n",
              "    </tr>\n",
              "    <tr>\n",
              "      <th>21</th>\n",
              "      <td>[0.03626306084818685]</td>\n",
              "      <td>[0.18012757697717777]</td>\n",
              "      <td>[0.15036128164510024]</td>\n",
              "      <td>[0.30646102349450727]</td>\n",
              "      <td>[0.4025830411786491]</td>\n",
              "      <td>[1.0]</td>\n",
              "    </tr>\n",
              "    <tr>\n",
              "      <th>22</th>\n",
              "      <td>[0.03626306084818685]</td>\n",
              "      <td>[0.18012757697717777]</td>\n",
              "      <td>[0.15036128164510024]</td>\n",
              "      <td>[0.30646102349450727]</td>\n",
              "      <td>[0.4025830411786491]</td>\n",
              "      <td>[1.0]</td>\n",
              "    </tr>\n",
              "    <tr>\n",
              "      <th>23</th>\n",
              "      <td>[0.03626306084818685]</td>\n",
              "      <td>[0.18012757697717777]</td>\n",
              "      <td>[0.15036128164510024]</td>\n",
              "      <td>[0.30646102349450727]</td>\n",
              "      <td>[0.4025830411786491]</td>\n",
              "      <td>[1.0]</td>\n",
              "    </tr>\n",
              "  </tbody>\n",
              "</table>\n",
              "</div>"
            ],
            "text/plain": [
              "                       length_in_meters  ... week_or_not\n",
              "Day of year Hour                         ...            \n",
              "15          19    [0.03626306084818685]  ...       [1.0]\n",
              "            20    [0.03626306084818685]  ...       [1.0]\n",
              "            21    [0.03626306084818685]  ...       [1.0]\n",
              "            22    [0.03626306084818685]  ...       [1.0]\n",
              "            23    [0.03626306084818685]  ...       [1.0]\n",
              "\n",
              "[5 rows x 6 columns]"
            ]
          },
          "metadata": {
            "tags": []
          },
          "execution_count": 338
        }
      ]
    },
    {
      "cell_type": "code",
      "metadata": {
        "id": "BcjTT6H_vxKJ",
        "colab_type": "code",
        "colab": {}
      },
      "source": [
        "closed_roads_reshaped = np.zeros((351,24,7,len(grouped_closed_roads.columns)))\n",
        "closed_roads_reshaped.fill(-1)"
      ],
      "execution_count": 0,
      "outputs": []
    },
    {
      "cell_type": "code",
      "metadata": {
        "id": "tfX2r4VhwhFf",
        "colab_type": "code",
        "colab": {}
      },
      "source": [
        "for (day,hour),content in grouped_closed_roads.iterrows():\n",
        "    index_day = int(day - 15)\n",
        "    index_hour = int(hour - 1)\n",
        "\n",
        "    \n",
        "    for entrance in range(len(content[0])):\n",
        "        place_holder = []\n",
        "        for i in range(len(grouped_closed_roads.columns)):\n",
        "            place_holder.append(content[i][entrance])\n",
        "    \n",
        "        closed_roads_reshaped[index_day][index_hour][entrance] = np.array(place_holder)\n",
        "        "
      ],
      "execution_count": 0,
      "outputs": []
    },
    {
      "cell_type": "code",
      "metadata": {
        "id": "OwpkBDqQwpgm",
        "colab_type": "code",
        "colab": {
          "base_uri": "https://localhost:8080/",
          "height": 274
        },
        "outputId": "ed9fe4d3-a0bd-4be9-ef8f-43025076dcc3"
      },
      "source": [
        "closed_roads_reshaped[0][18]"
      ],
      "execution_count": 341,
      "outputs": [
        {
          "output_type": "execute_result",
          "data": {
            "text/plain": [
              "array([[ 0.03626306,  0.18012758,  0.15036128,  0.30646102,  0.40258304,\n",
              "         1.        ],\n",
              "       [-1.        , -1.        , -1.        , -1.        , -1.        ,\n",
              "        -1.        ],\n",
              "       [-1.        , -1.        , -1.        , -1.        , -1.        ,\n",
              "        -1.        ],\n",
              "       [-1.        , -1.        , -1.        , -1.        , -1.        ,\n",
              "        -1.        ],\n",
              "       [-1.        , -1.        , -1.        , -1.        , -1.        ,\n",
              "        -1.        ],\n",
              "       [-1.        , -1.        , -1.        , -1.        , -1.        ,\n",
              "        -1.        ],\n",
              "       [-1.        , -1.        , -1.        , -1.        , -1.        ,\n",
              "        -1.        ]])"
            ]
          },
          "metadata": {
            "tags": []
          },
          "execution_count": 341
        }
      ]
    },
    {
      "cell_type": "code",
      "metadata": {
        "id": "ND66VAY8y8Pa",
        "colab_type": "code",
        "colab": {
          "base_uri": "https://localhost:8080/",
          "height": 35
        },
        "outputId": "74a49e4b-66bf-40e1-f448-2154470988af"
      },
      "source": [
        "trafic_flow_reshaped.shape"
      ],
      "execution_count": 342,
      "outputs": [
        {
          "output_type": "execute_result",
          "data": {
            "text/plain": [
              "(351, 24, 4, 12)"
            ]
          },
          "metadata": {
            "tags": []
          },
          "execution_count": 342
        }
      ]
    },
    {
      "cell_type": "code",
      "metadata": {
        "id": "loDKZSf3zBZW",
        "colab_type": "code",
        "colab": {
          "base_uri": "https://localhost:8080/",
          "height": 35
        },
        "outputId": "73c1a9c7-65e1-489b-a5bf-728bf844062e"
      },
      "source": [
        "punctual_incidents_reshaped.shape"
      ],
      "execution_count": 343,
      "outputs": [
        {
          "output_type": "execute_result",
          "data": {
            "text/plain": [
              "(351, 24, 223, 9)"
            ]
          },
          "metadata": {
            "tags": []
          },
          "execution_count": 343
        }
      ]
    },
    {
      "cell_type": "code",
      "metadata": {
        "id": "JRyRgFtrzBhH",
        "colab_type": "code",
        "colab": {
          "base_uri": "https://localhost:8080/",
          "height": 35
        },
        "outputId": "db52537e-9ef1-4e84-b6ed-8fbc12a7cdbd"
      },
      "source": [
        "closed_roads_reshaped.shape"
      ],
      "execution_count": 344,
      "outputs": [
        {
          "output_type": "execute_result",
          "data": {
            "text/plain": [
              "(351, 24, 7, 6)"
            ]
          },
          "metadata": {
            "tags": []
          },
          "execution_count": 344
        }
      ]
    },
    {
      "cell_type": "code",
      "metadata": {
        "id": "Nqbbn6c833V6",
        "colab_type": "code",
        "colab": {
          "base_uri": "https://localhost:8080/",
          "height": 237
        },
        "outputId": "4f6ae220-3762-45ea-e49f-a00c8037431b"
      },
      "source": [
        "trafic_flow_reshaped[0][18]"
      ],
      "execution_count": 345,
      "outputs": [
        {
          "output_type": "execute_result",
          "data": {
            "text/plain": [
              "array([[1.        , 0.        , 1.        , 0.99999313, 0.        ,\n",
              "        0.21212121, 0.6744186 , 0.91358025, 0.07142857, 0.12      ,\n",
              "        0.        , 0.        ],\n",
              "       [1.        , 0.33333333, 1.        , 0.29229009, 0.        ,\n",
              "        0.21212121, 0.6744186 , 0.91358025, 0.07142857, 0.12      ,\n",
              "        0.        , 0.        ],\n",
              "       [1.        , 0.66666667, 0.        , 0.79355269, 0.        ,\n",
              "        0.21212121, 0.6744186 , 0.91358025, 0.07142857, 0.12      ,\n",
              "        0.        , 0.        ],\n",
              "       [1.        , 1.        , 0.5       , 0.54500946, 0.        ,\n",
              "        0.21212121, 0.6744186 , 0.91358025, 0.07142857, 0.12      ,\n",
              "        0.        , 0.        ]])"
            ]
          },
          "metadata": {
            "tags": []
          },
          "execution_count": 345
        }
      ]
    },
    {
      "cell_type": "code",
      "metadata": {
        "id": "ErCdayx49egO",
        "colab_type": "code",
        "colab": {
          "base_uri": "https://localhost:8080/",
          "height": 35
        },
        "outputId": "f1a104ed-204d-48ac-fb62-7df5b60250bb"
      },
      "source": [
        "trafic_flow_reshaped[0][18][:,3]"
      ],
      "execution_count": 346,
      "outputs": [
        {
          "output_type": "execute_result",
          "data": {
            "text/plain": [
              "array([0.99999313, 0.29229009, 0.79355269, 0.54500946])"
            ]
          },
          "metadata": {
            "tags": []
          },
          "execution_count": 346
        }
      ]
    },
    {
      "cell_type": "code",
      "metadata": {
        "id": "dKPIWgn8BfrW",
        "colab_type": "code",
        "colab": {}
      },
      "source": [
        "background_hours = 5"
      ],
      "execution_count": 0,
      "outputs": []
    },
    {
      "cell_type": "code",
      "metadata": {
        "id": "bPMsCIUr2WLW",
        "colab_type": "code",
        "colab": {
          "base_uri": "https://localhost:8080/",
          "height": 135
        },
        "outputId": "1cafb1ad-65fa-468e-ed10-da1fbfe7b87c"
      },
      "source": [
        "\n",
        "labels = []\n",
        "timesteps = []\n",
        "\n",
        "for day in range(351):\n",
        "  for hour in range(24):\n",
        "    if (day < 346):\n",
        "        tbf = []\n",
        "        for context in range(background_hours):\n",
        "            current_jump = hour+context\n",
        "            time_frame = np.repeat( [['''(day+15)/365 ,''' hour/24 ]] , trafic_flow_reshaped.shape[2], axis=0) \n",
        "            if current_jump > 23 :\n",
        "                adjusted_jump = current_jump - 23\n",
        "                tbf.append( np.hstack((time_frame,trafic_flow_reshaped[day+1][adjusted_jump-1])) )\n",
        "\n",
        "            else:\n",
        "                tbf.append(np.hstack((time_frame,trafic_flow_reshaped[day][hour+context])))\n",
        "\n",
        "        timesteps.append(tbf)\n",
        "        label_jump = hour+background_hours\n",
        "\n",
        "        if label_jump > 23 :\n",
        "          adjusted_label_jump = label_jump - 23\n",
        "          labels.append(trafic_flow_reshaped[day+1][adjusted_label_jump-1][:,3])\n",
        "        else :\n",
        "          labels.append(trafic_flow_reshaped[day][hour+background_hours][:,3])\n",
        "\n"
      ],
      "execution_count": 348,
      "outputs": [
        {
          "output_type": "error",
          "ename": "SyntaxError",
          "evalue": "ignored",
          "traceback": [
            "\u001b[0;36m  File \u001b[0;32m\"<ipython-input-348-e1047a4fcfb2>\"\u001b[0;36m, line \u001b[0;32m11\u001b[0m\n\u001b[0;31m    time_frame = np.repeat( [['''(day+15)/365 ,''' hour/24 ]] , trafic_flow_reshaped.shape[2], axis=0)\u001b[0m\n\u001b[0m                                                      ^\u001b[0m\n\u001b[0;31mSyntaxError\u001b[0m\u001b[0;31m:\u001b[0m invalid syntax\n"
          ]
        }
      ]
    },
    {
      "cell_type": "code",
      "metadata": {
        "id": "oDmJ0onGAOXr",
        "colab_type": "code",
        "colab": {}
      },
      "source": [
        "traffic_flow_model_data = np.array(timesteps)\n",
        "labels = np.array(labels)\n",
        "print(traffic_flow_model_data.shape)\n",
        "print(labels.shape)"
      ],
      "execution_count": 0,
      "outputs": []
    },
    {
      "cell_type": "code",
      "metadata": {
        "id": "dZbp7rTUBq9-",
        "colab_type": "code",
        "colab": {}
      },
      "source": [
        "#labels = []\n",
        "timesteps = []\n",
        "\n",
        "for day in range(351):\n",
        "  for hour in range(24):\n",
        "    if (day < 346):\n",
        "        tbf = []\n",
        "        for context in range(background_hours):\n",
        "            current_jump = hour+context\n",
        "            time_frame = np.repeat( [['''(day+15)/365 ,''' hour/24 ]] , punctual_incidents_reshaped.shape[2], axis=0) \n",
        "\n",
        "            if current_jump > 23 :\n",
        "                adjusted_jump = current_jump - 23\n",
        "                tbf.append(  np.hstack((time_frame,punctual_incidents_reshaped[day+1][adjusted_jump-1])))\n",
        "\n",
        "            else:\n",
        "                tbf.append( np.hstack(( time_frame, punctual_incidents_reshaped[day][hour+context])))\n",
        "\n",
        "        timesteps.append(tbf)\n",
        "        '''label_jump = hour+background_hours\n",
        "\n",
        "        if label_jump > 23 :\n",
        "          adjusted_label_jump = label_jump - 23\n",
        "          labels.append(punctual_incidents_reshaped[day+1][adjusted_label_jump-1][:,3])\n",
        "        else :\n",
        "          labels.append(punctual_incidents_reshaped[day][hour+background_hours][:,3])\n",
        "'''\n"
      ],
      "execution_count": 0,
      "outputs": []
    },
    {
      "cell_type": "code",
      "metadata": {
        "id": "9Xbq9A5EBxOY",
        "colab_type": "code",
        "colab": {}
      },
      "source": [
        "punctual_incidents_model_data = np.array(timesteps)\n",
        "#punctual_incidents_labels = np.array(labels)\n",
        "print(punctual_incidents_model_data.shape)\n",
        "#print(punctual_incidents_labels.shape)"
      ],
      "execution_count": 0,
      "outputs": []
    },
    {
      "cell_type": "code",
      "metadata": {
        "id": "70QMUnpLBd5a",
        "colab_type": "code",
        "colab": {}
      },
      "source": [
        "#labels = []\n",
        "timesteps = []\n",
        "\n",
        "for day in range(351):\n",
        "  for hour in range(24):\n",
        "    if (day < 346):\n",
        "        tbf = []\n",
        "        for context in range(background_hours):\n",
        "            current_jump = hour+context\n",
        "            time_frame = np.repeat( [['''(day+15)/365 ,''' hour/24 ]] , closed_roads_reshaped.shape[2], axis=0) \n",
        "\n",
        "            if current_jump > 23 :\n",
        "                adjusted_jump = current_jump - 23\n",
        "                tbf.append( np.hstack(( time_frame, closed_roads_reshaped[day+1][adjusted_jump-1])))\n",
        "\n",
        "            else:\n",
        "                tbf.append( np.hstack((time_frame, closed_roads_reshaped[day][hour+context])))\n",
        "\n",
        "        timesteps.append(tbf)\n",
        "        '''label_jump = hour+background_hours\n",
        "\n",
        "        if label_jump > 23 :\n",
        "          adjusted_label_jump = label_jump - 23\n",
        "          labels.append(closed_roads_reshaped[day+1][adjusted_label_jump-1][:,3])\n",
        "        else :\n",
        "          labels.append(closed_roads_reshaped[day][hour+background_hours][:,3])'''\n",
        "\n"
      ],
      "execution_count": 0,
      "outputs": []
    },
    {
      "cell_type": "code",
      "metadata": {
        "id": "4n4J_dMVB63Y",
        "colab_type": "code",
        "colab": {}
      },
      "source": [
        "closed_roads_model_data = np.array(timesteps)\n",
        "#closed_roads_labels = np.array(labels)\n",
        "print(closed_roads_model_data.shape)\n",
        "#print(closed_roads_labels.shape)"
      ],
      "execution_count": 0,
      "outputs": []
    },
    {
      "cell_type": "code",
      "metadata": {
        "id": "K4Vx1V4gIgdZ",
        "colab_type": "code",
        "colab": {}
      },
      "source": [
        "indexes = []\n",
        "for i in range(closed_roads_model_data.shape[0]):\n",
        "    if -1 in labels[i]:\n",
        "      indexes.append(i)\n",
        "\n",
        "corrected_traffic_flow_model_data = np.delete(traffic_flow_model_data,indexes,axis=0)\n",
        "corrected_labels = np.delete(labels,indexes,axis=0)\n",
        "corrected_punctual_incidents_model_data = np.delete(punctual_incidents_model_data,indexes,axis=0)\n",
        "corrected_closed_roads_model_data = np.delete(closed_roads_model_data,indexes,axis=0)"
      ],
      "execution_count": 0,
      "outputs": []
    },
    {
      "cell_type": "code",
      "metadata": {
        "id": "KorllVJFJbDg",
        "colab_type": "code",
        "colab": {
          "base_uri": "https://localhost:8080/",
          "height": 90
        },
        "outputId": "c105f408-a6d3-4fdc-80d9-de7df6098363"
      },
      "source": [
        "print('Taffic flow data shape: {}'.format(corrected_traffic_flow_model_data.shape))\n",
        "print('Punctual incidents data shape: {}'.format(corrected_punctual_incidents_model_data.shape))\n",
        "print('Closed roads data shape: {}'.format(corrected_closed_roads_model_data.shape))\n",
        "print('Labels shape: {}'.format(corrected_labels.shape))"
      ],
      "execution_count": 375,
      "outputs": [
        {
          "output_type": "stream",
          "text": [
            "Taffic flow data shape: (6700, 5, 4, 14)\n",
            "Punctual incidents data shape: (6700, 5, 223, 11)\n",
            "Closed roads data shape: (6700, 5, 7, 8)\n",
            "Labels shape: (6700, 4)\n"
          ],
          "name": "stdout"
        }
      ]
    },
    {
      "cell_type": "code",
      "metadata": {
        "id": "ndylMimzt3nZ",
        "colab_type": "code",
        "colab": {}
      },
      "source": [
        "import tensorflow as tf\n",
        "from tensorflow import keras\n",
        "from tensorflow.keras.models import Model\n",
        "from tensorflow.keras.layers import Input,LSTM,Masking,concatenate,Dense,Flatten,Reshape"
      ],
      "execution_count": 0,
      "outputs": []
    },
    {
      "cell_type": "code",
      "metadata": {
        "id": "JzaM6Gk4F8gs",
        "colab_type": "code",
        "colab": {
          "base_uri": "https://localhost:8080/",
          "height": 752
        },
        "outputId": "398f58fc-5358-4bc1-c5bc-4b6a35848310"
      },
      "source": [
        "traffic_flow_input = Input(shape = (5,4,14))\n",
        "punctual_incidents_input = Input(shape = (5,223,11))\n",
        "closed_roads_input = Input(shape = (5,7,8))\n",
        "\n",
        "traffic_flow_input_weird = Reshape((5,4*14))(traffic_flow_input)\n",
        "punctual_incidents_input_weird  = Reshape((5,223*11))(punctual_incidents_input)\n",
        "closed_roads_input_weird  = Reshape((5,7*8))(closed_roads_input)\n",
        "\n",
        "mask1 = Masking(mask_value = -1)(traffic_flow_input_weird)\n",
        "lstm1 = LSTM(units=16)(mask1)\n",
        "#flat1 = Flatten()(lstm1)\n",
        "\n",
        "mask2 = Masking(mask_value = -1)(punctual_incidents_input_weird)\n",
        "lstm2 = LSTM(units=16)(mask2)\n",
        "#flat2 = Flatten()(lstm2)\n",
        "\n",
        "mask3 = Masking(mask_value = -1)(closed_roads_input_weird)\n",
        "lstm3 = LSTM(units=16)(mask3)\n",
        "#flat3 = Flatten()(lstm3)\n",
        "\n",
        "\n",
        "concat_result = concatenate( [lstm1,lstm2,lstm3],axis=1)\n",
        "\n",
        "dense1 = Dense(32,activation='relu')(concat_result)\n",
        "\n",
        "dense_output = Dense(4,activation='sigmoid')(dense1)\n",
        "\n",
        "model = Model(inputs=[traffic_flow_input,punctual_incidents_input,closed_roads_input], outputs = dense_output, name='traffic_flow_lstm')\n",
        "\n",
        "model.summary()"
      ],
      "execution_count": 396,
      "outputs": [
        {
          "output_type": "stream",
          "text": [
            "Model: \"traffic_flow_lstm\"\n",
            "__________________________________________________________________________________________________\n",
            "Layer (type)                    Output Shape         Param #     Connected to                     \n",
            "==================================================================================================\n",
            "input_115 (InputLayer)          [(None, 5, 4, 14)]   0                                            \n",
            "__________________________________________________________________________________________________\n",
            "input_116 (InputLayer)          [(None, 5, 223, 11)] 0                                            \n",
            "__________________________________________________________________________________________________\n",
            "input_117 (InputLayer)          [(None, 5, 7, 8)]    0                                            \n",
            "__________________________________________________________________________________________________\n",
            "reshape_45 (Reshape)            (None, 5, 56)        0           input_115[0][0]                  \n",
            "__________________________________________________________________________________________________\n",
            "reshape_46 (Reshape)            (None, 5, 2453)      0           input_116[0][0]                  \n",
            "__________________________________________________________________________________________________\n",
            "reshape_47 (Reshape)            (None, 5, 56)        0           input_117[0][0]                  \n",
            "__________________________________________________________________________________________________\n",
            "masking_79 (Masking)            (None, 5, 56)        0           reshape_45[0][0]                 \n",
            "__________________________________________________________________________________________________\n",
            "masking_80 (Masking)            (None, 5, 2453)      0           reshape_46[0][0]                 \n",
            "__________________________________________________________________________________________________\n",
            "masking_81 (Masking)            (None, 5, 56)        0           reshape_47[0][0]                 \n",
            "__________________________________________________________________________________________________\n",
            "lstm_79 (LSTM)                  (None, 16)           4672        masking_79[0][0]                 \n",
            "__________________________________________________________________________________________________\n",
            "lstm_80 (LSTM)                  (None, 16)           158080      masking_80[0][0]                 \n",
            "__________________________________________________________________________________________________\n",
            "lstm_81 (LSTM)                  (None, 16)           4672        masking_81[0][0]                 \n",
            "__________________________________________________________________________________________________\n",
            "concatenate_19 (Concatenate)    (None, 48)           0           lstm_79[0][0]                    \n",
            "                                                                 lstm_80[0][0]                    \n",
            "                                                                 lstm_81[0][0]                    \n",
            "__________________________________________________________________________________________________\n",
            "dense_29 (Dense)                (None, 32)           1568        concatenate_19[0][0]             \n",
            "__________________________________________________________________________________________________\n",
            "dense_30 (Dense)                (None, 4)            132         dense_29[0][0]                   \n",
            "==================================================================================================\n",
            "Total params: 169,124\n",
            "Trainable params: 169,124\n",
            "Non-trainable params: 0\n",
            "__________________________________________________________________________________________________\n"
          ],
          "name": "stdout"
        }
      ]
    },
    {
      "cell_type": "code",
      "metadata": {
        "id": "fO4FVRn-GT0g",
        "colab_type": "code",
        "colab": {
          "base_uri": "https://localhost:8080/",
          "height": 1000
        },
        "outputId": "7da0d31f-9c8c-4e8e-8c84-636457b48847"
      },
      "source": [
        "model.compile(optimizer='adam',loss='mean_squared_error')\n",
        "history = model.fit(x=[corrected_traffic_flow_model_data,\n",
        "             corrected_punctual_incidents_model_data,\n",
        "             corrected_closed_roads_model_data\n",
        "             ] ,\n",
        "          y =[corrected_labels], epochs = 100)"
      ],
      "execution_count": 402,
      "outputs": [
        {
          "output_type": "stream",
          "text": [
            "Epoch 1/100\n",
            "210/210 [==============================] - 3s 16ms/step - loss: 0.0096\n",
            "Epoch 2/100\n",
            "210/210 [==============================] - 3s 17ms/step - loss: 0.0093\n",
            "Epoch 3/100\n",
            "210/210 [==============================] - 3s 16ms/step - loss: 0.0092\n",
            "Epoch 4/100\n",
            "210/210 [==============================] - 3s 16ms/step - loss: 0.0091\n",
            "Epoch 5/100\n",
            "210/210 [==============================] - 4s 17ms/step - loss: 0.0089\n",
            "Epoch 6/100\n",
            "210/210 [==============================] - 3s 16ms/step - loss: 0.0087\n",
            "Epoch 7/100\n",
            "210/210 [==============================] - 3s 16ms/step - loss: 0.0085\n",
            "Epoch 8/100\n",
            "210/210 [==============================] - 4s 17ms/step - loss: 0.0085\n",
            "Epoch 9/100\n",
            "210/210 [==============================] - 3s 16ms/step - loss: 0.0085\n",
            "Epoch 10/100\n",
            "210/210 [==============================] - 3s 16ms/step - loss: 0.0083\n",
            "Epoch 11/100\n",
            "210/210 [==============================] - 3s 17ms/step - loss: 0.0082\n",
            "Epoch 12/100\n",
            "210/210 [==============================] - 3s 16ms/step - loss: 0.0082\n",
            "Epoch 13/100\n",
            "210/210 [==============================] - 3s 16ms/step - loss: 0.0081\n",
            "Epoch 14/100\n",
            "210/210 [==============================] - 3s 17ms/step - loss: 0.0080\n",
            "Epoch 15/100\n",
            "210/210 [==============================] - 3s 16ms/step - loss: 0.0080\n",
            "Epoch 16/100\n",
            "210/210 [==============================] - 3s 16ms/step - loss: 0.0079\n",
            "Epoch 17/100\n",
            "210/210 [==============================] - 3s 16ms/step - loss: 0.0078\n",
            "Epoch 18/100\n",
            "210/210 [==============================] - 3s 16ms/step - loss: 0.0078\n",
            "Epoch 19/100\n",
            "210/210 [==============================] - 3s 16ms/step - loss: 0.0077\n",
            "Epoch 20/100\n",
            "210/210 [==============================] - 3s 16ms/step - loss: 0.0076\n",
            "Epoch 21/100\n",
            "210/210 [==============================] - 3s 16ms/step - loss: 0.0077\n",
            "Epoch 22/100\n",
            "210/210 [==============================] - 4s 17ms/step - loss: 0.0077\n",
            "Epoch 23/100\n",
            "210/210 [==============================] - 3s 17ms/step - loss: 0.0075\n",
            "Epoch 24/100\n",
            "210/210 [==============================] - 3s 16ms/step - loss: 0.0076\n",
            "Epoch 25/100\n",
            "210/210 [==============================] - 3s 16ms/step - loss: 0.0074\n",
            "Epoch 26/100\n",
            "210/210 [==============================] - 3s 16ms/step - loss: 0.0074\n",
            "Epoch 27/100\n",
            "210/210 [==============================] - 3s 16ms/step - loss: 0.0074\n",
            "Epoch 28/100\n",
            "210/210 [==============================] - 3s 16ms/step - loss: 0.0073\n",
            "Epoch 29/100\n",
            "210/210 [==============================] - 3s 16ms/step - loss: 0.0073\n",
            "Epoch 30/100\n",
            "210/210 [==============================] - 4s 17ms/step - loss: 0.0073\n",
            "Epoch 31/100\n",
            "210/210 [==============================] - 3s 16ms/step - loss: 0.0073\n",
            "Epoch 32/100\n",
            "210/210 [==============================] - 4s 17ms/step - loss: 0.0072\n",
            "Epoch 33/100\n",
            "210/210 [==============================] - 3s 16ms/step - loss: 0.0073\n",
            "Epoch 34/100\n",
            "210/210 [==============================] - 3s 16ms/step - loss: 0.0072\n",
            "Epoch 35/100\n",
            "210/210 [==============================] - 3s 16ms/step - loss: 0.0071\n",
            "Epoch 36/100\n",
            "210/210 [==============================] - 3s 17ms/step - loss: 0.0071\n",
            "Epoch 37/100\n",
            "210/210 [==============================] - 3s 16ms/step - loss: 0.0072\n",
            "Epoch 38/100\n",
            "210/210 [==============================] - 3s 16ms/step - loss: 0.0071\n",
            "Epoch 39/100\n",
            "210/210 [==============================] - 3s 16ms/step - loss: 0.0071\n",
            "Epoch 40/100\n",
            "210/210 [==============================] - 3s 16ms/step - loss: 0.0071\n",
            "Epoch 41/100\n",
            "210/210 [==============================] - 4s 17ms/step - loss: 0.0071\n",
            "Epoch 42/100\n",
            "210/210 [==============================] - 3s 16ms/step - loss: 0.0070\n",
            "Epoch 43/100\n",
            "210/210 [==============================] - 3s 16ms/step - loss: 0.0069\n",
            "Epoch 44/100\n",
            "210/210 [==============================] - 3s 17ms/step - loss: 0.0070\n",
            "Epoch 45/100\n",
            "210/210 [==============================] - 3s 16ms/step - loss: 0.0069\n",
            "Epoch 46/100\n",
            "210/210 [==============================] - 3s 16ms/step - loss: 0.0069\n",
            "Epoch 47/100\n",
            "210/210 [==============================] - 3s 16ms/step - loss: 0.0069\n",
            "Epoch 48/100\n",
            "210/210 [==============================] - 4s 17ms/step - loss: 0.0069\n",
            "Epoch 49/100\n",
            "210/210 [==============================] - 3s 16ms/step - loss: 0.0068\n",
            "Epoch 50/100\n",
            "210/210 [==============================] - 3s 16ms/step - loss: 0.0068\n",
            "Epoch 51/100\n",
            "210/210 [==============================] - 3s 16ms/step - loss: 0.0068\n",
            "Epoch 52/100\n",
            "210/210 [==============================] - 3s 16ms/step - loss: 0.0068\n",
            "Epoch 53/100\n",
            "210/210 [==============================] - 3s 16ms/step - loss: 0.0068\n",
            "Epoch 54/100\n",
            "210/210 [==============================] - 3s 16ms/step - loss: 0.0068\n",
            "Epoch 55/100\n",
            "210/210 [==============================] - 3s 16ms/step - loss: 0.0068\n",
            "Epoch 56/100\n",
            "210/210 [==============================] - 3s 16ms/step - loss: 0.0067\n",
            "Epoch 57/100\n",
            "210/210 [==============================] - 3s 16ms/step - loss: 0.0067\n",
            "Epoch 58/100\n",
            "210/210 [==============================] - 3s 16ms/step - loss: 0.0067\n",
            "Epoch 59/100\n",
            "210/210 [==============================] - 4s 20ms/step - loss: 0.0067\n",
            "Epoch 60/100\n",
            "210/210 [==============================] - 5s 24ms/step - loss: 0.0067\n",
            "Epoch 61/100\n",
            "210/210 [==============================] - 3s 16ms/step - loss: 0.0067\n",
            "Epoch 62/100\n",
            "210/210 [==============================] - 3s 16ms/step - loss: 0.0067\n",
            "Epoch 63/100\n",
            "210/210 [==============================] - 3s 17ms/step - loss: 0.0066\n",
            "Epoch 64/100\n",
            "210/210 [==============================] - 3s 16ms/step - loss: 0.0066\n",
            "Epoch 65/100\n",
            "210/210 [==============================] - 4s 17ms/step - loss: 0.0066\n",
            "Epoch 66/100\n",
            "210/210 [==============================] - 3s 16ms/step - loss: 0.0066\n",
            "Epoch 67/100\n",
            "210/210 [==============================] - 3s 16ms/step - loss: 0.0066\n",
            "Epoch 68/100\n",
            "210/210 [==============================] - 3s 16ms/step - loss: 0.0065\n",
            "Epoch 69/100\n",
            "210/210 [==============================] - 3s 16ms/step - loss: 0.0065\n",
            "Epoch 70/100\n",
            "210/210 [==============================] - 4s 17ms/step - loss: 0.0065\n",
            "Epoch 71/100\n",
            "210/210 [==============================] - 3s 16ms/step - loss: 0.0065\n",
            "Epoch 72/100\n",
            "210/210 [==============================] - 3s 16ms/step - loss: 0.0065\n",
            "Epoch 73/100\n",
            "210/210 [==============================] - 3s 16ms/step - loss: 0.0065\n",
            "Epoch 74/100\n",
            "210/210 [==============================] - 3s 16ms/step - loss: 0.0065\n",
            "Epoch 75/100\n",
            "210/210 [==============================] - 3s 15ms/step - loss: 0.0065\n",
            "Epoch 76/100\n",
            "210/210 [==============================] - 3s 16ms/step - loss: 0.0065\n",
            "Epoch 77/100\n",
            "210/210 [==============================] - 3s 16ms/step - loss: 0.0064\n",
            "Epoch 78/100\n",
            "210/210 [==============================] - 3s 16ms/step - loss: 0.0065\n",
            "Epoch 79/100\n",
            "210/210 [==============================] - 3s 16ms/step - loss: 0.0064\n",
            "Epoch 80/100\n",
            "210/210 [==============================] - 3s 16ms/step - loss: 0.0064\n",
            "Epoch 81/100\n",
            "210/210 [==============================] - 3s 16ms/step - loss: 0.0064\n",
            "Epoch 82/100\n",
            "210/210 [==============================] - 3s 16ms/step - loss: 0.0064\n",
            "Epoch 83/100\n",
            "210/210 [==============================] - 3s 16ms/step - loss: 0.0064\n",
            "Epoch 84/100\n",
            "210/210 [==============================] - 3s 16ms/step - loss: 0.0064\n",
            "Epoch 85/100\n",
            "210/210 [==============================] - 3s 16ms/step - loss: 0.0064\n",
            "Epoch 86/100\n",
            "210/210 [==============================] - 3s 16ms/step - loss: 0.0064\n",
            "Epoch 87/100\n",
            "210/210 [==============================] - 3s 16ms/step - loss: 0.0064\n",
            "Epoch 88/100\n",
            "210/210 [==============================] - 3s 16ms/step - loss: 0.0063\n",
            "Epoch 89/100\n",
            "210/210 [==============================] - 3s 16ms/step - loss: 0.0063\n",
            "Epoch 90/100\n",
            "210/210 [==============================] - 3s 16ms/step - loss: 0.0063\n",
            "Epoch 91/100\n",
            "210/210 [==============================] - 3s 16ms/step - loss: 0.0064\n",
            "Epoch 92/100\n",
            "210/210 [==============================] - 3s 15ms/step - loss: 0.0063\n",
            "Epoch 93/100\n",
            "210/210 [==============================] - 3s 16ms/step - loss: 0.0064\n",
            "Epoch 94/100\n",
            "210/210 [==============================] - 3s 15ms/step - loss: 0.0063\n",
            "Epoch 95/100\n",
            "210/210 [==============================] - 3s 15ms/step - loss: 0.0063\n",
            "Epoch 96/100\n",
            "210/210 [==============================] - 3s 16ms/step - loss: 0.0063\n",
            "Epoch 97/100\n",
            "210/210 [==============================] - 3s 16ms/step - loss: 0.0063\n",
            "Epoch 98/100\n",
            "210/210 [==============================] - 3s 16ms/step - loss: 0.0062\n",
            "Epoch 99/100\n",
            "210/210 [==============================] - 3s 15ms/step - loss: 0.0063\n",
            "Epoch 100/100\n",
            "210/210 [==============================] - 3s 16ms/step - loss: 0.0062\n"
          ],
          "name": "stdout"
        }
      ]
    },
    {
      "cell_type": "code",
      "metadata": {
        "id": "SZBvHJ4ZgeyC",
        "colab_type": "code",
        "colab": {
          "base_uri": "https://localhost:8080/",
          "height": 35
        },
        "outputId": "c0edef49-33ff-46d3-e88f-cea4595d8ff1"
      },
      "source": [
        "history.history.keys()"
      ],
      "execution_count": 403,
      "outputs": [
        {
          "output_type": "execute_result",
          "data": {
            "text/plain": [
              "dict_keys(['loss'])"
            ]
          },
          "metadata": {
            "tags": []
          },
          "execution_count": 403
        }
      ]
    },
    {
      "cell_type": "code",
      "metadata": {
        "id": "2leWAPN6UcS3",
        "colab_type": "code",
        "colab": {
          "base_uri": "https://localhost:8080/",
          "height": 265
        },
        "outputId": "884c55ca-6f99-4421-db4a-ca289c3e7411"
      },
      "source": [
        "import matplotlib.pyplot as plt\n",
        "accuracy = history.history[\"loss\"]\n",
        "#val_accuracy = history.history[\"val_accuracy\"]\n",
        "\n",
        "plt.plot(accuracy,'r')\n",
        "#plt.plot(val_accuracy,'b')\n",
        "plt.legend([\"Train\"])\n",
        "plt.show()"
      ],
      "execution_count": 404,
      "outputs": [
        {
          "output_type": "display_data",
          "data": {
            "image/png": "[encoded data removed]",
            "text/plain": [
              "<Figure size 432x288 with 1 Axes>"
            ]
          },
          "metadata": {
            "tags": [],
            "needs_background": "light"
          }
        }
      ]
    },
    {
      "cell_type": "code",
      "metadata": {
        "id": "SLlIK3sDgpve",
        "colab_type": "code",
        "colab": {}
      },
      "source": [
        ""
      ],
      "execution_count": 0,
      "outputs": []
    }
  ]
}