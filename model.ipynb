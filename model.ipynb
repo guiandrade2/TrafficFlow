{
  "nbformat": 4,
  "nbformat_minor": 0,
  "metadata": {
    "kernelspec": {
      "display_name": "Python 3",
      "language": "python",
      "name": "python3"
    },
    "language_info": {
      "codemirror_mode": {
        "name": "ipython",
        "version": 3
      },
      "file_extension": ".py",
      "mimetype": "text/x-python",
      "name": "python",
      "nbconvert_exporter": "python",
      "pygments_lexer": "ipython3",
      "version": "3.7.6"
    },
    "colab": {
      "name": "model.ipynb",
      "provenance": [],
      "collapsed_sections": []
    },
    "accelerator": "GPU"
  },
  "cells": [
    {
      "cell_type": "code",
      "metadata": {
        "id": "58g9kCmXuHqn",
        "colab_type": "code",
        "outputId": "fe37350f-c090-4f76-be38-6b60b486f237",
        "colab": {
          "base_uri": "https://localhost:8080/",
          "height": 34
        }
      },
      "source": [
        "from google.colab import drive\n",
        "drive.mount('/content/drive')"
      ],
      "execution_count": 53,
      "outputs": [
        {
          "output_type": "stream",
          "text": [
            "Drive already mounted at /content/drive; to attempt to forcibly remount, call drive.mount(\"/content/drive\", force_remount=True).\n"
          ],
          "name": "stdout"
        }
      ]
    },
    {
      "cell_type": "code",
      "metadata": {
        "id": "fytnhKWtuM9X",
        "colab_type": "code",
        "colab": {}
      },
      "source": [
        "#!cp /content/drive/My\\ Drive/final_datasets.zip /content && unzip final_datasets.zip"
      ],
      "execution_count": 0,
      "outputs": []
    },
    {
      "cell_type": "code",
      "metadata": {
        "id": "75OyrTfVt3jM",
        "colab_type": "code",
        "colab": {}
      },
      "source": [
        "import pandas as pd\n",
        "import numpy as np"
      ],
      "execution_count": 0,
      "outputs": []
    },
    {
      "cell_type": "code",
      "metadata": {
        "id": "_8tM_sprt3jh",
        "colab_type": "code",
        "colab": {}
      },
      "source": [
        "traffic_flow = pd.read_csv(\"final_dataset.csv\")\n",
        "punctual_incidents = pd.read_csv(\"out_punctual_incidents.csv\")\n",
        "closed_roads = pd.read_csv(\"out_closed_roads.csv\")"
      ],
      "execution_count": 0,
      "outputs": []
    },
    {
      "cell_type": "code",
      "metadata": {
        "id": "VKdY8XG6t3j3",
        "colab_type": "code",
        "outputId": "9fbb7e2a-e23e-4391-b26c-9f6302664afd",
        "colab": {
          "base_uri": "https://localhost:8080/",
          "height": 251
        }
      },
      "source": [
        "traffic_flow.head()"
      ],
      "execution_count": 57,
      "outputs": [
        {
          "output_type": "execute_result",
          "data": {
            "text/html": [
              "<div>\n",
              "<style scoped>\n",
              "    .dataframe tbody tr th:only-of-type {\n",
              "        vertical-align: middle;\n",
              "    }\n",
              "\n",
              "    .dataframe tbody tr th {\n",
              "        vertical-align: top;\n",
              "    }\n",
              "\n",
              "    .dataframe thead th {\n",
              "        text-align: right;\n",
              "    }\n",
              "</style>\n",
              "<table border=\"1\" class=\"dataframe\">\n",
              "  <thead>\n",
              "    <tr style=\"text-align: right;\">\n",
              "      <th></th>\n",
              "      <th>Day of year</th>\n",
              "      <th>Hour</th>\n",
              "      <th>week_or_not</th>\n",
              "      <th>road_num</th>\n",
              "      <th>functional_road_class_desc</th>\n",
              "      <th>time_rate</th>\n",
              "      <th>rain</th>\n",
              "      <th>temperature</th>\n",
              "      <th>atmospheric_pressure</th>\n",
              "      <th>humidity</th>\n",
              "      <th>wind_speed</th>\n",
              "      <th>clouds</th>\n",
              "      <th>current_luminosity</th>\n",
              "      <th>atmosphere</th>\n",
              "    </tr>\n",
              "  </thead>\n",
              "  <tbody>\n",
              "    <tr>\n",
              "      <th>0</th>\n",
              "      <td>15.0</td>\n",
              "      <td>19.0</td>\n",
              "      <td>1.0</td>\n",
              "      <td>1.0</td>\n",
              "      <td>3.0</td>\n",
              "      <td>0.999993</td>\n",
              "      <td>0.0</td>\n",
              "      <td>8.0</td>\n",
              "      <td>1019.0</td>\n",
              "      <td>93.0</td>\n",
              "      <td>1.0</td>\n",
              "      <td>12.0</td>\n",
              "      <td>0.0</td>\n",
              "      <td>0.0</td>\n",
              "    </tr>\n",
              "    <tr>\n",
              "      <th>1</th>\n",
              "      <td>15.0</td>\n",
              "      <td>19.0</td>\n",
              "      <td>1.0</td>\n",
              "      <td>2.0</td>\n",
              "      <td>3.0</td>\n",
              "      <td>0.292290</td>\n",
              "      <td>0.0</td>\n",
              "      <td>8.0</td>\n",
              "      <td>1019.0</td>\n",
              "      <td>93.0</td>\n",
              "      <td>1.0</td>\n",
              "      <td>12.0</td>\n",
              "      <td>0.0</td>\n",
              "      <td>0.0</td>\n",
              "    </tr>\n",
              "    <tr>\n",
              "      <th>2</th>\n",
              "      <td>15.0</td>\n",
              "      <td>19.0</td>\n",
              "      <td>1.0</td>\n",
              "      <td>3.0</td>\n",
              "      <td>1.0</td>\n",
              "      <td>0.793552</td>\n",
              "      <td>0.0</td>\n",
              "      <td>8.0</td>\n",
              "      <td>1019.0</td>\n",
              "      <td>93.0</td>\n",
              "      <td>1.0</td>\n",
              "      <td>12.0</td>\n",
              "      <td>0.0</td>\n",
              "      <td>0.0</td>\n",
              "    </tr>\n",
              "    <tr>\n",
              "      <th>3</th>\n",
              "      <td>15.0</td>\n",
              "      <td>19.0</td>\n",
              "      <td>1.0</td>\n",
              "      <td>4.0</td>\n",
              "      <td>2.0</td>\n",
              "      <td>0.545009</td>\n",
              "      <td>0.0</td>\n",
              "      <td>8.0</td>\n",
              "      <td>1019.0</td>\n",
              "      <td>93.0</td>\n",
              "      <td>1.0</td>\n",
              "      <td>12.0</td>\n",
              "      <td>0.0</td>\n",
              "      <td>0.0</td>\n",
              "    </tr>\n",
              "    <tr>\n",
              "      <th>4</th>\n",
              "      <td>15.0</td>\n",
              "      <td>20.0</td>\n",
              "      <td>1.0</td>\n",
              "      <td>1.0</td>\n",
              "      <td>3.0</td>\n",
              "      <td>0.999993</td>\n",
              "      <td>0.0</td>\n",
              "      <td>9.0</td>\n",
              "      <td>1020.0</td>\n",
              "      <td>93.0</td>\n",
              "      <td>1.0</td>\n",
              "      <td>20.0</td>\n",
              "      <td>0.0</td>\n",
              "      <td>0.0</td>\n",
              "    </tr>\n",
              "  </tbody>\n",
              "</table>\n",
              "</div>"
            ],
            "text/plain": [
              "   Day of year  Hour  week_or_not  ...  clouds  current_luminosity  atmosphere\n",
              "0         15.0  19.0          1.0  ...    12.0                 0.0         0.0\n",
              "1         15.0  19.0          1.0  ...    12.0                 0.0         0.0\n",
              "2         15.0  19.0          1.0  ...    12.0                 0.0         0.0\n",
              "3         15.0  19.0          1.0  ...    12.0                 0.0         0.0\n",
              "4         15.0  20.0          1.0  ...    20.0                 0.0         0.0\n",
              "\n",
              "[5 rows x 14 columns]"
            ]
          },
          "metadata": {
            "tags": []
          },
          "execution_count": 57
        }
      ]
    },
    {
      "cell_type": "code",
      "metadata": {
        "id": "1-MF_hO68SZX",
        "colab_type": "code",
        "colab": {}
      },
      "source": [
        "x_axis = []\n",
        "previous_name = \"\"\n",
        "\n",
        "for i in traffic_flow.iterrows():\n",
        "  if(not pd.isnull(i[1][5])):\n",
        "    \n",
        "    name = str(i[1][0]) + \" ,\" + str(i[1][1]) \n",
        "\n",
        "    if(previous_name != name):\n",
        "      x_axis.append(name)\n",
        "    \n",
        "    previous_name = name"
      ],
      "execution_count": 0,
      "outputs": []
    },
    {
      "cell_type": "code",
      "metadata": {
        "id": "5ChaStb2t3kG",
        "colab_type": "code",
        "outputId": "59c2a5a7-1d88-4bfb-9942-ef3427d28da5",
        "colab": {
          "base_uri": "https://localhost:8080/",
          "height": 283
        }
      },
      "source": [
        "traffic_flow.isnull().sum()"
      ],
      "execution_count": 59,
      "outputs": [
        {
          "output_type": "execute_result",
          "data": {
            "text/plain": [
              "Day of year                      0\n",
              "Hour                             0\n",
              "week_or_not                      0\n",
              "road_num                         0\n",
              "functional_road_class_desc       0\n",
              "time_rate                     6360\n",
              "rain                          6200\n",
              "temperature                   6200\n",
              "atmospheric_pressure          6200\n",
              "humidity                      6200\n",
              "wind_speed                    6200\n",
              "clouds                        6200\n",
              "current_luminosity            6132\n",
              "atmosphere                    6200\n",
              "dtype: int64"
            ]
          },
          "metadata": {
            "tags": []
          },
          "execution_count": 59
        }
      ]
    },
    {
      "cell_type": "code",
      "metadata": {
        "id": "DqlBqJcWt3kS",
        "colab_type": "code",
        "outputId": "bda6b048-e1d0-434a-eff7-f1b308e8e4c7",
        "colab": {
          "base_uri": "https://localhost:8080/",
          "height": 251
        }
      },
      "source": [
        "punctual_incidents.head()"
      ],
      "execution_count": 60,
      "outputs": [
        {
          "output_type": "execute_result",
          "data": {
            "text/html": [
              "<div>\n",
              "<style scoped>\n",
              "    .dataframe tbody tr th:only-of-type {\n",
              "        vertical-align: middle;\n",
              "    }\n",
              "\n",
              "    .dataframe tbody tr th {\n",
              "        vertical-align: top;\n",
              "    }\n",
              "\n",
              "    .dataframe thead th {\n",
              "        text-align: right;\n",
              "    }\n",
              "</style>\n",
              "<table border=\"1\" class=\"dataframe\">\n",
              "  <thead>\n",
              "    <tr style=\"text-align: right;\">\n",
              "      <th></th>\n",
              "      <th>Day of year</th>\n",
              "      <th>Hour</th>\n",
              "      <th>Minute</th>\n",
              "      <th>magnitude_of_delay_desc</th>\n",
              "      <th>length_in_meters</th>\n",
              "      <th>delay_in_seconds</th>\n",
              "      <th>AvenidaCentral</th>\n",
              "      <th>AvenidaLiberdade</th>\n",
              "      <th>RuaDeCaires</th>\n",
              "      <th>Bosch</th>\n",
              "      <th>week_or_not</th>\n",
              "    </tr>\n",
              "  </thead>\n",
              "  <tbody>\n",
              "    <tr>\n",
              "      <th>0</th>\n",
              "      <td>15</td>\n",
              "      <td>19</td>\n",
              "      <td>0.083333</td>\n",
              "      <td>2</td>\n",
              "      <td>615</td>\n",
              "      <td>111</td>\n",
              "      <td>2871.589353</td>\n",
              "      <td>2871.589353</td>\n",
              "      <td>1767.444236</td>\n",
              "      <td>1267.330940</td>\n",
              "      <td>1</td>\n",
              "    </tr>\n",
              "    <tr>\n",
              "      <th>1</th>\n",
              "      <td>15</td>\n",
              "      <td>19</td>\n",
              "      <td>0.083333</td>\n",
              "      <td>2</td>\n",
              "      <td>1008</td>\n",
              "      <td>210</td>\n",
              "      <td>2571.299699</td>\n",
              "      <td>2161.513827</td>\n",
              "      <td>1486.684810</td>\n",
              "      <td>373.585408</td>\n",
              "      <td>1</td>\n",
              "    </tr>\n",
              "    <tr>\n",
              "      <th>2</th>\n",
              "      <td>15</td>\n",
              "      <td>19</td>\n",
              "      <td>0.083333</td>\n",
              "      <td>2</td>\n",
              "      <td>615</td>\n",
              "      <td>184</td>\n",
              "      <td>965.778946</td>\n",
              "      <td>1027.212214</td>\n",
              "      <td>1758.926643</td>\n",
              "      <td>3206.313071</td>\n",
              "      <td>1</td>\n",
              "    </tr>\n",
              "    <tr>\n",
              "      <th>3</th>\n",
              "      <td>15</td>\n",
              "      <td>19</td>\n",
              "      <td>0.083333</td>\n",
              "      <td>3</td>\n",
              "      <td>322</td>\n",
              "      <td>232</td>\n",
              "      <td>726.759470</td>\n",
              "      <td>855.618311</td>\n",
              "      <td>1665.794200</td>\n",
              "      <td>3053.127261</td>\n",
              "      <td>1</td>\n",
              "    </tr>\n",
              "    <tr>\n",
              "      <th>4</th>\n",
              "      <td>15</td>\n",
              "      <td>19</td>\n",
              "      <td>0.083333</td>\n",
              "      <td>3</td>\n",
              "      <td>208</td>\n",
              "      <td>235</td>\n",
              "      <td>2069.868805</td>\n",
              "      <td>2069.868805</td>\n",
              "      <td>1597.478316</td>\n",
              "      <td>2790.436927</td>\n",
              "      <td>1</td>\n",
              "    </tr>\n",
              "  </tbody>\n",
              "</table>\n",
              "</div>"
            ],
            "text/plain": [
              "   Day of year  Hour    Minute  ...  RuaDeCaires        Bosch  week_or_not\n",
              "0           15    19  0.083333  ...  1767.444236  1267.330940            1\n",
              "1           15    19  0.083333  ...  1486.684810   373.585408            1\n",
              "2           15    19  0.083333  ...  1758.926643  3206.313071            1\n",
              "3           15    19  0.083333  ...  1665.794200  3053.127261            1\n",
              "4           15    19  0.083333  ...  1597.478316  2790.436927            1\n",
              "\n",
              "[5 rows x 11 columns]"
            ]
          },
          "metadata": {
            "tags": []
          },
          "execution_count": 60
        }
      ]
    },
    {
      "cell_type": "code",
      "metadata": {
        "id": "M4KrY6Jft3kg",
        "colab_type": "code",
        "outputId": "7d0a8eb5-f0b5-46f7-adf0-30f8d03ca2aa",
        "colab": {
          "base_uri": "https://localhost:8080/",
          "height": 230
        }
      },
      "source": [
        "punctual_incidents.isnull().sum()"
      ],
      "execution_count": 61,
      "outputs": [
        {
          "output_type": "execute_result",
          "data": {
            "text/plain": [
              "Day of year                0\n",
              "Hour                       0\n",
              "Minute                     0\n",
              "magnitude_of_delay_desc    0\n",
              "length_in_meters           0\n",
              "delay_in_seconds           0\n",
              "AvenidaCentral             0\n",
              "AvenidaLiberdade           0\n",
              "RuaDeCaires                0\n",
              "Bosch                      0\n",
              "week_or_not                0\n",
              "dtype: int64"
            ]
          },
          "metadata": {
            "tags": []
          },
          "execution_count": 61
        }
      ]
    },
    {
      "cell_type": "code",
      "metadata": {
        "id": "I-8_u212t3kt",
        "colab_type": "code",
        "outputId": "db020ac0-8b8d-46bc-eff1-1b95950f40ec",
        "colab": {
          "base_uri": "https://localhost:8080/",
          "height": 197
        }
      },
      "source": [
        "closed_roads.head()"
      ],
      "execution_count": 62,
      "outputs": [
        {
          "output_type": "execute_result",
          "data": {
            "text/html": [
              "<div>\n",
              "<style scoped>\n",
              "    .dataframe tbody tr th:only-of-type {\n",
              "        vertical-align: middle;\n",
              "    }\n",
              "\n",
              "    .dataframe tbody tr th {\n",
              "        vertical-align: top;\n",
              "    }\n",
              "\n",
              "    .dataframe thead th {\n",
              "        text-align: right;\n",
              "    }\n",
              "</style>\n",
              "<table border=\"1\" class=\"dataframe\">\n",
              "  <thead>\n",
              "    <tr style=\"text-align: right;\">\n",
              "      <th></th>\n",
              "      <th>Day of year</th>\n",
              "      <th>Hour</th>\n",
              "      <th>length_in_meters</th>\n",
              "      <th>AvenidaCentral</th>\n",
              "      <th>AvenidaLiberdade</th>\n",
              "      <th>RuaDeCaires</th>\n",
              "      <th>Bosch</th>\n",
              "      <th>week_or_not</th>\n",
              "    </tr>\n",
              "  </thead>\n",
              "  <tbody>\n",
              "    <tr>\n",
              "      <th>0</th>\n",
              "      <td>15</td>\n",
              "      <td>19</td>\n",
              "      <td>88</td>\n",
              "      <td>1582.434953</td>\n",
              "      <td>1206.42697</td>\n",
              "      <td>2467.183987</td>\n",
              "      <td>2947.217154</td>\n",
              "      <td>1</td>\n",
              "    </tr>\n",
              "    <tr>\n",
              "      <th>1</th>\n",
              "      <td>15</td>\n",
              "      <td>20</td>\n",
              "      <td>88</td>\n",
              "      <td>1582.434953</td>\n",
              "      <td>1206.42697</td>\n",
              "      <td>2467.183987</td>\n",
              "      <td>2947.217154</td>\n",
              "      <td>1</td>\n",
              "    </tr>\n",
              "    <tr>\n",
              "      <th>2</th>\n",
              "      <td>15</td>\n",
              "      <td>21</td>\n",
              "      <td>88</td>\n",
              "      <td>1582.434953</td>\n",
              "      <td>1206.42697</td>\n",
              "      <td>2467.183987</td>\n",
              "      <td>2947.217154</td>\n",
              "      <td>1</td>\n",
              "    </tr>\n",
              "    <tr>\n",
              "      <th>3</th>\n",
              "      <td>15</td>\n",
              "      <td>22</td>\n",
              "      <td>88</td>\n",
              "      <td>1582.434953</td>\n",
              "      <td>1206.42697</td>\n",
              "      <td>2467.183987</td>\n",
              "      <td>2947.217154</td>\n",
              "      <td>1</td>\n",
              "    </tr>\n",
              "    <tr>\n",
              "      <th>4</th>\n",
              "      <td>15</td>\n",
              "      <td>23</td>\n",
              "      <td>88</td>\n",
              "      <td>1582.434953</td>\n",
              "      <td>1206.42697</td>\n",
              "      <td>2467.183987</td>\n",
              "      <td>2947.217154</td>\n",
              "      <td>1</td>\n",
              "    </tr>\n",
              "  </tbody>\n",
              "</table>\n",
              "</div>"
            ],
            "text/plain": [
              "   Day of year  Hour  length_in_meters  ...  RuaDeCaires        Bosch  week_or_not\n",
              "0           15    19                88  ...  2467.183987  2947.217154            1\n",
              "1           15    20                88  ...  2467.183987  2947.217154            1\n",
              "2           15    21                88  ...  2467.183987  2947.217154            1\n",
              "3           15    22                88  ...  2467.183987  2947.217154            1\n",
              "4           15    23                88  ...  2467.183987  2947.217154            1\n",
              "\n",
              "[5 rows x 8 columns]"
            ]
          },
          "metadata": {
            "tags": []
          },
          "execution_count": 62
        }
      ]
    },
    {
      "cell_type": "code",
      "metadata": {
        "id": "xTvs0jrYt3k4",
        "colab_type": "code",
        "outputId": "00e3581c-d503-481d-dad6-42c8e1ad1859",
        "colab": {
          "base_uri": "https://localhost:8080/",
          "height": 176
        }
      },
      "source": [
        "closed_roads.isnull().sum()"
      ],
      "execution_count": 63,
      "outputs": [
        {
          "output_type": "execute_result",
          "data": {
            "text/plain": [
              "Day of year         0\n",
              "Hour                0\n",
              "length_in_meters    0\n",
              "AvenidaCentral      0\n",
              "AvenidaLiberdade    0\n",
              "RuaDeCaires         0\n",
              "Bosch               0\n",
              "week_or_not         0\n",
              "dtype: int64"
            ]
          },
          "metadata": {
            "tags": []
          },
          "execution_count": 63
        }
      ]
    },
    {
      "cell_type": "code",
      "metadata": {
        "id": "k9e-HLdht3lC",
        "colab_type": "code",
        "colab": {}
      },
      "source": [
        "from sklearn.preprocessing import MinMaxScaler\n",
        "\n",
        "scaler_flow = MinMaxScaler()\n",
        "traffic_flow_normalized = pd.DataFrame(scaler_flow.fit_transform(traffic_flow.iloc[:,2:]), columns=traffic_flow.columns[2:] )\n",
        "traffic_flow_normalized['Day of year'] = traffic_flow.iloc[:,0]\n",
        "traffic_flow_normalized['Hour'] = traffic_flow.iloc[:,1]\n",
        "\n",
        "punctual_incidents_normalized = pd.DataFrame(scaler_flow.fit_transform(punctual_incidents.iloc[:,3:]),columns=punctual_incidents.columns[3:])\n",
        "punctual_incidents_normalized['Day of year'] = punctual_incidents.iloc[:,0]\n",
        "punctual_incidents_normalized['Hour'] = punctual_incidents.iloc[:,1]\n",
        "punctual_incidents_normalized['Minute'] = punctual_incidents.iloc[:,2]\n",
        "\n",
        "closed_roads_normalized = pd.DataFrame(scaler_flow.fit_transform(closed_roads.iloc[:,2:]),columns=closed_roads.columns[2:])\n",
        "closed_roads_normalized['Day of year'] = closed_roads.iloc[:,0]\n",
        "closed_roads_normalized['Hour'] = closed_roads.iloc[:,1]"
      ],
      "execution_count": 0,
      "outputs": []
    },
    {
      "cell_type": "code",
      "metadata": {
        "id": "vipupwxjt3lN",
        "colab_type": "code",
        "outputId": "5911e2ac-7a92-478e-cff6-6486f49161b7",
        "colab": {
          "base_uri": "https://localhost:8080/",
          "height": 324
        }
      },
      "source": [
        "traffic_flow.describe()"
      ],
      "execution_count": 65,
      "outputs": [
        {
          "output_type": "execute_result",
          "data": {
            "text/html": [
              "<div>\n",
              "<style scoped>\n",
              "    .dataframe tbody tr th:only-of-type {\n",
              "        vertical-align: middle;\n",
              "    }\n",
              "\n",
              "    .dataframe tbody tr th {\n",
              "        vertical-align: top;\n",
              "    }\n",
              "\n",
              "    .dataframe thead th {\n",
              "        text-align: right;\n",
              "    }\n",
              "</style>\n",
              "<table border=\"1\" class=\"dataframe\">\n",
              "  <thead>\n",
              "    <tr style=\"text-align: right;\">\n",
              "      <th></th>\n",
              "      <th>Day of year</th>\n",
              "      <th>Hour</th>\n",
              "      <th>week_or_not</th>\n",
              "      <th>road_num</th>\n",
              "      <th>functional_road_class_desc</th>\n",
              "      <th>time_rate</th>\n",
              "      <th>rain</th>\n",
              "      <th>temperature</th>\n",
              "      <th>atmospheric_pressure</th>\n",
              "      <th>humidity</th>\n",
              "      <th>wind_speed</th>\n",
              "      <th>clouds</th>\n",
              "      <th>current_luminosity</th>\n",
              "      <th>atmosphere</th>\n",
              "    </tr>\n",
              "  </thead>\n",
              "  <tbody>\n",
              "    <tr>\n",
              "      <th>count</th>\n",
              "      <td>33620.000000</td>\n",
              "      <td>33620.000000</td>\n",
              "      <td>33620.000000</td>\n",
              "      <td>33620.000000</td>\n",
              "      <td>33620.000000</td>\n",
              "      <td>27260.000000</td>\n",
              "      <td>27420.000000</td>\n",
              "      <td>27420.000000</td>\n",
              "      <td>27420.000000</td>\n",
              "      <td>27420.000000</td>\n",
              "      <td>27420.000000</td>\n",
              "      <td>27420.000000</td>\n",
              "      <td>27488.000000</td>\n",
              "      <td>27420.000000</td>\n",
              "    </tr>\n",
              "    <tr>\n",
              "      <th>mean</th>\n",
              "      <td>190.395598</td>\n",
              "      <td>11.505651</td>\n",
              "      <td>0.714456</td>\n",
              "      <td>2.500000</td>\n",
              "      <td>2.250000</td>\n",
              "      <td>0.874601</td>\n",
              "      <td>0.113056</td>\n",
              "      <td>15.113640</td>\n",
              "      <td>1017.869584</td>\n",
              "      <td>81.825237</td>\n",
              "      <td>3.048869</td>\n",
              "      <td>35.311889</td>\n",
              "      <td>0.977445</td>\n",
              "      <td>0.302553</td>\n",
              "    </tr>\n",
              "    <tr>\n",
              "      <th>std</th>\n",
              "      <td>101.097937</td>\n",
              "      <td>6.924192</td>\n",
              "      <td>0.451680</td>\n",
              "      <td>1.118051</td>\n",
              "      <td>0.829169</td>\n",
              "      <td>0.179114</td>\n",
              "      <td>0.440381</td>\n",
              "      <td>5.508167</td>\n",
              "      <td>5.952428</td>\n",
              "      <td>17.177387</td>\n",
              "      <td>2.176722</td>\n",
              "      <td>34.915653</td>\n",
              "      <td>0.978356</td>\n",
              "      <td>1.008697</td>\n",
              "    </tr>\n",
              "    <tr>\n",
              "      <th>min</th>\n",
              "      <td>15.000000</td>\n",
              "      <td>0.000000</td>\n",
              "      <td>0.000000</td>\n",
              "      <td>1.000000</td>\n",
              "      <td>1.000000</td>\n",
              "      <td>0.000000</td>\n",
              "      <td>0.000000</td>\n",
              "      <td>1.000000</td>\n",
              "      <td>990.000000</td>\n",
              "      <td>19.000000</td>\n",
              "      <td>0.000000</td>\n",
              "      <td>0.000000</td>\n",
              "      <td>0.000000</td>\n",
              "      <td>0.000000</td>\n",
              "    </tr>\n",
              "    <tr>\n",
              "      <th>25%</th>\n",
              "      <td>103.000000</td>\n",
              "      <td>6.000000</td>\n",
              "      <td>0.000000</td>\n",
              "      <td>1.750000</td>\n",
              "      <td>1.750000</td>\n",
              "      <td>0.767359</td>\n",
              "      <td>0.000000</td>\n",
              "      <td>11.000000</td>\n",
              "      <td>1015.000000</td>\n",
              "      <td>72.000000</td>\n",
              "      <td>1.000000</td>\n",
              "      <td>0.000000</td>\n",
              "      <td>0.000000</td>\n",
              "      <td>0.000000</td>\n",
              "    </tr>\n",
              "    <tr>\n",
              "      <th>50%</th>\n",
              "      <td>190.000000</td>\n",
              "      <td>12.000000</td>\n",
              "      <td>1.000000</td>\n",
              "      <td>2.500000</td>\n",
              "      <td>2.500000</td>\n",
              "      <td>0.999996</td>\n",
              "      <td>0.000000</td>\n",
              "      <td>15.000000</td>\n",
              "      <td>1018.000000</td>\n",
              "      <td>87.000000</td>\n",
              "      <td>3.000000</td>\n",
              "      <td>20.000000</td>\n",
              "      <td>1.000000</td>\n",
              "      <td>0.000000</td>\n",
              "    </tr>\n",
              "    <tr>\n",
              "      <th>75%</th>\n",
              "      <td>278.000000</td>\n",
              "      <td>18.000000</td>\n",
              "      <td>1.000000</td>\n",
              "      <td>3.250000</td>\n",
              "      <td>3.000000</td>\n",
              "      <td>0.999999</td>\n",
              "      <td>0.000000</td>\n",
              "      <td>18.000000</td>\n",
              "      <td>1021.000000</td>\n",
              "      <td>93.000000</td>\n",
              "      <td>4.000000</td>\n",
              "      <td>75.000000</td>\n",
              "      <td>2.000000</td>\n",
              "      <td>0.000000</td>\n",
              "    </tr>\n",
              "    <tr>\n",
              "      <th>max</th>\n",
              "      <td>365.000000</td>\n",
              "      <td>23.000000</td>\n",
              "      <td>1.000000</td>\n",
              "      <td>4.000000</td>\n",
              "      <td>3.000000</td>\n",
              "      <td>1.000000</td>\n",
              "      <td>3.000000</td>\n",
              "      <td>34.000000</td>\n",
              "      <td>1033.000000</td>\n",
              "      <td>100.000000</td>\n",
              "      <td>14.000000</td>\n",
              "      <td>100.000000</td>\n",
              "      <td>2.000000</td>\n",
              "      <td>5.000000</td>\n",
              "    </tr>\n",
              "  </tbody>\n",
              "</table>\n",
              "</div>"
            ],
            "text/plain": [
              "        Day of year          Hour  ...  current_luminosity    atmosphere\n",
              "count  33620.000000  33620.000000  ...        27488.000000  27420.000000\n",
              "mean     190.395598     11.505651  ...            0.977445      0.302553\n",
              "std      101.097937      6.924192  ...            0.978356      1.008697\n",
              "min       15.000000      0.000000  ...            0.000000      0.000000\n",
              "25%      103.000000      6.000000  ...            0.000000      0.000000\n",
              "50%      190.000000     12.000000  ...            1.000000      0.000000\n",
              "75%      278.000000     18.000000  ...            2.000000      0.000000\n",
              "max      365.000000     23.000000  ...            2.000000      5.000000\n",
              "\n",
              "[8 rows x 14 columns]"
            ]
          },
          "metadata": {
            "tags": []
          },
          "execution_count": 65
        }
      ]
    },
    {
      "cell_type": "code",
      "metadata": {
        "id": "VLRSEck_t3lZ",
        "colab_type": "code",
        "colab": {}
      },
      "source": [
        "traffic_flow_normalized_masked=traffic_flow_normalized.fillna(value=-1)"
      ],
      "execution_count": 0,
      "outputs": []
    },
    {
      "cell_type": "code",
      "metadata": {
        "id": "BeMc7374t3li",
        "colab_type": "code",
        "outputId": "20963ac7-6c15-4f56-f824-27c1c2f8b113",
        "colab": {
          "base_uri": "https://localhost:8080/",
          "height": 324
        }
      },
      "source": [
        "traffic_flow_normalized_masked.describe()"
      ],
      "execution_count": 67,
      "outputs": [
        {
          "output_type": "execute_result",
          "data": {
            "text/html": [
              "<div>\n",
              "<style scoped>\n",
              "    .dataframe tbody tr th:only-of-type {\n",
              "        vertical-align: middle;\n",
              "    }\n",
              "\n",
              "    .dataframe tbody tr th {\n",
              "        vertical-align: top;\n",
              "    }\n",
              "\n",
              "    .dataframe thead th {\n",
              "        text-align: right;\n",
              "    }\n",
              "</style>\n",
              "<table border=\"1\" class=\"dataframe\">\n",
              "  <thead>\n",
              "    <tr style=\"text-align: right;\">\n",
              "      <th></th>\n",
              "      <th>week_or_not</th>\n",
              "      <th>road_num</th>\n",
              "      <th>functional_road_class_desc</th>\n",
              "      <th>time_rate</th>\n",
              "      <th>rain</th>\n",
              "      <th>temperature</th>\n",
              "      <th>atmospheric_pressure</th>\n",
              "      <th>humidity</th>\n",
              "      <th>wind_speed</th>\n",
              "      <th>clouds</th>\n",
              "      <th>current_luminosity</th>\n",
              "      <th>atmosphere</th>\n",
              "      <th>Day of year</th>\n",
              "      <th>Hour</th>\n",
              "    </tr>\n",
              "  </thead>\n",
              "  <tbody>\n",
              "    <tr>\n",
              "      <th>count</th>\n",
              "      <td>33620.000000</td>\n",
              "      <td>33620.000000</td>\n",
              "      <td>33620.000000</td>\n",
              "      <td>33620.000000</td>\n",
              "      <td>33620.000000</td>\n",
              "      <td>33620.000000</td>\n",
              "      <td>33620.000000</td>\n",
              "      <td>33620.000000</td>\n",
              "      <td>33620.000000</td>\n",
              "      <td>33620.000000</td>\n",
              "      <td>33620.000000</td>\n",
              "      <td>33620.000000</td>\n",
              "      <td>33620.000000</td>\n",
              "      <td>33620.000000</td>\n",
              "    </tr>\n",
              "    <tr>\n",
              "      <th>mean</th>\n",
              "      <td>0.714456</td>\n",
              "      <td>0.500000</td>\n",
              "      <td>0.625000</td>\n",
              "      <td>0.519977</td>\n",
              "      <td>-0.153678</td>\n",
              "      <td>0.164401</td>\n",
              "      <td>0.344192</td>\n",
              "      <td>0.448171</td>\n",
              "      <td>-0.006799</td>\n",
              "      <td>0.103585</td>\n",
              "      <td>0.217192</td>\n",
              "      <td>-0.135062</td>\n",
              "      <td>190.395598</td>\n",
              "      <td>11.505651</td>\n",
              "    </tr>\n",
              "    <tr>\n",
              "      <th>std</th>\n",
              "      <td>0.451680</td>\n",
              "      <td>0.372684</td>\n",
              "      <td>0.414584</td>\n",
              "      <td>0.751698</td>\n",
              "      <td>0.423715</td>\n",
              "      <td>0.573848</td>\n",
              "      <td>0.651300</td>\n",
              "      <td>0.714769</td>\n",
              "      <td>0.492718</td>\n",
              "      <td>0.612224</td>\n",
              "      <td>0.725371</td>\n",
              "      <td>0.449841</td>\n",
              "      <td>101.097937</td>\n",
              "      <td>6.924192</td>\n",
              "    </tr>\n",
              "    <tr>\n",
              "      <th>min</th>\n",
              "      <td>0.000000</td>\n",
              "      <td>0.000000</td>\n",
              "      <td>0.000000</td>\n",
              "      <td>-1.000000</td>\n",
              "      <td>-1.000000</td>\n",
              "      <td>-1.000000</td>\n",
              "      <td>-1.000000</td>\n",
              "      <td>-1.000000</td>\n",
              "      <td>-1.000000</td>\n",
              "      <td>-1.000000</td>\n",
              "      <td>-1.000000</td>\n",
              "      <td>-1.000000</td>\n",
              "      <td>15.000000</td>\n",
              "      <td>0.000000</td>\n",
              "    </tr>\n",
              "    <tr>\n",
              "      <th>25%</th>\n",
              "      <td>0.000000</td>\n",
              "      <td>0.250000</td>\n",
              "      <td>0.375000</td>\n",
              "      <td>0.544118</td>\n",
              "      <td>0.000000</td>\n",
              "      <td>0.212121</td>\n",
              "      <td>0.488372</td>\n",
              "      <td>0.419753</td>\n",
              "      <td>0.000000</td>\n",
              "      <td>0.000000</td>\n",
              "      <td>0.000000</td>\n",
              "      <td>0.000000</td>\n",
              "      <td>103.000000</td>\n",
              "      <td>6.000000</td>\n",
              "    </tr>\n",
              "    <tr>\n",
              "      <th>50%</th>\n",
              "      <td>1.000000</td>\n",
              "      <td>0.500000</td>\n",
              "      <td>0.750000</td>\n",
              "      <td>0.912298</td>\n",
              "      <td>0.000000</td>\n",
              "      <td>0.363636</td>\n",
              "      <td>0.627907</td>\n",
              "      <td>0.765432</td>\n",
              "      <td>0.142857</td>\n",
              "      <td>0.200000</td>\n",
              "      <td>0.000000</td>\n",
              "      <td>0.000000</td>\n",
              "      <td>190.000000</td>\n",
              "      <td>12.000000</td>\n",
              "    </tr>\n",
              "    <tr>\n",
              "      <th>75%</th>\n",
              "      <td>1.000000</td>\n",
              "      <td>0.750000</td>\n",
              "      <td>1.000000</td>\n",
              "      <td>0.999999</td>\n",
              "      <td>0.000000</td>\n",
              "      <td>0.484848</td>\n",
              "      <td>0.697674</td>\n",
              "      <td>0.913580</td>\n",
              "      <td>0.285714</td>\n",
              "      <td>0.750000</td>\n",
              "      <td>1.000000</td>\n",
              "      <td>0.000000</td>\n",
              "      <td>278.000000</td>\n",
              "      <td>18.000000</td>\n",
              "    </tr>\n",
              "    <tr>\n",
              "      <th>max</th>\n",
              "      <td>1.000000</td>\n",
              "      <td>1.000000</td>\n",
              "      <td>1.000000</td>\n",
              "      <td>1.000000</td>\n",
              "      <td>1.000000</td>\n",
              "      <td>1.000000</td>\n",
              "      <td>1.000000</td>\n",
              "      <td>1.000000</td>\n",
              "      <td>1.000000</td>\n",
              "      <td>1.000000</td>\n",
              "      <td>1.000000</td>\n",
              "      <td>1.000000</td>\n",
              "      <td>365.000000</td>\n",
              "      <td>23.000000</td>\n",
              "    </tr>\n",
              "  </tbody>\n",
              "</table>\n",
              "</div>"
            ],
            "text/plain": [
              "        week_or_not      road_num  ...   Day of year          Hour\n",
              "count  33620.000000  33620.000000  ...  33620.000000  33620.000000\n",
              "mean       0.714456      0.500000  ...    190.395598     11.505651\n",
              "std        0.451680      0.372684  ...    101.097937      6.924192\n",
              "min        0.000000      0.000000  ...     15.000000      0.000000\n",
              "25%        0.000000      0.250000  ...    103.000000      6.000000\n",
              "50%        1.000000      0.500000  ...    190.000000     12.000000\n",
              "75%        1.000000      0.750000  ...    278.000000     18.000000\n",
              "max        1.000000      1.000000  ...    365.000000     23.000000\n",
              "\n",
              "[8 rows x 14 columns]"
            ]
          },
          "metadata": {
            "tags": []
          },
          "execution_count": 67
        }
      ]
    },
    {
      "cell_type": "code",
      "metadata": {
        "id": "Qi7W3pKst3l7",
        "colab_type": "code",
        "outputId": "19c87326-af71-4250-88fe-3f619d4ad65a",
        "colab": {
          "base_uri": "https://localhost:8080/",
          "height": 531
        }
      },
      "source": [
        "grouped_traffic_flow = traffic_flow_normalized_masked.groupby(['Day of year', 'Hour']).agg(lambda x: list(x))\n",
        "grouped_traffic_flow.head()"
      ],
      "execution_count": 68,
      "outputs": [
        {
          "output_type": "execute_result",
          "data": {
            "text/html": [
              "<div>\n",
              "<style scoped>\n",
              "    .dataframe tbody tr th:only-of-type {\n",
              "        vertical-align: middle;\n",
              "    }\n",
              "\n",
              "    .dataframe tbody tr th {\n",
              "        vertical-align: top;\n",
              "    }\n",
              "\n",
              "    .dataframe thead th {\n",
              "        text-align: right;\n",
              "    }\n",
              "</style>\n",
              "<table border=\"1\" class=\"dataframe\">\n",
              "  <thead>\n",
              "    <tr style=\"text-align: right;\">\n",
              "      <th></th>\n",
              "      <th></th>\n",
              "      <th>week_or_not</th>\n",
              "      <th>road_num</th>\n",
              "      <th>functional_road_class_desc</th>\n",
              "      <th>time_rate</th>\n",
              "      <th>rain</th>\n",
              "      <th>temperature</th>\n",
              "      <th>atmospheric_pressure</th>\n",
              "      <th>humidity</th>\n",
              "      <th>wind_speed</th>\n",
              "      <th>clouds</th>\n",
              "      <th>current_luminosity</th>\n",
              "      <th>atmosphere</th>\n",
              "    </tr>\n",
              "    <tr>\n",
              "      <th>Day of year</th>\n",
              "      <th>Hour</th>\n",
              "      <th></th>\n",
              "      <th></th>\n",
              "      <th></th>\n",
              "      <th></th>\n",
              "      <th></th>\n",
              "      <th></th>\n",
              "      <th></th>\n",
              "      <th></th>\n",
              "      <th></th>\n",
              "      <th></th>\n",
              "      <th></th>\n",
              "      <th></th>\n",
              "    </tr>\n",
              "  </thead>\n",
              "  <tbody>\n",
              "    <tr>\n",
              "      <th rowspan=\"5\" valign=\"top\">15.0</th>\n",
              "      <th>19.0</th>\n",
              "      <td>[1.0, 1.0, 1.0, 1.0]</td>\n",
              "      <td>[0.0, 0.3333333333333333, 0.6666666666666667, ...</td>\n",
              "      <td>[1.0, 1.0, 0.0, 0.5]</td>\n",
              "      <td>[0.999993133434998, 0.2922900916604517, 0.7935...</td>\n",
              "      <td>[0.0, 0.0, 0.0, 0.0]</td>\n",
              "      <td>[0.21212121212121213, 0.21212121212121213, 0.2...</td>\n",
              "      <td>[0.6744186046511658, 0.6744186046511658, 0.674...</td>\n",
              "      <td>[0.9135802469135803, 0.9135802469135803, 0.913...</td>\n",
              "      <td>[0.07142857142857142, 0.07142857142857142, 0.0...</td>\n",
              "      <td>[0.12, 0.12, 0.12, 0.12]</td>\n",
              "      <td>[0.0, 0.0, 0.0, 0.0]</td>\n",
              "      <td>[0.0, 0.0, 0.0, 0.0]</td>\n",
              "    </tr>\n",
              "    <tr>\n",
              "      <th>20.0</th>\n",
              "      <td>[1.0, 1.0, 1.0, 1.0]</td>\n",
              "      <td>[0.0, 0.3333333333333333, 0.6666666666666667, ...</td>\n",
              "      <td>[1.0, 1.0, 0.0, 0.5]</td>\n",
              "      <td>[0.999993133434998, 0.8041744270897978, 0.9999...</td>\n",
              "      <td>[0.0, 0.0, 0.0, 0.0]</td>\n",
              "      <td>[0.2424242424242424, 0.2424242424242424, 0.242...</td>\n",
              "      <td>[0.6976744186046524, 0.6976744186046524, 0.697...</td>\n",
              "      <td>[0.9135802469135803, 0.9135802469135803, 0.913...</td>\n",
              "      <td>[0.07142857142857142, 0.07142857142857142, 0.0...</td>\n",
              "      <td>[0.2, 0.2, 0.2, 0.2]</td>\n",
              "      <td>[0.0, 0.0, 0.0, 0.0]</td>\n",
              "      <td>[0.0, 0.0, 0.0, 0.0]</td>\n",
              "    </tr>\n",
              "    <tr>\n",
              "      <th>21.0</th>\n",
              "      <td>[1.0, 1.0, 1.0, 1.0]</td>\n",
              "      <td>[0.0, 0.3333333333333333, 0.6666666666666667, ...</td>\n",
              "      <td>[1.0, 1.0, 0.0, 0.5]</td>\n",
              "      <td>[0.999993133434998, 0.9999995807546644, 0.9999...</td>\n",
              "      <td>[0.0, 0.0, 0.0, 0.0]</td>\n",
              "      <td>[0.2727272727272727, 0.2727272727272727, 0.272...</td>\n",
              "      <td>[0.6976744186046524, 0.6976744186046524, 0.697...</td>\n",
              "      <td>[0.8395061728395061, 0.8395061728395061, 0.839...</td>\n",
              "      <td>[0.14285714285714285, 0.14285714285714285, 0.1...</td>\n",
              "      <td>[0.75, 0.75, 0.75, 0.75]</td>\n",
              "      <td>[0.0, 0.0, 0.0, 0.0]</td>\n",
              "      <td>[0.0, 0.0, 0.0, 0.0]</td>\n",
              "    </tr>\n",
              "    <tr>\n",
              "      <th>22.0</th>\n",
              "      <td>[1.0, 1.0, 1.0, 1.0]</td>\n",
              "      <td>[0.0, 0.3333333333333333, 0.6666666666666667, ...</td>\n",
              "      <td>[1.0, 1.0, 0.0, 0.5]</td>\n",
              "      <td>[0.999993133434998, 0.9999996183486081, 0.9999...</td>\n",
              "      <td>[0.0, 0.0, 0.0, 0.0]</td>\n",
              "      <td>[0.2424242424242424, 0.2424242424242424, 0.242...</td>\n",
              "      <td>[0.6976744186046524, 0.6976744186046524, 0.697...</td>\n",
              "      <td>[0.9135802469135803, 0.9135802469135803, 0.913...</td>\n",
              "      <td>[0.21428571428571427, 0.21428571428571427, 0.2...</td>\n",
              "      <td>[0.75, 0.75, 0.75, 0.75]</td>\n",
              "      <td>[0.0, 0.0, 0.0, 0.0]</td>\n",
              "      <td>[0.0, 0.0, 0.0, 0.0]</td>\n",
              "    </tr>\n",
              "    <tr>\n",
              "      <th>23.0</th>\n",
              "      <td>[1.0, 1.0, 1.0, 1.0]</td>\n",
              "      <td>[0.0, 0.3333333333333333, 0.6666666666666667, ...</td>\n",
              "      <td>[1.0, 1.0, 0.0, 0.5]</td>\n",
              "      <td>[0.999993133434998, 0.9999996183486081, 0.9999...</td>\n",
              "      <td>[0.0, 0.0, 0.0, 0.0]</td>\n",
              "      <td>[0.2727272727272727, 0.2727272727272727, 0.272...</td>\n",
              "      <td>[0.6976744186046524, 0.6976744186046524, 0.697...</td>\n",
              "      <td>[0.9135802469135803, 0.9135802469135803, 0.913...</td>\n",
              "      <td>[0.2857142857142857, 0.2857142857142857, 0.285...</td>\n",
              "      <td>[0.75, 0.75, 0.75, 0.75]</td>\n",
              "      <td>[0.0, 0.0, 0.0, 0.0]</td>\n",
              "      <td>[0.0, 0.0, 0.0, 0.0]</td>\n",
              "    </tr>\n",
              "  </tbody>\n",
              "</table>\n",
              "</div>"
            ],
            "text/plain": [
              "                           week_or_not  ...            atmosphere\n",
              "Day of year Hour                        ...                      \n",
              "15.0        19.0  [1.0, 1.0, 1.0, 1.0]  ...  [0.0, 0.0, 0.0, 0.0]\n",
              "            20.0  [1.0, 1.0, 1.0, 1.0]  ...  [0.0, 0.0, 0.0, 0.0]\n",
              "            21.0  [1.0, 1.0, 1.0, 1.0]  ...  [0.0, 0.0, 0.0, 0.0]\n",
              "            22.0  [1.0, 1.0, 1.0, 1.0]  ...  [0.0, 0.0, 0.0, 0.0]\n",
              "            23.0  [1.0, 1.0, 1.0, 1.0]  ...  [0.0, 0.0, 0.0, 0.0]\n",
              "\n",
              "[5 rows x 12 columns]"
            ]
          },
          "metadata": {
            "tags": []
          },
          "execution_count": 68
        }
      ]
    },
    {
      "cell_type": "code",
      "metadata": {
        "id": "o8vD28X_uF57",
        "colab_type": "code",
        "colab": {}
      },
      "source": [
        "trafic_flow_reshaped = np.zeros((351,24,4,len(grouped_traffic_flow.columns)))\n",
        "trafic_flow_reshaped.fill(-1)"
      ],
      "execution_count": 0,
      "outputs": []
    },
    {
      "cell_type": "code",
      "metadata": {
        "id": "yFdqxucrn-gA",
        "colab_type": "code",
        "colab": {}
      },
      "source": [
        "#content -> todas as colunas sem hora e dia\n",
        "#esta função cria um array temporal por dias e horas\n",
        "for (day,hour),content in grouped_traffic_flow.iterrows():\n",
        "    index_day = int(day - 15)\n",
        "\n",
        "    #se tiver -1 vai para negativo\n",
        "    index_hour = int(hour)\n",
        "\n",
        "    for entrance in range(4):\n",
        "        place_holder = []\n",
        "        for i in range(len(grouped_traffic_flow.columns)):\n",
        "            place_holder.append(content[i][entrance])\n",
        "    \n",
        "        trafic_flow_reshaped[index_day][index_hour][entrance] = np.array(place_holder)\n",
        "        "
      ],
      "execution_count": 0,
      "outputs": []
    },
    {
      "cell_type": "code",
      "metadata": {
        "id": "-x4culA_IaL3",
        "colab_type": "code",
        "outputId": "6b21dd37-29b5-4208-e4c5-679fb67dbbff",
        "colab": {
          "base_uri": "https://localhost:8080/",
          "height": 34
        }
      },
      "source": [
        "counter = 0\n",
        "for i in range(351):\n",
        "  for j in range(24):\n",
        "    if trafic_flow_reshaped[i][j][0][3] != -1:\n",
        "      counter+=1\n",
        "counter"
      ],
      "execution_count": 71,
      "outputs": [
        {
          "output_type": "execute_result",
          "data": {
            "text/plain": [
              "6815"
            ]
          },
          "metadata": {
            "tags": []
          },
          "execution_count": 71
        }
      ]
    },
    {
      "cell_type": "code",
      "metadata": {
        "id": "gRXWVg4Irsuu",
        "colab_type": "code",
        "outputId": "90c6725e-e1aa-4322-9008-cdc9bd683c22",
        "colab": {
          "base_uri": "https://localhost:8080/",
          "height": 247
        }
      },
      "source": [
        "print(trafic_flow_reshaped.shape)\n",
        "trafic_flow_reshaped[0][19]"
      ],
      "execution_count": 72,
      "outputs": [
        {
          "output_type": "stream",
          "text": [
            "(351, 24, 4, 12)\n"
          ],
          "name": "stdout"
        },
        {
          "output_type": "execute_result",
          "data": {
            "text/plain": [
              "array([[1.        , 0.        , 1.        , 0.99999313, 0.        ,\n",
              "        0.21212121, 0.6744186 , 0.91358025, 0.07142857, 0.12      ,\n",
              "        0.        , 0.        ],\n",
              "       [1.        , 0.33333333, 1.        , 0.29229009, 0.        ,\n",
              "        0.21212121, 0.6744186 , 0.91358025, 0.07142857, 0.12      ,\n",
              "        0.        , 0.        ],\n",
              "       [1.        , 0.66666667, 0.        , 0.79355269, 0.        ,\n",
              "        0.21212121, 0.6744186 , 0.91358025, 0.07142857, 0.12      ,\n",
              "        0.        , 0.        ],\n",
              "       [1.        , 1.        , 0.5       , 0.54500946, 0.        ,\n",
              "        0.21212121, 0.6744186 , 0.91358025, 0.07142857, 0.12      ,\n",
              "        0.        , 0.        ]])"
            ]
          },
          "metadata": {
            "tags": []
          },
          "execution_count": 72
        }
      ]
    },
    {
      "cell_type": "code",
      "metadata": {
        "id": "JguahWepuTid",
        "colab_type": "code",
        "outputId": "b72a71ab-5ebb-42ca-bce7-c3082d8cffdb",
        "colab": {
          "base_uri": "https://localhost:8080/",
          "height": 431
        }
      },
      "source": [
        "grouped_punctual_incidents = punctual_incidents_normalized.groupby(['Day of year', 'Hour']).agg(lambda x: list(x))\n",
        "grouped_punctual_incidents.head()"
      ],
      "execution_count": 73,
      "outputs": [
        {
          "output_type": "execute_result",
          "data": {
            "text/html": [
              "<div>\n",
              "<style scoped>\n",
              "    .dataframe tbody tr th:only-of-type {\n",
              "        vertical-align: middle;\n",
              "    }\n",
              "\n",
              "    .dataframe tbody tr th {\n",
              "        vertical-align: top;\n",
              "    }\n",
              "\n",
              "    .dataframe thead th {\n",
              "        text-align: right;\n",
              "    }\n",
              "</style>\n",
              "<table border=\"1\" class=\"dataframe\">\n",
              "  <thead>\n",
              "    <tr style=\"text-align: right;\">\n",
              "      <th></th>\n",
              "      <th></th>\n",
              "      <th>magnitude_of_delay_desc</th>\n",
              "      <th>length_in_meters</th>\n",
              "      <th>delay_in_seconds</th>\n",
              "      <th>AvenidaCentral</th>\n",
              "      <th>AvenidaLiberdade</th>\n",
              "      <th>RuaDeCaires</th>\n",
              "      <th>Bosch</th>\n",
              "      <th>week_or_not</th>\n",
              "      <th>Minute</th>\n",
              "    </tr>\n",
              "    <tr>\n",
              "      <th>Day of year</th>\n",
              "      <th>Hour</th>\n",
              "      <th></th>\n",
              "      <th></th>\n",
              "      <th></th>\n",
              "      <th></th>\n",
              "      <th></th>\n",
              "      <th></th>\n",
              "      <th></th>\n",
              "      <th></th>\n",
              "      <th></th>\n",
              "    </tr>\n",
              "  </thead>\n",
              "  <tbody>\n",
              "    <tr>\n",
              "      <th>15</th>\n",
              "      <th>19</th>\n",
              "      <td>[0.5, 0.5, 0.5, 1.0, 1.0, 0.0, 1.0, 1.0, 1.0, ...</td>\n",
              "      <td>[0.0832409972299169, 0.13767313019390584, 0.08...</td>\n",
              "      <td>[0.01688664596273292, 0.03610248447204969, 0.0...</td>\n",
              "      <td>[0.3788401855751303, 0.3391396277838723, 0.126...</td>\n",
              "      <td>[0.4055087009098813, 0.30502284857314715, 0.14...</td>\n",
              "      <td>[0.27240673892583406, 0.22880618977279096, 0.2...</td>\n",
              "      <td>[0.1746011688174085, 0.05065291773696623, 0.44...</td>\n",
              "      <td>[1.0, 1.0, 1.0, 1.0, 1.0, 1.0, 1.0, 1.0, 1.0, ...</td>\n",
              "      <td>[0.08333333333333333, 0.08333333333333333, 0.0...</td>\n",
              "    </tr>\n",
              "    <tr>\n",
              "      <th rowspan=\"4\" valign=\"top\">16</th>\n",
              "      <th>8</th>\n",
              "      <td>[1.0, 0.5, 1.0, 1.0, 1.0, 1.0, 0.5, 1.0, 1.0, ...</td>\n",
              "      <td>[0.038227146814404436, 0.09182825484764544, 0....</td>\n",
              "      <td>[0.01106366459627329, 0.024068322981366456, 0....</td>\n",
              "      <td>[0.5507741575713005, 0.37627702628430915, 0.30...</td>\n",
              "      <td>[0.5029863166330251, 0.3463496762020834, 0.285...</td>\n",
              "      <td>[0.48364530622437174, 0.26985749005677173, 0.1...</td>\n",
              "      <td>[0.277122816936313, 0.0902808690565426, 0.0318...</td>\n",
              "      <td>[1.0, 1.0, 1.0, 1.0, 1.0, 1.0, 1.0, 1.0, 1.0, ...</td>\n",
              "      <td>[0.4, 0.4, 0.4, 0.4, 0.4, 0.4, 0.4, 0.4, 0.4, ...</td>\n",
              "    </tr>\n",
              "    <tr>\n",
              "      <th>9</th>\n",
              "      <td>[1.0, 0.0, 1.0, 1.0, 0.5, 1.0, 1.0, 1.0, 1.0, ...</td>\n",
              "      <td>[0.0832409972299169, 0.1926592797783934, 0.059...</td>\n",
              "      <td>[0.04444875776397515, 0.026979813664596272, 0....</td>\n",
              "      <td>[0.3788401855751303, 0.23008203940512229, 0.29...</td>\n",
              "      <td>[0.4055087009098813, 0.24627870129517784, 0.27...</td>\n",
              "      <td>[0.27240673892583406, 0.09862601976517309, 0.1...</td>\n",
              "      <td>[0.1746011688174085, 0.1230668119990839, 0.028...</td>\n",
              "      <td>[1.0, 1.0, 1.0, 1.0, 1.0, 1.0, 1.0, 1.0, 1.0, ...</td>\n",
              "      <td>[0.06666666666666668, 0.06666666666666668, 0.0...</td>\n",
              "    </tr>\n",
              "    <tr>\n",
              "      <th>10</th>\n",
              "      <td>[0.0]</td>\n",
              "      <td>[0.10664819944598339]</td>\n",
              "      <td>[0.007569875776397514]</td>\n",
              "      <td>[0.37955291444546274]</td>\n",
              "      <td>[0.26506759955548714]</td>\n",
              "      <td>[0.39197836406003533]</td>\n",
              "      <td>[0.28868189688066065]</td>\n",
              "      <td>[1.0]</td>\n",
              "      <td>[0.06666666666666668]</td>\n",
              "    </tr>\n",
              "    <tr>\n",
              "      <th>11</th>\n",
              "      <td>[1.0]</td>\n",
              "      <td>[0.03462603878116344]</td>\n",
              "      <td>[0.023874223602484472]</td>\n",
              "      <td>[0.08186255874814218]</td>\n",
              "      <td>[0.13422039930584245]</td>\n",
              "      <td>[0.2818255853309882]</td>\n",
              "      <td>[0.376068381679153]</td>\n",
              "      <td>[1.0]</td>\n",
              "      <td>[0.7333333333333333]</td>\n",
              "    </tr>\n",
              "  </tbody>\n",
              "</table>\n",
              "</div>"
            ],
            "text/plain": [
              "                                            magnitude_of_delay_desc  ...                                             Minute\n",
              "Day of year Hour                                                     ...                                                   \n",
              "15          19    [0.5, 0.5, 0.5, 1.0, 1.0, 0.0, 1.0, 1.0, 1.0, ...  ...  [0.08333333333333333, 0.08333333333333333, 0.0...\n",
              "16          8     [1.0, 0.5, 1.0, 1.0, 1.0, 1.0, 0.5, 1.0, 1.0, ...  ...  [0.4, 0.4, 0.4, 0.4, 0.4, 0.4, 0.4, 0.4, 0.4, ...\n",
              "            9     [1.0, 0.0, 1.0, 1.0, 0.5, 1.0, 1.0, 1.0, 1.0, ...  ...  [0.06666666666666668, 0.06666666666666668, 0.0...\n",
              "            10                                                [0.0]  ...                              [0.06666666666666668]\n",
              "            11                                                [1.0]  ...                               [0.7333333333333333]\n",
              "\n",
              "[5 rows x 9 columns]"
            ]
          },
          "metadata": {
            "tags": []
          },
          "execution_count": 73
        }
      ]
    },
    {
      "cell_type": "code",
      "metadata": {
        "id": "ta9Qp3pkthI3",
        "colab_type": "code",
        "colab": {}
      },
      "source": [
        "punctual_incidents_reshaped = np.zeros((351,24,223,len(grouped_punctual_incidents.columns)))\n",
        "punctual_incidents_reshaped.fill(-1)"
      ],
      "execution_count": 0,
      "outputs": []
    },
    {
      "cell_type": "code",
      "metadata": {
        "id": "SRKdHbqFupoA",
        "colab_type": "code",
        "colab": {}
      },
      "source": [
        "for (day,hour),content in grouped_punctual_incidents.iterrows():\n",
        "    index_day = int(day - 15)\n",
        "    index_hour = int(hour)\n",
        "    \n",
        "    for entrance in range(len(content[0])):\n",
        "        place_holder = []\n",
        "        for i in range(len(grouped_punctual_incidents.columns)):\n",
        "            place_holder.append(content[i][entrance])\n",
        "    \n",
        "        punctual_incidents_reshaped[index_day][index_hour][entrance] = np.array(place_holder)\n",
        "        "
      ],
      "execution_count": 0,
      "outputs": []
    },
    {
      "cell_type": "code",
      "metadata": {
        "id": "Gh4cUoKRvW-o",
        "colab_type": "code",
        "outputId": "d09a52d1-79d8-492d-bbe7-3ddf3b84bfdb",
        "colab": {
          "base_uri": "https://localhost:8080/",
          "height": 141
        }
      },
      "source": [
        "punctual_incidents_reshaped[0][18]"
      ],
      "execution_count": 76,
      "outputs": [
        {
          "output_type": "execute_result",
          "data": {
            "text/plain": [
              "array([[-1., -1., -1., ..., -1., -1., -1.],\n",
              "       [-1., -1., -1., ..., -1., -1., -1.],\n",
              "       [-1., -1., -1., ..., -1., -1., -1.],\n",
              "       ...,\n",
              "       [-1., -1., -1., ..., -1., -1., -1.],\n",
              "       [-1., -1., -1., ..., -1., -1., -1.],\n",
              "       [-1., -1., -1., ..., -1., -1., -1.]])"
            ]
          },
          "metadata": {
            "tags": []
          },
          "execution_count": 76
        }
      ]
    },
    {
      "cell_type": "code",
      "metadata": {
        "id": "5Dzgx4P-vkmc",
        "colab_type": "code",
        "outputId": "e14802e4-796a-468f-dffa-d1ce180ffba3",
        "colab": {
          "base_uri": "https://localhost:8080/",
          "height": 227
        }
      },
      "source": [
        "grouped_closed_roads = closed_roads_normalized.groupby(['Day of year', 'Hour']).agg(lambda x: list(x))\n",
        "grouped_closed_roads.head()"
      ],
      "execution_count": 77,
      "outputs": [
        {
          "output_type": "execute_result",
          "data": {
            "text/html": [
              "<div>\n",
              "<style scoped>\n",
              "    .dataframe tbody tr th:only-of-type {\n",
              "        vertical-align: middle;\n",
              "    }\n",
              "\n",
              "    .dataframe tbody tr th {\n",
              "        vertical-align: top;\n",
              "    }\n",
              "\n",
              "    .dataframe thead th {\n",
              "        text-align: right;\n",
              "    }\n",
              "</style>\n",
              "<table border=\"1\" class=\"dataframe\">\n",
              "  <thead>\n",
              "    <tr style=\"text-align: right;\">\n",
              "      <th></th>\n",
              "      <th></th>\n",
              "      <th>length_in_meters</th>\n",
              "      <th>AvenidaCentral</th>\n",
              "      <th>AvenidaLiberdade</th>\n",
              "      <th>RuaDeCaires</th>\n",
              "      <th>Bosch</th>\n",
              "      <th>week_or_not</th>\n",
              "    </tr>\n",
              "    <tr>\n",
              "      <th>Day of year</th>\n",
              "      <th>Hour</th>\n",
              "      <th></th>\n",
              "      <th></th>\n",
              "      <th></th>\n",
              "      <th></th>\n",
              "      <th></th>\n",
              "      <th></th>\n",
              "    </tr>\n",
              "  </thead>\n",
              "  <tbody>\n",
              "    <tr>\n",
              "      <th rowspan=\"5\" valign=\"top\">15</th>\n",
              "      <th>19</th>\n",
              "      <td>[0.03626306084818685]</td>\n",
              "      <td>[0.18012757697717777]</td>\n",
              "      <td>[0.15036128164510024]</td>\n",
              "      <td>[0.30646102349450727]</td>\n",
              "      <td>[0.4025830411786491]</td>\n",
              "      <td>[1.0]</td>\n",
              "    </tr>\n",
              "    <tr>\n",
              "      <th>20</th>\n",
              "      <td>[0.03626306084818685]</td>\n",
              "      <td>[0.18012757697717777]</td>\n",
              "      <td>[0.15036128164510024]</td>\n",
              "      <td>[0.30646102349450727]</td>\n",
              "      <td>[0.4025830411786491]</td>\n",
              "      <td>[1.0]</td>\n",
              "    </tr>\n",
              "    <tr>\n",
              "      <th>21</th>\n",
              "      <td>[0.03626306084818685]</td>\n",
              "      <td>[0.18012757697717777]</td>\n",
              "      <td>[0.15036128164510024]</td>\n",
              "      <td>[0.30646102349450727]</td>\n",
              "      <td>[0.4025830411786491]</td>\n",
              "      <td>[1.0]</td>\n",
              "    </tr>\n",
              "    <tr>\n",
              "      <th>22</th>\n",
              "      <td>[0.03626306084818685]</td>\n",
              "      <td>[0.18012757697717777]</td>\n",
              "      <td>[0.15036128164510024]</td>\n",
              "      <td>[0.30646102349450727]</td>\n",
              "      <td>[0.4025830411786491]</td>\n",
              "      <td>[1.0]</td>\n",
              "    </tr>\n",
              "    <tr>\n",
              "      <th>23</th>\n",
              "      <td>[0.03626306084818685]</td>\n",
              "      <td>[0.18012757697717777]</td>\n",
              "      <td>[0.15036128164510024]</td>\n",
              "      <td>[0.30646102349450727]</td>\n",
              "      <td>[0.4025830411786491]</td>\n",
              "      <td>[1.0]</td>\n",
              "    </tr>\n",
              "  </tbody>\n",
              "</table>\n",
              "</div>"
            ],
            "text/plain": [
              "                       length_in_meters  ... week_or_not\n",
              "Day of year Hour                         ...            \n",
              "15          19    [0.03626306084818685]  ...       [1.0]\n",
              "            20    [0.03626306084818685]  ...       [1.0]\n",
              "            21    [0.03626306084818685]  ...       [1.0]\n",
              "            22    [0.03626306084818685]  ...       [1.0]\n",
              "            23    [0.03626306084818685]  ...       [1.0]\n",
              "\n",
              "[5 rows x 6 columns]"
            ]
          },
          "metadata": {
            "tags": []
          },
          "execution_count": 77
        }
      ]
    },
    {
      "cell_type": "code",
      "metadata": {
        "id": "BcjTT6H_vxKJ",
        "colab_type": "code",
        "colab": {}
      },
      "source": [
        "closed_roads_reshaped = np.zeros((351,24,7,len(grouped_closed_roads.columns)))\n",
        "closed_roads_reshaped.fill(-1)"
      ],
      "execution_count": 0,
      "outputs": []
    },
    {
      "cell_type": "code",
      "metadata": {
        "id": "tfX2r4VhwhFf",
        "colab_type": "code",
        "colab": {}
      },
      "source": [
        "for (day,hour),content in grouped_closed_roads.iterrows():\n",
        "    index_day = int(day - 15)\n",
        "    index_hour = int(hour)\n",
        "\n",
        "    \n",
        "    for entrance in range(len(content[0])):\n",
        "        place_holder = []\n",
        "        for i in range(len(grouped_closed_roads.columns)):\n",
        "            place_holder.append(content[i][entrance])\n",
        "    \n",
        "        closed_roads_reshaped[index_day][index_hour][entrance] = np.array(place_holder)\n",
        "        "
      ],
      "execution_count": 0,
      "outputs": []
    },
    {
      "cell_type": "code",
      "metadata": {
        "id": "OwpkBDqQwpgm",
        "colab_type": "code",
        "outputId": "572f8b0d-9d68-4bd1-c527-50f962108cc4",
        "colab": {
          "base_uri": "https://localhost:8080/",
          "height": 141
        }
      },
      "source": [
        "closed_roads_reshaped[0][18]"
      ],
      "execution_count": 80,
      "outputs": [
        {
          "output_type": "execute_result",
          "data": {
            "text/plain": [
              "array([[-1., -1., -1., -1., -1., -1.],\n",
              "       [-1., -1., -1., -1., -1., -1.],\n",
              "       [-1., -1., -1., -1., -1., -1.],\n",
              "       [-1., -1., -1., -1., -1., -1.],\n",
              "       [-1., -1., -1., -1., -1., -1.],\n",
              "       [-1., -1., -1., -1., -1., -1.],\n",
              "       [-1., -1., -1., -1., -1., -1.]])"
            ]
          },
          "metadata": {
            "tags": []
          },
          "execution_count": 80
        }
      ]
    },
    {
      "cell_type": "code",
      "metadata": {
        "id": "ND66VAY8y8Pa",
        "colab_type": "code",
        "outputId": "6b1ffa32-3f47-4112-abd1-1265e54db4d6",
        "colab": {
          "base_uri": "https://localhost:8080/",
          "height": 34
        }
      },
      "source": [
        "trafic_flow_reshaped.shape"
      ],
      "execution_count": 81,
      "outputs": [
        {
          "output_type": "execute_result",
          "data": {
            "text/plain": [
              "(351, 24, 4, 12)"
            ]
          },
          "metadata": {
            "tags": []
          },
          "execution_count": 81
        }
      ]
    },
    {
      "cell_type": "code",
      "metadata": {
        "id": "loDKZSf3zBZW",
        "colab_type": "code",
        "outputId": "a9b8c858-be38-40b9-b641-be88c27aafaf",
        "colab": {
          "base_uri": "https://localhost:8080/",
          "height": 34
        }
      },
      "source": [
        "punctual_incidents_reshaped.shape"
      ],
      "execution_count": 82,
      "outputs": [
        {
          "output_type": "execute_result",
          "data": {
            "text/plain": [
              "(351, 24, 223, 9)"
            ]
          },
          "metadata": {
            "tags": []
          },
          "execution_count": 82
        }
      ]
    },
    {
      "cell_type": "code",
      "metadata": {
        "id": "JRyRgFtrzBhH",
        "colab_type": "code",
        "outputId": "91f9f8ef-8e0d-4615-de87-295642de5adf",
        "colab": {
          "base_uri": "https://localhost:8080/",
          "height": 34
        }
      },
      "source": [
        "closed_roads_reshaped.shape"
      ],
      "execution_count": 83,
      "outputs": [
        {
          "output_type": "execute_result",
          "data": {
            "text/plain": [
              "(351, 24, 7, 6)"
            ]
          },
          "metadata": {
            "tags": []
          },
          "execution_count": 83
        }
      ]
    },
    {
      "cell_type": "code",
      "metadata": {
        "id": "Nqbbn6c833V6",
        "colab_type": "code",
        "outputId": "69dd9ead-038d-48dc-9045-707b40c6d8f8",
        "colab": {
          "base_uri": "https://localhost:8080/",
          "height": 87
        }
      },
      "source": [
        "trafic_flow_reshaped[0][18]"
      ],
      "execution_count": 84,
      "outputs": [
        {
          "output_type": "execute_result",
          "data": {
            "text/plain": [
              "array([[-1., -1., -1., -1., -1., -1., -1., -1., -1., -1., -1., -1.],\n",
              "       [-1., -1., -1., -1., -1., -1., -1., -1., -1., -1., -1., -1.],\n",
              "       [-1., -1., -1., -1., -1., -1., -1., -1., -1., -1., -1., -1.],\n",
              "       [-1., -1., -1., -1., -1., -1., -1., -1., -1., -1., -1., -1.]])"
            ]
          },
          "metadata": {
            "tags": []
          },
          "execution_count": 84
        }
      ]
    },
    {
      "cell_type": "code",
      "metadata": {
        "id": "ErCdayx49egO",
        "colab_type": "code",
        "outputId": "0950022d-5ff6-44d3-ea9d-fe93d62e4de4",
        "colab": {
          "base_uri": "https://localhost:8080/",
          "height": 34
        }
      },
      "source": [
        "trafic_flow_reshaped[0][18][:,3]"
      ],
      "execution_count": 85,
      "outputs": [
        {
          "output_type": "execute_result",
          "data": {
            "text/plain": [
              "array([-1., -1., -1., -1.])"
            ]
          },
          "metadata": {
            "tags": []
          },
          "execution_count": 85
        }
      ]
    },
    {
      "cell_type": "code",
      "metadata": {
        "id": "dKPIWgn8BfrW",
        "colab_type": "code",
        "colab": {}
      },
      "source": [
        "background_hours = 3"
      ],
      "execution_count": 0,
      "outputs": []
    },
    {
      "cell_type": "code",
      "metadata": {
        "id": "8eAhwHh29FTh",
        "colab_type": "code",
        "colab": {}
      },
      "source": [
        "def to_supervised(dataset, dataset_index, background_hours):\n",
        "  labels = []\n",
        "  timesteps = []\n",
        "\n",
        "  for day in range(351):\n",
        "    for hour in range(24):\n",
        "      if (day == 350 and hour > (23-background_hours)):\n",
        "        break\n",
        "      else:\n",
        "          tbf = []\n",
        "          for context in range(background_hours):\n",
        "              current_jump = hour+context\n",
        "              time_frame = np.repeat( [[ hour/24 ]] , dataset.shape[2], axis=0) \n",
        "              if current_jump > 23 :\n",
        "                  adjusted_jump = current_jump - 23\n",
        "                  tbf.append( np.hstack((time_frame,dataset[day+1][adjusted_jump-1])) )\n",
        "              else:\n",
        "                tbf.append( np.hstack(( time_frame, dataset[day][current_jump])))\n",
        "\n",
        "          timesteps.append(tbf)\n",
        "          if dataset_index == 1:\n",
        "            label_jump = hour + background_hours\n",
        "\n",
        "            if label_jump > 23 :\n",
        "              adjusted_label_jump = label_jump - 23\n",
        "              labels.append(dataset[day+1][adjusted_label_jump-1][:,3])\n",
        "            else :\n",
        "              labels.append(dataset[day][hour+background_hours][:,3])\n",
        "\n",
        "  if dataset_index == 1:\n",
        "    return timesteps, labels\n",
        "\n",
        "  else:\n",
        "    return timesteps\n",
        "          "
      ],
      "execution_count": 0,
      "outputs": []
    },
    {
      "cell_type": "code",
      "metadata": {
        "id": "oDmJ0onGAOXr",
        "colab_type": "code",
        "outputId": "9b3ebbf7-aa14-463e-ed51-b54672777dda",
        "colab": {
          "base_uri": "https://localhost:8080/",
          "height": 52
        }
      },
      "source": [
        "traffic_flow_timesteps, labels = to_supervised(trafic_flow_reshaped, 1, background_hours)\n",
        "traffic_flow_model_data = np.array(traffic_flow_timesteps)\n",
        "labels = np.array(labels)\n",
        "print(traffic_flow_model_data.shape)\n",
        "print(labels.shape)"
      ],
      "execution_count": 88,
      "outputs": [
        {
          "output_type": "stream",
          "text": [
            "(8421, 3, 4, 13)\n",
            "(8421, 4)\n"
          ],
          "name": "stdout"
        }
      ]
    },
    {
      "cell_type": "code",
      "metadata": {
        "id": "9Xbq9A5EBxOY",
        "colab_type": "code",
        "outputId": "04e9f431-531e-4ff5-9aee-af1e0641c9c8",
        "colab": {
          "base_uri": "https://localhost:8080/",
          "height": 34
        }
      },
      "source": [
        "punctual_incidents_timesteps = to_supervised(punctual_incidents_reshaped, 2, background_hours)\n",
        "punctual_incidents_model_data = np.array(punctual_incidents_timesteps)\n",
        "print(punctual_incidents_model_data.shape)"
      ],
      "execution_count": 89,
      "outputs": [
        {
          "output_type": "stream",
          "text": [
            "(8421, 3, 223, 10)\n"
          ],
          "name": "stdout"
        }
      ]
    },
    {
      "cell_type": "code",
      "metadata": {
        "id": "4n4J_dMVB63Y",
        "colab_type": "code",
        "outputId": "846fdc60-096e-4b91-db2e-f9bad72d9ad5",
        "colab": {
          "base_uri": "https://localhost:8080/",
          "height": 34
        }
      },
      "source": [
        "closed_roads_timesteps = to_supervised(closed_roads_reshaped, 2, background_hours)\n",
        "closed_roads_model_data = np.array(closed_roads_timesteps)\n",
        "print(closed_roads_model_data.shape)"
      ],
      "execution_count": 90,
      "outputs": [
        {
          "output_type": "stream",
          "text": [
            "(8421, 3, 7, 7)\n"
          ],
          "name": "stdout"
        }
      ]
    },
    {
      "cell_type": "code",
      "metadata": {
        "id": "K4Vx1V4gIgdZ",
        "colab_type": "code",
        "colab": {}
      },
      "source": [
        "def time_shift(traffic_flow_model_data,labels,punctual_incidents_model_data,closed_roads_model_data):\n",
        "  indexes = []\n",
        "  for i in range(closed_roads_model_data.shape[0]):\n",
        "      if -1 in labels[i]:\n",
        "        indexes.append(i)\n",
        "\n",
        "  corrected_traffic_flow_model_data = np.delete(traffic_flow_model_data,indexes,axis=0)\n",
        "  corrected_labels = np.delete(labels,indexes,axis=0)\n",
        "  corrected_punctual_incidents_model_data = np.delete(punctual_incidents_model_data,indexes,axis=0)\n",
        "  corrected_closed_roads_model_data = np.delete(closed_roads_model_data,indexes,axis=0)\n",
        "\n",
        "  return corrected_traffic_flow_model_data,corrected_labels,corrected_punctual_incidents_model_data,corrected_closed_roads_model_data\n",
        "\n",
        "corrected_traffic_flow_model_data,corrected_labels,corrected_punctual_incidents_model_data,corrected_closed_roads_model_data = time_shift(traffic_flow_model_data,labels,punctual_incidents_model_data,closed_roads_model_data)"
      ],
      "execution_count": 0,
      "outputs": []
    },
    {
      "cell_type": "code",
      "metadata": {
        "id": "KorllVJFJbDg",
        "colab_type": "code",
        "outputId": "fa994908-63db-4156-ff96-a78d750e347f",
        "colab": {
          "base_uri": "https://localhost:8080/",
          "height": 87
        }
      },
      "source": [
        "print('Taffic flow data shape: {}'.format(corrected_traffic_flow_model_data.shape))\n",
        "print('Punctual incidents data shape: {}'.format(corrected_punctual_incidents_model_data.shape))\n",
        "print('Closed roads data shape: {}'.format(corrected_closed_roads_model_data.shape))\n",
        "print('Labels shape: {}'.format(corrected_labels.shape))"
      ],
      "execution_count": 92,
      "outputs": [
        {
          "output_type": "stream",
          "text": [
            "Taffic flow data shape: (6815, 3, 4, 13)\n",
            "Punctual incidents data shape: (6815, 3, 223, 10)\n",
            "Closed roads data shape: (6815, 3, 7, 7)\n",
            "Labels shape: (6815, 4)\n"
          ],
          "name": "stdout"
        }
      ]
    },
    {
      "cell_type": "code",
      "metadata": {
        "id": "GrTHewplHAqp",
        "colab_type": "code",
        "outputId": "a7539819-ce0c-44e4-a791-44d855f96aa2",
        "colab": {
          "base_uri": "https://localhost:8080/",
          "height": 123
        }
      },
      "source": [
        "print('------------ Reshaping the datasets ------------')\n",
        "\n",
        "print('------------ Train set ------------')\n",
        "(x1,x2,x3,x4) = corrected_traffic_flow_model_data.shape\n",
        "corrected_traffic_flow_model_data = corrected_traffic_flow_model_data.reshape(x1,x2,x3*x4)\n",
        "print('Taffic flow data shape: {}'.format(corrected_traffic_flow_model_data.shape))\n",
        "\n",
        "(x1,x2,x3,x4) = corrected_punctual_incidents_model_data.shape\n",
        "corrected_punctual_incidents_model_data = corrected_punctual_incidents_model_data.reshape(x1,x2,x3*x4)\n",
        "print('Punctual incidents data shape: {}'.format(corrected_punctual_incidents_model_data.shape))\n",
        "\n",
        "(x1,x2,x3,x4) = corrected_closed_roads_model_data.shape\n",
        "corrected_closed_roads_model_data = corrected_closed_roads_model_data.reshape(x1,x2,x3*x4)\n",
        "print('Closed roads data shape: {}'.format(corrected_closed_roads_model_data.shape))\n",
        "\n",
        "print('Labels shape: {}'.format(corrected_labels.shape))"
      ],
      "execution_count": 93,
      "outputs": [
        {
          "output_type": "stream",
          "text": [
            "------------ Reshaping the datasets ------------\n",
            "------------ Train set ------------\n",
            "Taffic flow data shape: (6815, 3, 52)\n",
            "Punctual incidents data shape: (6815, 3, 2230)\n",
            "Closed roads data shape: (6815, 3, 49)\n",
            "Labels shape: (6815, 4)\n"
          ],
          "name": "stdout"
        }
      ]
    },
    {
      "cell_type": "code",
      "metadata": {
        "id": "ndylMimzt3nZ",
        "colab_type": "code",
        "colab": {}
      },
      "source": [
        "import tensorflow as tf\n",
        "from tensorflow import keras\n",
        "from tensorflow.keras.models import Model\n",
        "from tensorflow.keras.layers import Input,LSTM,Masking,concatenate,Dense,Flatten,Reshape, Dropout\n",
        "from tensorflow.keras.losses import MeanSquaredError\n",
        "from tensorflow.keras.metrics import RootMeanSquaredError"
      ],
      "execution_count": 0,
      "outputs": []
    },
    {
      "cell_type": "code",
      "metadata": {
        "id": "JzaM6Gk4F8gs",
        "colab_type": "code",
        "colab": {}
      },
      "source": [
        " def build_model(traffic_shape,punctual_shape,closed_shape,units_lstm,units_dense,dropout,recurrent_dropout):\n",
        "\n",
        "  traffic_flow_input = Input(shape = traffic_shape)\n",
        "  punctual_incidents_input = Input(shape = punctual_shape)\n",
        "  closed_roads_input = Input(shape = closed_shape)\n",
        "\n",
        "  mask1 = Masking(mask_value = -1)(traffic_flow_input)\n",
        "  lstm1 = LSTM(units=units_lstm[0], dropout = dropout,recurrent_dropout=recurrent_dropout, return_sequences = True)(mask1)\n",
        "  \n",
        "  mask2 = Masking(mask_value = -1)(punctual_incidents_input)\n",
        "  lstm2 = LSTM(units=units_lstm[1], dropout = dropout,recurrent_dropout=recurrent_dropout, return_sequences = True)(mask2)\n",
        "  \n",
        "  mask3 = Masking(mask_value = -1)(closed_roads_input)\n",
        "  lstm3 = LSTM(units=units_lstm[2], dropout = dropout,recurrent_dropout=recurrent_dropout,return_sequences = True)(mask3)\n",
        "\n",
        "  concat_result = concatenate( [lstm1,lstm2,lstm3],axis=1)\n",
        "  lstm4 = LSTM(units = units_lstm[2],dropout = dropout,recurrent_dropout=recurrent_dropout,return_sequences = False)(concat_result)\n",
        "\n",
        "  dense1 = Dense(units_dense,activation='relu')(lstm4)\n",
        "  \n",
        "  dense1 = Dropout(rate = dropout)(dense1)\n",
        "\n",
        "  dense_output = Dense(4,activation='sigmoid')(dense1)\n",
        "\n",
        "  model = Model(inputs=[traffic_flow_input,punctual_incidents_input,closed_roads_input], outputs = dense_output, name='traffic_flow_lstm')\n",
        "\n",
        "  model.compile(optimizer = \"adam\", loss = MeanSquaredError(), metrics = [RootMeanSquaredError()])\n",
        "\n",
        "  return model\n",
        "\n",
        "#model = build_model(corrected_traffic_flow_model_data.shape[1:],corrected_punctual_incidents_model_data.shape[1:],corrected_closed_roads_model_data.shape[1:],units_lstm=[16,16,16],units_dense=32,dropout = 0.3,recurrent_dropout=0)\n",
        "#model.summary()"
      ],
      "execution_count": 0,
      "outputs": []
    },
    {
      "cell_type": "code",
      "metadata": {
        "id": "agEf8S-x9L3t",
        "colab_type": "code",
        "colab": {}
      },
      "source": [
        "#!pip install livelossplot\n",
        "#from livelossplot import PlotLossesKeras"
      ],
      "execution_count": 0,
      "outputs": []
    },
    {
      "cell_type": "code",
      "metadata": {
        "id": "cgyQkwqVPkZc",
        "colab_type": "code",
        "outputId": "2f2093ca-8c5b-49cb-876a-320c79fd3446",
        "colab": {
          "base_uri": "https://localhost:8080/",
          "height": 176
        }
      },
      "source": [
        "#custom backtest function\n",
        "#We have two aproaches for backtesting in temporal series\n",
        "#Sliding window or expanding window, i'm using expanding window\n",
        "\n",
        "import numpy as np\n",
        "from sklearn.model_selection import TimeSeriesSplit\n",
        "\n",
        "\n",
        "def backtest_expanding(epochs,corrected_traffic_flow_model_data,corrected_labels,corrected_punctual_incidents_model_data,corrected_closed_roads_model_data):\n",
        "\n",
        "    predictions = []\n",
        "    true_values = []\n",
        "    accuracy_test = []\n",
        "    accuracy_train = []\n",
        "\n",
        "    n_splits = 6\n",
        "    tscv = TimeSeriesSplit(max_train_size=None, n_splits= n_splits)\n",
        "\n",
        "    tmp = 1\n",
        "    for train_index, test_index in tscv.split(corrected_traffic_flow_model_data):\n",
        "      \n",
        "      print(\"This is the \" + str(tmp) + \" model\")\n",
        "\n",
        "        \n",
        "      x_train1 = corrected_traffic_flow_model_data[train_index]\n",
        "      x_train2 = corrected_punctual_incidents_model_data[train_index]\n",
        "      x_train3 = corrected_closed_roads_model_data[train_index]\n",
        "      y_train = corrected_labels[train_index]\n",
        "\n",
        "      x_test1 = corrected_traffic_flow_model_data[test_index]\n",
        "      x_test2 = corrected_punctual_incidents_model_data[test_index]\n",
        "      x_test3 = corrected_closed_roads_model_data[test_index]\n",
        "      y_test = corrected_labels[test_index]\n",
        "      \n",
        "      model = build_model(corrected_traffic_flow_model_data.shape[1:],corrected_punctual_incidents_model_data.shape[1:],corrected_closed_roads_model_data.shape[1:],units_lstm=[126,126,126],units_dense=256,dropout = 0,recurrent_dropout=0)\n",
        "\n",
        "    \n",
        "      history = model.fit(\n",
        "            x=[\n",
        "              x_train1,\n",
        "              x_train2,\n",
        "              x_train3\n",
        "              ],\n",
        "          y =[y_train],\n",
        "          epochs = epochs,\n",
        "          shuffle = False,\n",
        "          batch_size = 128,\n",
        "          verbose = 0\n",
        "      )\n",
        "\n",
        "      #loss_train\n",
        "      acc_train = history.history[\"root_mean_squared_error\"][-1]\n",
        "\n",
        "      acc_test = model.evaluate([x_test1,x_test2,x_test3],[y_test])[1]\n",
        "\n",
        "\n",
        "      accuracy_train.append(acc_train)\n",
        "      accuracy_test.append(acc_test)  \n",
        "\n",
        "      tmp += 1\n",
        "\n",
        "    return accuracy_train, accuracy_test, model\n",
        "\n",
        "\n",
        "epochs = 100\n",
        "#model = build_model(corrected_traffic_flow_model_data.shape[1:],corrected_punctual_incidents_model_data.shape[1:],corrected_closed_roads_model_data.shape[1:],units_lstm=[16,16,16],units_dense=32)\n",
        "accuracy_train, accuracy_test, model = backtest_expanding(epochs,corrected_traffic_flow_model_data,corrected_labels,corrected_punctual_incidents_model_data,corrected_closed_roads_model_data)"
      ],
      "execution_count": 0,
      "outputs": [
        {
          "output_type": "stream",
          "text": [
            "This is the 1 model\n",
            "31/31 [==============================] - 0s 9ms/step - loss: 0.0174 - root_mean_squared_error: 0.1318\n",
            "This is the 2 model\n",
            "31/31 [==============================] - 0s 10ms/step - loss: 0.0131 - root_mean_squared_error: 0.1146\n",
            "This is the 3 model\n",
            "31/31 [==============================] - 0s 9ms/step - loss: 0.0116 - root_mean_squared_error: 0.1077\n",
            "This is the 4 model\n",
            "31/31 [==============================] - 0s 10ms/step - loss: 0.0109 - root_mean_squared_error: 0.1042\n",
            "This is the 5 model\n"
          ],
          "name": "stdout"
        }
      ]
    },
    {
      "cell_type": "code",
      "metadata": {
        "id": "X3_U_YE6O_gZ",
        "colab_type": "code",
        "outputId": "e6c2d12a-4750-4bff-e491-fca00a8c9b80",
        "colab": {
          "base_uri": "https://localhost:8080/",
          "height": 294
        }
      },
      "source": [
        "import matplotlib.pyplot as plt\n",
        "\n",
        "def plot_learning_curves(accuracy_train,accuracy_test):\n",
        "  plt.plot(accuracy_train)\n",
        "  plt.plot(accuracy_test)\n",
        "\n",
        "  plt.title(\"Learning Curves\")\n",
        "  plt.xlabel(\"100 Epochs from each Model, each model have more data as the previous model, 6 splits\")\n",
        "  plt.ylabel(\"Accuracy\")\n",
        "  plt.legend([\n",
        "            'Accuracy Train',\n",
        "            'Accuracy Test',\n",
        "            ],loc = 'upper left')\n",
        "  plt.show\n",
        "\n",
        "plot_learning_curves(accuracy_train,accuracy_test)"
      ],
      "execution_count": 99,
      "outputs": [
        {
          "output_type": "display_data",
          "data": {
            "image/png": "[encoded data removed]",
            "text/plain": [
              "<Figure size 432x288 with 1 Axes>"
            ]
          },
          "metadata": {
            "tags": [],
            "needs_background": "light"
          }
        }
      ]
    },
    {
      "cell_type": "code",
      "metadata": {
        "id": "GNON6luPPeiX",
        "colab_type": "code",
        "colab": {}
      },
      "source": [
        "import matplotlib.pyplot as plt\n",
        "\n",
        "def make_plot(street_number,n_hour_to_predict,x_axis):\n",
        "\n",
        "  plt.figure(figsize=(20,5))\n",
        "  \n",
        "  #número de horas que fazemos a previsão\n",
        "  i = n_hour_to_predict - 1\n",
        "  x_axis = np.asarray(x_axis)\n",
        "\n",
        "\n",
        "  x_axis_train = x_axis[:len(x_axis) - i][-50:]\n",
        "  y_train = corrected_labels[:len(corrected_labels)-i][:,street_number][-50:]\n",
        "\n",
        "\n",
        "  y_axis_true_values = corrected_labels[:len(corrected_labels)][(-i-50):][:,street_number]\n",
        "  \n",
        "  y_axis_predictions = []\n",
        "  x1_to_predict = corrected_traffic_flow_model_data[:len(corrected_traffic_flow_model_data)][-i:]\n",
        "  x2_to_predict = corrected_punctual_incidents_model_data[:len(corrected_punctual_incidents_model_data)][-i:]\n",
        "  x3_to_predict = corrected_closed_roads_model_data[:len(corrected_closed_roads_model_data)][-i:]\n",
        "\n",
        "  for i in range(len(x1_to_predict)):\n",
        "    x1 = x1_to_predict[i].reshape(1,3,52)\n",
        "    x2 = x2_to_predict[i].reshape(1,3,2230)\n",
        "    x3 = x3_to_predict[i].reshape(1,3,49)\n",
        "\n",
        "    pre = model.predict([x1,x2,x3])[0][street_number]  \n",
        "    y_axis_predictions.append(pre)\n",
        "    \n",
        "  \n",
        "  y_axis_predictions = np.append(y_train,np.asarray(y_axis_predictions),axis=0)\n",
        " \n",
        "  number = 51 + i\n",
        "\n",
        "  \n",
        "  \n",
        "  plt.plot(x_axis[-number:],y_axis_predictions,'r') #predicted time ratio\n",
        "  plt.plot(x_axis[-number:],y_axis_true_values,'b')#real time ratio\n",
        "  plt.plot(x_axis_train,y_train,'k')#train data\n",
        "  plt.xticks(rotation=90)\n",
        "\n",
        "  plt.title(\"Time Ratio Traffic in Braga\")\n",
        "  plt.xlabel(\"Day and hour\")\n",
        "  plt.xticks(rotation=90)\n",
        "  plt.ylabel(\"Time Ratio\")\n",
        "  plt.legend([\n",
        "            'Predicted Time Ratio',\n",
        "            'Real Time Ratio',\n",
        "            'Train data'\n",
        "            ],loc = 'upper left')\n",
        "  \n",
        "  plt.legend\n",
        "  plt.show()\n",
        "  \n",
        "\n",
        "n_hour_to_predict = 20\n",
        "make_plot(1,n_hour_to_predict,x_axis)"
      ],
      "execution_count": 0,
      "outputs": []
    },
    {
      "cell_type": "code",
      "metadata": {
        "id": "SLlIK3sDgpve",
        "colab_type": "code",
        "colab": {}
      },
      "source": [
        "#def save_model(model_name, losses, epochs, batch_size, time_step, units_lstm, units_dense,stateless = True):\n",
        "    import os\n",
        "    import csv\n",
        "    from matplotlib import pyplot as plt\n",
        "\n",
        "    \n",
        "    csv_file = model_name + \".csv\"\n",
        "    \n",
        "    file_exists = os.path.isfile(csv_file)\n",
        "    \n",
        "    \n",
        "    with open (csv_file, 'a') as csvfile:\n",
        "        headers = ['Loss' , 'Units Lstm', 'Units Dense', 'Time Step','Epochs', 'Stateless', 'Batch']\n",
        "        \n",
        "        writer = csv.DictWriter(csvfile, delimiter=',', lineterminator='\\n',fieldnames=headers)\n",
        "\n",
        "        if not file_exists:\n",
        "            writer.writeheader()  # file doesn't exist yet, write a header\n",
        "                \n",
        "        writer.writerow({'Loss': losses[-1],\n",
        "                         'Units Lstm': units_lstm,\n",
        "                         'Units Dense': units_dense,\n",
        "                         'Time Step': time_step,\n",
        "                         'Epochs': epochs,\n",
        "                         'Stateless': stateless,\n",
        "                         'Batch': batch_size\n",
        "        })\n",
        "                         \n",
        "                         \n",
        "#save_model(\"model\",losses,epochs,0,5,[16,16,16],32)"
      ],
      "execution_count": 0,
      "outputs": []
    },
    {
      "cell_type": "code",
      "metadata": {
        "id": "p7Mqdzbf0aFd",
        "colab_type": "code",
        "colab": {}
      },
      "source": [
        "def greedy_search():\n",
        "\n",
        "  time_step = [1,2,3,4,5]\n",
        "\n",
        "  epochs = 10\n",
        "  batch_size = 0\n",
        "  stateless = True\n",
        "\n",
        "  units_lstm = [\n",
        "                [32,32,32],\n",
        "                [64,64,64],\n",
        "                [128,128,128],\n",
        "                [256,256,256],\n",
        "                [512,512,512]\n",
        "  ]\n",
        "  units_dense = [\n",
        "                 32,\n",
        "                 64,\n",
        "                 128,\n",
        "                 256,\n",
        "                 512\n",
        "                ]\n",
        "\n",
        "  for n_time_step in time_step:\n",
        "    for lstm_units in units_lstm:\n",
        "      for dense_units in units_dense:\n",
        "\n",
        "        if(n_time_step == 1 and (lstm_units == [32,32,32] or lstm_units == [64,64,64] or lstm_units == [128,128,128] or lstm_units == [256,256,256])):\n",
        "\n",
        "          continue\n",
        "        else:\n",
        "        \n",
        "          #coloca os time_steps genericos para traffic e labels\n",
        "          traffic_flow_timesteps, labels = to_supervised(trafic_flow_reshaped, 1, n_time_step)\n",
        "          traffic_flow_model_data = np.array(traffic_flow_timesteps)\n",
        "          labels = np.array(labels)\n",
        "\n",
        "          #coloca os time_steps genericos para puntual_inicidents\n",
        "          punctual_incidents_timesteps = to_supervised(punctual_incidents_reshaped, 2, n_time_step)\n",
        "          punctual_incidents_model_data = np.array(punctual_incidents_timesteps)\n",
        "\n",
        "          ##coloca os time_steps genericos para closed_roads\n",
        "          closed_roads_timesteps = to_supervised(closed_roads_reshaped, 2, n_time_step)\n",
        "          closed_roads_model_data = np.array(closed_roads_timesteps)\n",
        "\n",
        "          #faz os time shifts\n",
        "          corrected_traffic_flow_model_data,corrected_labels,corrected_punctual_incidents_model_data,corrected_closed_roads_model_data = time_shift(traffic_flow_model_data,labels,punctual_incidents_model_data,closed_roads_model_data)\n",
        "\n",
        "          #reshape no trafico das ultimas duas colunas   \n",
        "          (x1,x2,x3,x4) = corrected_traffic_flow_model_data.shape\n",
        "          corrected_traffic_flow_model_data = corrected_traffic_flow_model_data.reshape(x1,x2,x3*x4)\n",
        "\n",
        "          #reshape no puntual_incidents das ultimas duas colunas\n",
        "          (x1,x2,x3,x4) = corrected_punctual_incidents_model_data.shape\n",
        "          corrected_punctual_incidents_model_data = corrected_punctual_incidents_model_data.reshape(x1,x2,x3*x4)\n",
        "\n",
        "          #reshape no closed_roads das ultimas duas colunas\n",
        "          (x1,x2,x3,x4) = corrected_closed_roads_model_data.shape\n",
        "          corrected_closed_roads_model_data = corrected_closed_roads_model_data.reshape(x1,x2,x3*x4)\n",
        "\n",
        "          #shapes dos datasets para mandar para o build\n",
        "          shape1 = corrected_traffic_flow_model_data.shape[1:]\n",
        "          shape2 = corrected_punctual_incidents_model_data.shape[1:]\n",
        "          shape3 = corrected_closed_roads_model_data.shape[1:]\n",
        "\n",
        "          model = build_model(shape1,shape2,shape3,lstm_units,dense_units)\n",
        "\n",
        "\n",
        "          print(\"Time step = \"+ str(n_time_step) + \" with units of \" + str(lstm_units) + \" and \" + str(dense_units))\n",
        "\n",
        "          true_values, predictions , losses = backtest_expanding(n_hour_to_predict,model,epochs,corrected_traffic_flow_model_data,corrected_labels,corrected_punctual_incidents_model_data,corrected_closed_roads_model_data)\n",
        "\n",
        "          save_model(\"model\", losses, epochs, batch_size, n_time_step, lstm_units , dense_units)"
      ],
      "execution_count": 0,
      "outputs": []
    },
    {
      "cell_type": "code",
      "metadata": {
        "id": "d8kf2gQIMsnN",
        "colab_type": "code",
        "colab": {}
      },
      "source": [
        "greedy_search()"
      ],
      "execution_count": 0,
      "outputs": []
    },
    {
      "cell_type": "code",
      "metadata": {
        "id": "_WH4fq0uObPk",
        "colab_type": "code",
        "colab": {}
      },
      "source": [
        ""
      ],
      "execution_count": 0,
      "outputs": []
    }
  ]
}