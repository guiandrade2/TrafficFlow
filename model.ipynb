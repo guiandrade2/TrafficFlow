{
  "nbformat": 4,
  "nbformat_minor": 0,
  "metadata": {
    "kernelspec": {
      "display_name": "Python 3",
      "language": "python",
      "name": "python3"
    },
    "language_info": {
      "codemirror_mode": {
        "name": "ipython",
        "version": 3
      },
      "file_extension": ".py",
      "mimetype": "text/x-python",
      "name": "python",
      "nbconvert_exporter": "python",
      "pygments_lexer": "ipython3",
      "version": "3.7.6"
    },
    "colab": {
      "name": "model.ipynb",
      "provenance": [],
      "collapsed_sections": []
    }
  },
  "cells": [
    {
      "cell_type": "code",
      "metadata": {
        "id": "58g9kCmXuHqn",
        "colab_type": "code",
        "outputId": "92ff77db-02f0-4a86-e02f-985eec19062a",
        "colab": {
          "base_uri": "https://localhost:8080/",
          "height": 129
        }
      },
      "source": [
        "from google.colab import drive\n",
        "drive.mount('/content/drive')"
      ],
      "execution_count": 1,
      "outputs": [
        {
          "output_type": "stream",
          "text": [
            "Go to this URL in a browser: https://accounts.google.com/o/oauth2/auth?client_id=947318989803-6bn6qk8qdgf4n4g3pfee6491hc0brc4i.apps.googleusercontent.com&redirect_uri=urn%3aietf%3awg%3aoauth%3a2.0%3aoob&response_type=code&scope=email%20https%3a%2f%2fwww.googleapis.com%2fauth%2fdocs.test%20https%3a%2f%2fwww.googleapis.com%2fauth%2fdrive%20https%3a%2f%2fwww.googleapis.com%2fauth%2fdrive.photos.readonly%20https%3a%2f%2fwww.googleapis.com%2fauth%2fpeopleapi.readonly\n",
            "\n",
            "Enter your authorization code:\n",
            "··········\n",
            "Mounted at /content/drive\n"
          ],
          "name": "stdout"
        }
      ]
    },
    {
      "cell_type": "code",
      "metadata": {
        "id": "fytnhKWtuM9X",
        "colab_type": "code",
        "colab": {
          "base_uri": "https://localhost:8080/",
          "height": 109
        },
        "outputId": "76ca8efe-120a-4945-c19c-48d3ffe03c1b"
      },
      "source": [
        "!cp /content/drive/My\\ Drive/final_datasets.zip /content && unzip final_datasets.zip"
      ],
      "execution_count": 3,
      "outputs": [
        {
          "output_type": "stream",
          "text": [
            "Archive:  final_datasets.zip\n",
            "  inflating: final_dataset.csv       \n",
            "  inflating: out_closed_roads.csv    \n",
            "  inflating: out_punctual_incidents.csv  \n",
            "  inflating: out_trafficflow.csv     \n"
          ],
          "name": "stdout"
        }
      ]
    },
    {
      "cell_type": "code",
      "metadata": {
        "id": "75OyrTfVt3jM",
        "colab_type": "code",
        "colab": {}
      },
      "source": [
        "import pandas as pd\n",
        "import numpy as np"
      ],
      "execution_count": 0,
      "outputs": []
    },
    {
      "cell_type": "code",
      "metadata": {
        "id": "_8tM_sprt3jh",
        "colab_type": "code",
        "colab": {}
      },
      "source": [
        "traffic_flow = pd.read_csv(\"final_dataset.csv\")\n",
        "punctual_incidents = pd.read_csv(\"out_punctual_incidents.csv\")\n",
        "closed_roads = pd.read_csv(\"out_closed_roads.csv\")"
      ],
      "execution_count": 0,
      "outputs": []
    },
    {
      "cell_type": "code",
      "metadata": {
        "id": "VKdY8XG6t3j3",
        "colab_type": "code",
        "outputId": "1e338430-7480-4946-e488-7478e9b27ec6",
        "colab": {
          "base_uri": "https://localhost:8080/",
          "height": 206
        }
      },
      "source": [
        "traffic_flow.head()"
      ],
      "execution_count": 91,
      "outputs": [
        {
          "output_type": "execute_result",
          "data": {
            "text/html": [
              "<div>\n",
              "<style scoped>\n",
              "    .dataframe tbody tr th:only-of-type {\n",
              "        vertical-align: middle;\n",
              "    }\n",
              "\n",
              "    .dataframe tbody tr th {\n",
              "        vertical-align: top;\n",
              "    }\n",
              "\n",
              "    .dataframe thead th {\n",
              "        text-align: right;\n",
              "    }\n",
              "</style>\n",
              "<table border=\"1\" class=\"dataframe\">\n",
              "  <thead>\n",
              "    <tr style=\"text-align: right;\">\n",
              "      <th></th>\n",
              "      <th>Day of year</th>\n",
              "      <th>Hour</th>\n",
              "      <th>week_or_not</th>\n",
              "      <th>road_num</th>\n",
              "      <th>functional_road_class_desc</th>\n",
              "      <th>time_rate</th>\n",
              "      <th>rain</th>\n",
              "      <th>temperature</th>\n",
              "      <th>atmospheric_pressure</th>\n",
              "      <th>humidity</th>\n",
              "      <th>wind_speed</th>\n",
              "      <th>clouds</th>\n",
              "      <th>current_luminosity</th>\n",
              "      <th>atmosphere</th>\n",
              "    </tr>\n",
              "  </thead>\n",
              "  <tbody>\n",
              "    <tr>\n",
              "      <th>0</th>\n",
              "      <td>15.0</td>\n",
              "      <td>19.0</td>\n",
              "      <td>1.0</td>\n",
              "      <td>1.0</td>\n",
              "      <td>3.0</td>\n",
              "      <td>0.999993</td>\n",
              "      <td>0.0</td>\n",
              "      <td>8.0</td>\n",
              "      <td>1019.0</td>\n",
              "      <td>93.0</td>\n",
              "      <td>1.0</td>\n",
              "      <td>12.0</td>\n",
              "      <td>0.0</td>\n",
              "      <td>0.0</td>\n",
              "    </tr>\n",
              "    <tr>\n",
              "      <th>1</th>\n",
              "      <td>15.0</td>\n",
              "      <td>19.0</td>\n",
              "      <td>1.0</td>\n",
              "      <td>2.0</td>\n",
              "      <td>3.0</td>\n",
              "      <td>0.292290</td>\n",
              "      <td>0.0</td>\n",
              "      <td>8.0</td>\n",
              "      <td>1019.0</td>\n",
              "      <td>93.0</td>\n",
              "      <td>1.0</td>\n",
              "      <td>12.0</td>\n",
              "      <td>0.0</td>\n",
              "      <td>0.0</td>\n",
              "    </tr>\n",
              "    <tr>\n",
              "      <th>2</th>\n",
              "      <td>15.0</td>\n",
              "      <td>19.0</td>\n",
              "      <td>1.0</td>\n",
              "      <td>3.0</td>\n",
              "      <td>1.0</td>\n",
              "      <td>0.793552</td>\n",
              "      <td>0.0</td>\n",
              "      <td>8.0</td>\n",
              "      <td>1019.0</td>\n",
              "      <td>93.0</td>\n",
              "      <td>1.0</td>\n",
              "      <td>12.0</td>\n",
              "      <td>0.0</td>\n",
              "      <td>0.0</td>\n",
              "    </tr>\n",
              "    <tr>\n",
              "      <th>3</th>\n",
              "      <td>15.0</td>\n",
              "      <td>19.0</td>\n",
              "      <td>1.0</td>\n",
              "      <td>4.0</td>\n",
              "      <td>2.0</td>\n",
              "      <td>0.545009</td>\n",
              "      <td>0.0</td>\n",
              "      <td>8.0</td>\n",
              "      <td>1019.0</td>\n",
              "      <td>93.0</td>\n",
              "      <td>1.0</td>\n",
              "      <td>12.0</td>\n",
              "      <td>0.0</td>\n",
              "      <td>0.0</td>\n",
              "    </tr>\n",
              "    <tr>\n",
              "      <th>4</th>\n",
              "      <td>15.0</td>\n",
              "      <td>20.0</td>\n",
              "      <td>1.0</td>\n",
              "      <td>1.0</td>\n",
              "      <td>3.0</td>\n",
              "      <td>0.999993</td>\n",
              "      <td>0.0</td>\n",
              "      <td>9.0</td>\n",
              "      <td>1020.0</td>\n",
              "      <td>93.0</td>\n",
              "      <td>1.0</td>\n",
              "      <td>20.0</td>\n",
              "      <td>0.0</td>\n",
              "      <td>0.0</td>\n",
              "    </tr>\n",
              "  </tbody>\n",
              "</table>\n",
              "</div>"
            ],
            "text/plain": [
              "   Day of year  Hour  week_or_not  ...  clouds  current_luminosity  atmosphere\n",
              "0         15.0  19.0          1.0  ...    12.0                 0.0         0.0\n",
              "1         15.0  19.0          1.0  ...    12.0                 0.0         0.0\n",
              "2         15.0  19.0          1.0  ...    12.0                 0.0         0.0\n",
              "3         15.0  19.0          1.0  ...    12.0                 0.0         0.0\n",
              "4         15.0  20.0          1.0  ...    20.0                 0.0         0.0\n",
              "\n",
              "[5 rows x 14 columns]"
            ]
          },
          "metadata": {
            "tags": []
          },
          "execution_count": 91
        }
      ]
    },
    {
      "cell_type": "code",
      "metadata": {
        "id": "1-MF_hO68SZX",
        "colab_type": "code",
        "colab": {}
      },
      "source": [
        "x_axis = []\n",
        "previous_name = \"\"\n",
        "\n",
        "for i in traffic_flow.iterrows():\n",
        "  if(not pd.isnull(i[1][5])):\n",
        "    \n",
        "    name = str(i[1][0]) + \" ,\" + str(i[1][1]) \n",
        "\n",
        "    if(previous_name != name):\n",
        "      x_axis.append(name)\n",
        "    \n",
        "    previous_name = name"
      ],
      "execution_count": 0,
      "outputs": []
    },
    {
      "cell_type": "code",
      "metadata": {
        "id": "5ChaStb2t3kG",
        "colab_type": "code",
        "outputId": "517e2c3a-40de-485f-c58b-5c5754e0494a",
        "colab": {
          "base_uri": "https://localhost:8080/",
          "height": 293
        }
      },
      "source": [
        "traffic_flow.isnull().sum()"
      ],
      "execution_count": 93,
      "outputs": [
        {
          "output_type": "execute_result",
          "data": {
            "text/plain": [
              "Day of year                      0\n",
              "Hour                             0\n",
              "week_or_not                      0\n",
              "road_num                         0\n",
              "functional_road_class_desc       0\n",
              "time_rate                     6360\n",
              "rain                          6200\n",
              "temperature                   6200\n",
              "atmospheric_pressure          6200\n",
              "humidity                      6200\n",
              "wind_speed                    6200\n",
              "clouds                        6200\n",
              "current_luminosity            6132\n",
              "atmosphere                    6200\n",
              "dtype: int64"
            ]
          },
          "metadata": {
            "tags": []
          },
          "execution_count": 93
        }
      ]
    },
    {
      "cell_type": "code",
      "metadata": {
        "id": "DqlBqJcWt3kS",
        "colab_type": "code",
        "outputId": "13a8e304-74a1-40fc-e32e-ad16a61b3edc",
        "colab": {
          "base_uri": "https://localhost:8080/",
          "height": 206
        }
      },
      "source": [
        "punctual_incidents.head()"
      ],
      "execution_count": 94,
      "outputs": [
        {
          "output_type": "execute_result",
          "data": {
            "text/html": [
              "<div>\n",
              "<style scoped>\n",
              "    .dataframe tbody tr th:only-of-type {\n",
              "        vertical-align: middle;\n",
              "    }\n",
              "\n",
              "    .dataframe tbody tr th {\n",
              "        vertical-align: top;\n",
              "    }\n",
              "\n",
              "    .dataframe thead th {\n",
              "        text-align: right;\n",
              "    }\n",
              "</style>\n",
              "<table border=\"1\" class=\"dataframe\">\n",
              "  <thead>\n",
              "    <tr style=\"text-align: right;\">\n",
              "      <th></th>\n",
              "      <th>Day of year</th>\n",
              "      <th>Hour</th>\n",
              "      <th>Minute</th>\n",
              "      <th>magnitude_of_delay_desc</th>\n",
              "      <th>length_in_meters</th>\n",
              "      <th>delay_in_seconds</th>\n",
              "      <th>AvenidaCentral</th>\n",
              "      <th>AvenidaLiberdade</th>\n",
              "      <th>RuaDeCaires</th>\n",
              "      <th>Bosch</th>\n",
              "      <th>week_or_not</th>\n",
              "    </tr>\n",
              "  </thead>\n",
              "  <tbody>\n",
              "    <tr>\n",
              "      <th>0</th>\n",
              "      <td>15</td>\n",
              "      <td>19</td>\n",
              "      <td>0.083333</td>\n",
              "      <td>2</td>\n",
              "      <td>615</td>\n",
              "      <td>111</td>\n",
              "      <td>2871.589353</td>\n",
              "      <td>2871.589353</td>\n",
              "      <td>1767.444236</td>\n",
              "      <td>1267.330940</td>\n",
              "      <td>1</td>\n",
              "    </tr>\n",
              "    <tr>\n",
              "      <th>1</th>\n",
              "      <td>15</td>\n",
              "      <td>19</td>\n",
              "      <td>0.083333</td>\n",
              "      <td>2</td>\n",
              "      <td>1008</td>\n",
              "      <td>210</td>\n",
              "      <td>2571.299699</td>\n",
              "      <td>2161.513827</td>\n",
              "      <td>1486.684810</td>\n",
              "      <td>373.585408</td>\n",
              "      <td>1</td>\n",
              "    </tr>\n",
              "    <tr>\n",
              "      <th>2</th>\n",
              "      <td>15</td>\n",
              "      <td>19</td>\n",
              "      <td>0.083333</td>\n",
              "      <td>2</td>\n",
              "      <td>615</td>\n",
              "      <td>184</td>\n",
              "      <td>965.778946</td>\n",
              "      <td>1027.212214</td>\n",
              "      <td>1758.926643</td>\n",
              "      <td>3206.313071</td>\n",
              "      <td>1</td>\n",
              "    </tr>\n",
              "    <tr>\n",
              "      <th>3</th>\n",
              "      <td>15</td>\n",
              "      <td>19</td>\n",
              "      <td>0.083333</td>\n",
              "      <td>3</td>\n",
              "      <td>322</td>\n",
              "      <td>232</td>\n",
              "      <td>726.759470</td>\n",
              "      <td>855.618311</td>\n",
              "      <td>1665.794200</td>\n",
              "      <td>3053.127261</td>\n",
              "      <td>1</td>\n",
              "    </tr>\n",
              "    <tr>\n",
              "      <th>4</th>\n",
              "      <td>15</td>\n",
              "      <td>19</td>\n",
              "      <td>0.083333</td>\n",
              "      <td>3</td>\n",
              "      <td>208</td>\n",
              "      <td>235</td>\n",
              "      <td>2069.868805</td>\n",
              "      <td>2069.868805</td>\n",
              "      <td>1597.478316</td>\n",
              "      <td>2790.436927</td>\n",
              "      <td>1</td>\n",
              "    </tr>\n",
              "  </tbody>\n",
              "</table>\n",
              "</div>"
            ],
            "text/plain": [
              "   Day of year  Hour    Minute  ...  RuaDeCaires        Bosch  week_or_not\n",
              "0           15    19  0.083333  ...  1767.444236  1267.330940            1\n",
              "1           15    19  0.083333  ...  1486.684810   373.585408            1\n",
              "2           15    19  0.083333  ...  1758.926643  3206.313071            1\n",
              "3           15    19  0.083333  ...  1665.794200  3053.127261            1\n",
              "4           15    19  0.083333  ...  1597.478316  2790.436927            1\n",
              "\n",
              "[5 rows x 11 columns]"
            ]
          },
          "metadata": {
            "tags": []
          },
          "execution_count": 94
        }
      ]
    },
    {
      "cell_type": "code",
      "metadata": {
        "id": "M4KrY6Jft3kg",
        "colab_type": "code",
        "outputId": "b3696ac6-1d5b-4f20-9460-4f503910cc1a",
        "colab": {
          "base_uri": "https://localhost:8080/",
          "height": 237
        }
      },
      "source": [
        "punctual_incidents.isnull().sum()"
      ],
      "execution_count": 95,
      "outputs": [
        {
          "output_type": "execute_result",
          "data": {
            "text/plain": [
              "Day of year                0\n",
              "Hour                       0\n",
              "Minute                     0\n",
              "magnitude_of_delay_desc    0\n",
              "length_in_meters           0\n",
              "delay_in_seconds           0\n",
              "AvenidaCentral             0\n",
              "AvenidaLiberdade           0\n",
              "RuaDeCaires                0\n",
              "Bosch                      0\n",
              "week_or_not                0\n",
              "dtype: int64"
            ]
          },
          "metadata": {
            "tags": []
          },
          "execution_count": 95
        }
      ]
    },
    {
      "cell_type": "code",
      "metadata": {
        "id": "I-8_u212t3kt",
        "colab_type": "code",
        "outputId": "e087991c-dfc0-462e-9dfd-744a5efd6dba",
        "colab": {
          "base_uri": "https://localhost:8080/",
          "height": 206
        }
      },
      "source": [
        "closed_roads.head()"
      ],
      "execution_count": 96,
      "outputs": [
        {
          "output_type": "execute_result",
          "data": {
            "text/html": [
              "<div>\n",
              "<style scoped>\n",
              "    .dataframe tbody tr th:only-of-type {\n",
              "        vertical-align: middle;\n",
              "    }\n",
              "\n",
              "    .dataframe tbody tr th {\n",
              "        vertical-align: top;\n",
              "    }\n",
              "\n",
              "    .dataframe thead th {\n",
              "        text-align: right;\n",
              "    }\n",
              "</style>\n",
              "<table border=\"1\" class=\"dataframe\">\n",
              "  <thead>\n",
              "    <tr style=\"text-align: right;\">\n",
              "      <th></th>\n",
              "      <th>Day of year</th>\n",
              "      <th>Hour</th>\n",
              "      <th>length_in_meters</th>\n",
              "      <th>AvenidaCentral</th>\n",
              "      <th>AvenidaLiberdade</th>\n",
              "      <th>RuaDeCaires</th>\n",
              "      <th>Bosch</th>\n",
              "      <th>week_or_not</th>\n",
              "    </tr>\n",
              "  </thead>\n",
              "  <tbody>\n",
              "    <tr>\n",
              "      <th>0</th>\n",
              "      <td>15</td>\n",
              "      <td>19</td>\n",
              "      <td>88</td>\n",
              "      <td>1582.434953</td>\n",
              "      <td>1206.42697</td>\n",
              "      <td>2467.183987</td>\n",
              "      <td>2947.217154</td>\n",
              "      <td>1</td>\n",
              "    </tr>\n",
              "    <tr>\n",
              "      <th>1</th>\n",
              "      <td>15</td>\n",
              "      <td>20</td>\n",
              "      <td>88</td>\n",
              "      <td>1582.434953</td>\n",
              "      <td>1206.42697</td>\n",
              "      <td>2467.183987</td>\n",
              "      <td>2947.217154</td>\n",
              "      <td>1</td>\n",
              "    </tr>\n",
              "    <tr>\n",
              "      <th>2</th>\n",
              "      <td>15</td>\n",
              "      <td>21</td>\n",
              "      <td>88</td>\n",
              "      <td>1582.434953</td>\n",
              "      <td>1206.42697</td>\n",
              "      <td>2467.183987</td>\n",
              "      <td>2947.217154</td>\n",
              "      <td>1</td>\n",
              "    </tr>\n",
              "    <tr>\n",
              "      <th>3</th>\n",
              "      <td>15</td>\n",
              "      <td>22</td>\n",
              "      <td>88</td>\n",
              "      <td>1582.434953</td>\n",
              "      <td>1206.42697</td>\n",
              "      <td>2467.183987</td>\n",
              "      <td>2947.217154</td>\n",
              "      <td>1</td>\n",
              "    </tr>\n",
              "    <tr>\n",
              "      <th>4</th>\n",
              "      <td>15</td>\n",
              "      <td>23</td>\n",
              "      <td>88</td>\n",
              "      <td>1582.434953</td>\n",
              "      <td>1206.42697</td>\n",
              "      <td>2467.183987</td>\n",
              "      <td>2947.217154</td>\n",
              "      <td>1</td>\n",
              "    </tr>\n",
              "  </tbody>\n",
              "</table>\n",
              "</div>"
            ],
            "text/plain": [
              "   Day of year  Hour  length_in_meters  ...  RuaDeCaires        Bosch  week_or_not\n",
              "0           15    19                88  ...  2467.183987  2947.217154            1\n",
              "1           15    20                88  ...  2467.183987  2947.217154            1\n",
              "2           15    21                88  ...  2467.183987  2947.217154            1\n",
              "3           15    22                88  ...  2467.183987  2947.217154            1\n",
              "4           15    23                88  ...  2467.183987  2947.217154            1\n",
              "\n",
              "[5 rows x 8 columns]"
            ]
          },
          "metadata": {
            "tags": []
          },
          "execution_count": 96
        }
      ]
    },
    {
      "cell_type": "code",
      "metadata": {
        "id": "xTvs0jrYt3k4",
        "colab_type": "code",
        "outputId": "3ce16ba3-1eca-46ee-899a-c67f6c18ec01",
        "colab": {
          "base_uri": "https://localhost:8080/",
          "height": 182
        }
      },
      "source": [
        "closed_roads.isnull().sum()"
      ],
      "execution_count": 97,
      "outputs": [
        {
          "output_type": "execute_result",
          "data": {
            "text/plain": [
              "Day of year         0\n",
              "Hour                0\n",
              "length_in_meters    0\n",
              "AvenidaCentral      0\n",
              "AvenidaLiberdade    0\n",
              "RuaDeCaires         0\n",
              "Bosch               0\n",
              "week_or_not         0\n",
              "dtype: int64"
            ]
          },
          "metadata": {
            "tags": []
          },
          "execution_count": 97
        }
      ]
    },
    {
      "cell_type": "code",
      "metadata": {
        "id": "k9e-HLdht3lC",
        "colab_type": "code",
        "colab": {}
      },
      "source": [
        "from sklearn.preprocessing import MinMaxScaler\n",
        "\n",
        "scaler_flow = MinMaxScaler()\n",
        "traffic_flow_normalized = pd.DataFrame(scaler_flow.fit_transform(traffic_flow.iloc[:,2:]), columns=traffic_flow.columns[2:] )\n",
        "traffic_flow_normalized['Day of year'] = traffic_flow.iloc[:,0]\n",
        "traffic_flow_normalized['Hour'] = traffic_flow.iloc[:,1]\n",
        "\n",
        "punctual_incidents_normalized = pd.DataFrame(scaler_flow.fit_transform(punctual_incidents.iloc[:,3:]),columns=punctual_incidents.columns[3:])\n",
        "punctual_incidents_normalized['Day of year'] = punctual_incidents.iloc[:,0]\n",
        "punctual_incidents_normalized['Hour'] = punctual_incidents.iloc[:,1]\n",
        "punctual_incidents_normalized['Minute'] = punctual_incidents.iloc[:,2]\n",
        "\n",
        "closed_roads_normalized = pd.DataFrame(scaler_flow.fit_transform(closed_roads.iloc[:,2:]),columns=closed_roads.columns[2:])\n",
        "closed_roads_normalized['Day of year'] = closed_roads.iloc[:,0]\n",
        "closed_roads_normalized['Hour'] = closed_roads.iloc[:,1]"
      ],
      "execution_count": 0,
      "outputs": []
    },
    {
      "cell_type": "code",
      "metadata": {
        "id": "vipupwxjt3lN",
        "colab_type": "code",
        "outputId": "9481c65a-fdf9-4872-e9b0-035090604fb9",
        "colab": {
          "base_uri": "https://localhost:8080/",
          "height": 320
        }
      },
      "source": [
        "traffic_flow.describe()"
      ],
      "execution_count": 99,
      "outputs": [
        {
          "output_type": "execute_result",
          "data": {
            "text/html": [
              "<div>\n",
              "<style scoped>\n",
              "    .dataframe tbody tr th:only-of-type {\n",
              "        vertical-align: middle;\n",
              "    }\n",
              "\n",
              "    .dataframe tbody tr th {\n",
              "        vertical-align: top;\n",
              "    }\n",
              "\n",
              "    .dataframe thead th {\n",
              "        text-align: right;\n",
              "    }\n",
              "</style>\n",
              "<table border=\"1\" class=\"dataframe\">\n",
              "  <thead>\n",
              "    <tr style=\"text-align: right;\">\n",
              "      <th></th>\n",
              "      <th>Day of year</th>\n",
              "      <th>Hour</th>\n",
              "      <th>week_or_not</th>\n",
              "      <th>road_num</th>\n",
              "      <th>functional_road_class_desc</th>\n",
              "      <th>time_rate</th>\n",
              "      <th>rain</th>\n",
              "      <th>temperature</th>\n",
              "      <th>atmospheric_pressure</th>\n",
              "      <th>humidity</th>\n",
              "      <th>wind_speed</th>\n",
              "      <th>clouds</th>\n",
              "      <th>current_luminosity</th>\n",
              "      <th>atmosphere</th>\n",
              "    </tr>\n",
              "  </thead>\n",
              "  <tbody>\n",
              "    <tr>\n",
              "      <th>count</th>\n",
              "      <td>33620.000000</td>\n",
              "      <td>33620.000000</td>\n",
              "      <td>33620.000000</td>\n",
              "      <td>33620.000000</td>\n",
              "      <td>33620.000000</td>\n",
              "      <td>27260.000000</td>\n",
              "      <td>27420.000000</td>\n",
              "      <td>27420.000000</td>\n",
              "      <td>27420.000000</td>\n",
              "      <td>27420.000000</td>\n",
              "      <td>27420.000000</td>\n",
              "      <td>27420.000000</td>\n",
              "      <td>27488.000000</td>\n",
              "      <td>27420.000000</td>\n",
              "    </tr>\n",
              "    <tr>\n",
              "      <th>mean</th>\n",
              "      <td>190.395598</td>\n",
              "      <td>11.505651</td>\n",
              "      <td>0.714456</td>\n",
              "      <td>2.500000</td>\n",
              "      <td>2.250000</td>\n",
              "      <td>0.874601</td>\n",
              "      <td>0.113056</td>\n",
              "      <td>15.113640</td>\n",
              "      <td>1017.869584</td>\n",
              "      <td>81.825237</td>\n",
              "      <td>3.048869</td>\n",
              "      <td>35.311889</td>\n",
              "      <td>0.977445</td>\n",
              "      <td>0.302553</td>\n",
              "    </tr>\n",
              "    <tr>\n",
              "      <th>std</th>\n",
              "      <td>101.097937</td>\n",
              "      <td>6.924192</td>\n",
              "      <td>0.451680</td>\n",
              "      <td>1.118051</td>\n",
              "      <td>0.829169</td>\n",
              "      <td>0.179114</td>\n",
              "      <td>0.440381</td>\n",
              "      <td>5.508167</td>\n",
              "      <td>5.952428</td>\n",
              "      <td>17.177387</td>\n",
              "      <td>2.176722</td>\n",
              "      <td>34.915653</td>\n",
              "      <td>0.978356</td>\n",
              "      <td>1.008697</td>\n",
              "    </tr>\n",
              "    <tr>\n",
              "      <th>min</th>\n",
              "      <td>15.000000</td>\n",
              "      <td>0.000000</td>\n",
              "      <td>0.000000</td>\n",
              "      <td>1.000000</td>\n",
              "      <td>1.000000</td>\n",
              "      <td>0.000000</td>\n",
              "      <td>0.000000</td>\n",
              "      <td>1.000000</td>\n",
              "      <td>990.000000</td>\n",
              "      <td>19.000000</td>\n",
              "      <td>0.000000</td>\n",
              "      <td>0.000000</td>\n",
              "      <td>0.000000</td>\n",
              "      <td>0.000000</td>\n",
              "    </tr>\n",
              "    <tr>\n",
              "      <th>25%</th>\n",
              "      <td>103.000000</td>\n",
              "      <td>6.000000</td>\n",
              "      <td>0.000000</td>\n",
              "      <td>1.750000</td>\n",
              "      <td>1.750000</td>\n",
              "      <td>0.767359</td>\n",
              "      <td>0.000000</td>\n",
              "      <td>11.000000</td>\n",
              "      <td>1015.000000</td>\n",
              "      <td>72.000000</td>\n",
              "      <td>1.000000</td>\n",
              "      <td>0.000000</td>\n",
              "      <td>0.000000</td>\n",
              "      <td>0.000000</td>\n",
              "    </tr>\n",
              "    <tr>\n",
              "      <th>50%</th>\n",
              "      <td>190.000000</td>\n",
              "      <td>12.000000</td>\n",
              "      <td>1.000000</td>\n",
              "      <td>2.500000</td>\n",
              "      <td>2.500000</td>\n",
              "      <td>0.999996</td>\n",
              "      <td>0.000000</td>\n",
              "      <td>15.000000</td>\n",
              "      <td>1018.000000</td>\n",
              "      <td>87.000000</td>\n",
              "      <td>3.000000</td>\n",
              "      <td>20.000000</td>\n",
              "      <td>1.000000</td>\n",
              "      <td>0.000000</td>\n",
              "    </tr>\n",
              "    <tr>\n",
              "      <th>75%</th>\n",
              "      <td>278.000000</td>\n",
              "      <td>18.000000</td>\n",
              "      <td>1.000000</td>\n",
              "      <td>3.250000</td>\n",
              "      <td>3.000000</td>\n",
              "      <td>0.999999</td>\n",
              "      <td>0.000000</td>\n",
              "      <td>18.000000</td>\n",
              "      <td>1021.000000</td>\n",
              "      <td>93.000000</td>\n",
              "      <td>4.000000</td>\n",
              "      <td>75.000000</td>\n",
              "      <td>2.000000</td>\n",
              "      <td>0.000000</td>\n",
              "    </tr>\n",
              "    <tr>\n",
              "      <th>max</th>\n",
              "      <td>365.000000</td>\n",
              "      <td>23.000000</td>\n",
              "      <td>1.000000</td>\n",
              "      <td>4.000000</td>\n",
              "      <td>3.000000</td>\n",
              "      <td>1.000000</td>\n",
              "      <td>3.000000</td>\n",
              "      <td>34.000000</td>\n",
              "      <td>1033.000000</td>\n",
              "      <td>100.000000</td>\n",
              "      <td>14.000000</td>\n",
              "      <td>100.000000</td>\n",
              "      <td>2.000000</td>\n",
              "      <td>5.000000</td>\n",
              "    </tr>\n",
              "  </tbody>\n",
              "</table>\n",
              "</div>"
            ],
            "text/plain": [
              "        Day of year          Hour  ...  current_luminosity    atmosphere\n",
              "count  33620.000000  33620.000000  ...        27488.000000  27420.000000\n",
              "mean     190.395598     11.505651  ...            0.977445      0.302553\n",
              "std      101.097937      6.924192  ...            0.978356      1.008697\n",
              "min       15.000000      0.000000  ...            0.000000      0.000000\n",
              "25%      103.000000      6.000000  ...            0.000000      0.000000\n",
              "50%      190.000000     12.000000  ...            1.000000      0.000000\n",
              "75%      278.000000     18.000000  ...            2.000000      0.000000\n",
              "max      365.000000     23.000000  ...            2.000000      5.000000\n",
              "\n",
              "[8 rows x 14 columns]"
            ]
          },
          "metadata": {
            "tags": []
          },
          "execution_count": 99
        }
      ]
    },
    {
      "cell_type": "code",
      "metadata": {
        "id": "VLRSEck_t3lZ",
        "colab_type": "code",
        "colab": {}
      },
      "source": [
        "traffic_flow_normalized_masked=traffic_flow_normalized.fillna(value=-1)"
      ],
      "execution_count": 0,
      "outputs": []
    },
    {
      "cell_type": "code",
      "metadata": {
        "id": "BeMc7374t3li",
        "colab_type": "code",
        "outputId": "fa9c04a8-d71f-431c-c234-bd8abfdf07fb",
        "colab": {
          "base_uri": "https://localhost:8080/",
          "height": 320
        }
      },
      "source": [
        "traffic_flow_normalized_masked.describe()"
      ],
      "execution_count": 101,
      "outputs": [
        {
          "output_type": "execute_result",
          "data": {
            "text/html": [
              "<div>\n",
              "<style scoped>\n",
              "    .dataframe tbody tr th:only-of-type {\n",
              "        vertical-align: middle;\n",
              "    }\n",
              "\n",
              "    .dataframe tbody tr th {\n",
              "        vertical-align: top;\n",
              "    }\n",
              "\n",
              "    .dataframe thead th {\n",
              "        text-align: right;\n",
              "    }\n",
              "</style>\n",
              "<table border=\"1\" class=\"dataframe\">\n",
              "  <thead>\n",
              "    <tr style=\"text-align: right;\">\n",
              "      <th></th>\n",
              "      <th>week_or_not</th>\n",
              "      <th>road_num</th>\n",
              "      <th>functional_road_class_desc</th>\n",
              "      <th>time_rate</th>\n",
              "      <th>rain</th>\n",
              "      <th>temperature</th>\n",
              "      <th>atmospheric_pressure</th>\n",
              "      <th>humidity</th>\n",
              "      <th>wind_speed</th>\n",
              "      <th>clouds</th>\n",
              "      <th>current_luminosity</th>\n",
              "      <th>atmosphere</th>\n",
              "      <th>Day of year</th>\n",
              "      <th>Hour</th>\n",
              "    </tr>\n",
              "  </thead>\n",
              "  <tbody>\n",
              "    <tr>\n",
              "      <th>count</th>\n",
              "      <td>33620.000000</td>\n",
              "      <td>33620.000000</td>\n",
              "      <td>33620.000000</td>\n",
              "      <td>33620.000000</td>\n",
              "      <td>33620.000000</td>\n",
              "      <td>33620.000000</td>\n",
              "      <td>33620.000000</td>\n",
              "      <td>33620.000000</td>\n",
              "      <td>33620.000000</td>\n",
              "      <td>33620.000000</td>\n",
              "      <td>33620.000000</td>\n",
              "      <td>33620.000000</td>\n",
              "      <td>33620.000000</td>\n",
              "      <td>33620.000000</td>\n",
              "    </tr>\n",
              "    <tr>\n",
              "      <th>mean</th>\n",
              "      <td>0.714456</td>\n",
              "      <td>0.500000</td>\n",
              "      <td>0.625000</td>\n",
              "      <td>0.519977</td>\n",
              "      <td>-0.153678</td>\n",
              "      <td>0.164401</td>\n",
              "      <td>0.344192</td>\n",
              "      <td>0.448171</td>\n",
              "      <td>-0.006799</td>\n",
              "      <td>0.103585</td>\n",
              "      <td>0.217192</td>\n",
              "      <td>-0.135062</td>\n",
              "      <td>190.395598</td>\n",
              "      <td>11.505651</td>\n",
              "    </tr>\n",
              "    <tr>\n",
              "      <th>std</th>\n",
              "      <td>0.451680</td>\n",
              "      <td>0.372684</td>\n",
              "      <td>0.414584</td>\n",
              "      <td>0.751698</td>\n",
              "      <td>0.423715</td>\n",
              "      <td>0.573848</td>\n",
              "      <td>0.651300</td>\n",
              "      <td>0.714769</td>\n",
              "      <td>0.492718</td>\n",
              "      <td>0.612224</td>\n",
              "      <td>0.725371</td>\n",
              "      <td>0.449841</td>\n",
              "      <td>101.097937</td>\n",
              "      <td>6.924192</td>\n",
              "    </tr>\n",
              "    <tr>\n",
              "      <th>min</th>\n",
              "      <td>0.000000</td>\n",
              "      <td>0.000000</td>\n",
              "      <td>0.000000</td>\n",
              "      <td>-1.000000</td>\n",
              "      <td>-1.000000</td>\n",
              "      <td>-1.000000</td>\n",
              "      <td>-1.000000</td>\n",
              "      <td>-1.000000</td>\n",
              "      <td>-1.000000</td>\n",
              "      <td>-1.000000</td>\n",
              "      <td>-1.000000</td>\n",
              "      <td>-1.000000</td>\n",
              "      <td>15.000000</td>\n",
              "      <td>0.000000</td>\n",
              "    </tr>\n",
              "    <tr>\n",
              "      <th>25%</th>\n",
              "      <td>0.000000</td>\n",
              "      <td>0.250000</td>\n",
              "      <td>0.375000</td>\n",
              "      <td>0.544118</td>\n",
              "      <td>0.000000</td>\n",
              "      <td>0.212121</td>\n",
              "      <td>0.488372</td>\n",
              "      <td>0.419753</td>\n",
              "      <td>0.000000</td>\n",
              "      <td>0.000000</td>\n",
              "      <td>0.000000</td>\n",
              "      <td>0.000000</td>\n",
              "      <td>103.000000</td>\n",
              "      <td>6.000000</td>\n",
              "    </tr>\n",
              "    <tr>\n",
              "      <th>50%</th>\n",
              "      <td>1.000000</td>\n",
              "      <td>0.500000</td>\n",
              "      <td>0.750000</td>\n",
              "      <td>0.912298</td>\n",
              "      <td>0.000000</td>\n",
              "      <td>0.363636</td>\n",
              "      <td>0.627907</td>\n",
              "      <td>0.765432</td>\n",
              "      <td>0.142857</td>\n",
              "      <td>0.200000</td>\n",
              "      <td>0.000000</td>\n",
              "      <td>0.000000</td>\n",
              "      <td>190.000000</td>\n",
              "      <td>12.000000</td>\n",
              "    </tr>\n",
              "    <tr>\n",
              "      <th>75%</th>\n",
              "      <td>1.000000</td>\n",
              "      <td>0.750000</td>\n",
              "      <td>1.000000</td>\n",
              "      <td>0.999999</td>\n",
              "      <td>0.000000</td>\n",
              "      <td>0.484848</td>\n",
              "      <td>0.697674</td>\n",
              "      <td>0.913580</td>\n",
              "      <td>0.285714</td>\n",
              "      <td>0.750000</td>\n",
              "      <td>1.000000</td>\n",
              "      <td>0.000000</td>\n",
              "      <td>278.000000</td>\n",
              "      <td>18.000000</td>\n",
              "    </tr>\n",
              "    <tr>\n",
              "      <th>max</th>\n",
              "      <td>1.000000</td>\n",
              "      <td>1.000000</td>\n",
              "      <td>1.000000</td>\n",
              "      <td>1.000000</td>\n",
              "      <td>1.000000</td>\n",
              "      <td>1.000000</td>\n",
              "      <td>1.000000</td>\n",
              "      <td>1.000000</td>\n",
              "      <td>1.000000</td>\n",
              "      <td>1.000000</td>\n",
              "      <td>1.000000</td>\n",
              "      <td>1.000000</td>\n",
              "      <td>365.000000</td>\n",
              "      <td>23.000000</td>\n",
              "    </tr>\n",
              "  </tbody>\n",
              "</table>\n",
              "</div>"
            ],
            "text/plain": [
              "        week_or_not      road_num  ...   Day of year          Hour\n",
              "count  33620.000000  33620.000000  ...  33620.000000  33620.000000\n",
              "mean       0.714456      0.500000  ...    190.395598     11.505651\n",
              "std        0.451680      0.372684  ...    101.097937      6.924192\n",
              "min        0.000000      0.000000  ...     15.000000      0.000000\n",
              "25%        0.000000      0.250000  ...    103.000000      6.000000\n",
              "50%        1.000000      0.500000  ...    190.000000     12.000000\n",
              "75%        1.000000      0.750000  ...    278.000000     18.000000\n",
              "max        1.000000      1.000000  ...    365.000000     23.000000\n",
              "\n",
              "[8 rows x 14 columns]"
            ]
          },
          "metadata": {
            "tags": []
          },
          "execution_count": 101
        }
      ]
    },
    {
      "cell_type": "code",
      "metadata": {
        "id": "Qi7W3pKst3l7",
        "colab_type": "code",
        "outputId": "da06ace5-372b-40dd-c73c-2f3c02b7a8e4",
        "colab": {
          "base_uri": "https://localhost:8080/",
          "height": 553
        }
      },
      "source": [
        "grouped_traffic_flow = traffic_flow_normalized_masked.groupby(['Day of year', 'Hour']).agg(lambda x: list(x))\n",
        "grouped_traffic_flow.head()"
      ],
      "execution_count": 102,
      "outputs": [
        {
          "output_type": "execute_result",
          "data": {
            "text/html": [
              "<div>\n",
              "<style scoped>\n",
              "    .dataframe tbody tr th:only-of-type {\n",
              "        vertical-align: middle;\n",
              "    }\n",
              "\n",
              "    .dataframe tbody tr th {\n",
              "        vertical-align: top;\n",
              "    }\n",
              "\n",
              "    .dataframe thead th {\n",
              "        text-align: right;\n",
              "    }\n",
              "</style>\n",
              "<table border=\"1\" class=\"dataframe\">\n",
              "  <thead>\n",
              "    <tr style=\"text-align: right;\">\n",
              "      <th></th>\n",
              "      <th></th>\n",
              "      <th>week_or_not</th>\n",
              "      <th>road_num</th>\n",
              "      <th>functional_road_class_desc</th>\n",
              "      <th>time_rate</th>\n",
              "      <th>rain</th>\n",
              "      <th>temperature</th>\n",
              "      <th>atmospheric_pressure</th>\n",
              "      <th>humidity</th>\n",
              "      <th>wind_speed</th>\n",
              "      <th>clouds</th>\n",
              "      <th>current_luminosity</th>\n",
              "      <th>atmosphere</th>\n",
              "    </tr>\n",
              "    <tr>\n",
              "      <th>Day of year</th>\n",
              "      <th>Hour</th>\n",
              "      <th></th>\n",
              "      <th></th>\n",
              "      <th></th>\n",
              "      <th></th>\n",
              "      <th></th>\n",
              "      <th></th>\n",
              "      <th></th>\n",
              "      <th></th>\n",
              "      <th></th>\n",
              "      <th></th>\n",
              "      <th></th>\n",
              "      <th></th>\n",
              "    </tr>\n",
              "  </thead>\n",
              "  <tbody>\n",
              "    <tr>\n",
              "      <th rowspan=\"5\" valign=\"top\">15.0</th>\n",
              "      <th>19.0</th>\n",
              "      <td>[1.0, 1.0, 1.0, 1.0]</td>\n",
              "      <td>[0.0, 0.3333333333333333, 0.6666666666666667, ...</td>\n",
              "      <td>[1.0, 1.0, 0.0, 0.5]</td>\n",
              "      <td>[0.999993133434998, 0.2922900916604517, 0.7935...</td>\n",
              "      <td>[0.0, 0.0, 0.0, 0.0]</td>\n",
              "      <td>[0.21212121212121213, 0.21212121212121213, 0.2...</td>\n",
              "      <td>[0.6744186046511658, 0.6744186046511658, 0.674...</td>\n",
              "      <td>[0.9135802469135803, 0.9135802469135803, 0.913...</td>\n",
              "      <td>[0.07142857142857142, 0.07142857142857142, 0.0...</td>\n",
              "      <td>[0.12, 0.12, 0.12, 0.12]</td>\n",
              "      <td>[0.0, 0.0, 0.0, 0.0]</td>\n",
              "      <td>[0.0, 0.0, 0.0, 0.0]</td>\n",
              "    </tr>\n",
              "    <tr>\n",
              "      <th>20.0</th>\n",
              "      <td>[1.0, 1.0, 1.0, 1.0]</td>\n",
              "      <td>[0.0, 0.3333333333333333, 0.6666666666666667, ...</td>\n",
              "      <td>[1.0, 1.0, 0.0, 0.5]</td>\n",
              "      <td>[0.999993133434998, 0.8041744270897978, 0.9999...</td>\n",
              "      <td>[0.0, 0.0, 0.0, 0.0]</td>\n",
              "      <td>[0.2424242424242424, 0.2424242424242424, 0.242...</td>\n",
              "      <td>[0.6976744186046524, 0.6976744186046524, 0.697...</td>\n",
              "      <td>[0.9135802469135803, 0.9135802469135803, 0.913...</td>\n",
              "      <td>[0.07142857142857142, 0.07142857142857142, 0.0...</td>\n",
              "      <td>[0.2, 0.2, 0.2, 0.2]</td>\n",
              "      <td>[0.0, 0.0, 0.0, 0.0]</td>\n",
              "      <td>[0.0, 0.0, 0.0, 0.0]</td>\n",
              "    </tr>\n",
              "    <tr>\n",
              "      <th>21.0</th>\n",
              "      <td>[1.0, 1.0, 1.0, 1.0]</td>\n",
              "      <td>[0.0, 0.3333333333333333, 0.6666666666666667, ...</td>\n",
              "      <td>[1.0, 1.0, 0.0, 0.5]</td>\n",
              "      <td>[0.999993133434998, 0.9999995807546644, 0.9999...</td>\n",
              "      <td>[0.0, 0.0, 0.0, 0.0]</td>\n",
              "      <td>[0.2727272727272727, 0.2727272727272727, 0.272...</td>\n",
              "      <td>[0.6976744186046524, 0.6976744186046524, 0.697...</td>\n",
              "      <td>[0.8395061728395061, 0.8395061728395061, 0.839...</td>\n",
              "      <td>[0.14285714285714285, 0.14285714285714285, 0.1...</td>\n",
              "      <td>[0.75, 0.75, 0.75, 0.75]</td>\n",
              "      <td>[0.0, 0.0, 0.0, 0.0]</td>\n",
              "      <td>[0.0, 0.0, 0.0, 0.0]</td>\n",
              "    </tr>\n",
              "    <tr>\n",
              "      <th>22.0</th>\n",
              "      <td>[1.0, 1.0, 1.0, 1.0]</td>\n",
              "      <td>[0.0, 0.3333333333333333, 0.6666666666666667, ...</td>\n",
              "      <td>[1.0, 1.0, 0.0, 0.5]</td>\n",
              "      <td>[0.999993133434998, 0.9999996183486081, 0.9999...</td>\n",
              "      <td>[0.0, 0.0, 0.0, 0.0]</td>\n",
              "      <td>[0.2424242424242424, 0.2424242424242424, 0.242...</td>\n",
              "      <td>[0.6976744186046524, 0.6976744186046524, 0.697...</td>\n",
              "      <td>[0.9135802469135803, 0.9135802469135803, 0.913...</td>\n",
              "      <td>[0.21428571428571427, 0.21428571428571427, 0.2...</td>\n",
              "      <td>[0.75, 0.75, 0.75, 0.75]</td>\n",
              "      <td>[0.0, 0.0, 0.0, 0.0]</td>\n",
              "      <td>[0.0, 0.0, 0.0, 0.0]</td>\n",
              "    </tr>\n",
              "    <tr>\n",
              "      <th>23.0</th>\n",
              "      <td>[1.0, 1.0, 1.0, 1.0]</td>\n",
              "      <td>[0.0, 0.3333333333333333, 0.6666666666666667, ...</td>\n",
              "      <td>[1.0, 1.0, 0.0, 0.5]</td>\n",
              "      <td>[0.999993133434998, 0.9999996183486081, 0.9999...</td>\n",
              "      <td>[0.0, 0.0, 0.0, 0.0]</td>\n",
              "      <td>[0.2727272727272727, 0.2727272727272727, 0.272...</td>\n",
              "      <td>[0.6976744186046524, 0.6976744186046524, 0.697...</td>\n",
              "      <td>[0.9135802469135803, 0.9135802469135803, 0.913...</td>\n",
              "      <td>[0.2857142857142857, 0.2857142857142857, 0.285...</td>\n",
              "      <td>[0.75, 0.75, 0.75, 0.75]</td>\n",
              "      <td>[0.0, 0.0, 0.0, 0.0]</td>\n",
              "      <td>[0.0, 0.0, 0.0, 0.0]</td>\n",
              "    </tr>\n",
              "  </tbody>\n",
              "</table>\n",
              "</div>"
            ],
            "text/plain": [
              "                           week_or_not  ...            atmosphere\n",
              "Day of year Hour                        ...                      \n",
              "15.0        19.0  [1.0, 1.0, 1.0, 1.0]  ...  [0.0, 0.0, 0.0, 0.0]\n",
              "            20.0  [1.0, 1.0, 1.0, 1.0]  ...  [0.0, 0.0, 0.0, 0.0]\n",
              "            21.0  [1.0, 1.0, 1.0, 1.0]  ...  [0.0, 0.0, 0.0, 0.0]\n",
              "            22.0  [1.0, 1.0, 1.0, 1.0]  ...  [0.0, 0.0, 0.0, 0.0]\n",
              "            23.0  [1.0, 1.0, 1.0, 1.0]  ...  [0.0, 0.0, 0.0, 0.0]\n",
              "\n",
              "[5 rows x 12 columns]"
            ]
          },
          "metadata": {
            "tags": []
          },
          "execution_count": 102
        }
      ]
    },
    {
      "cell_type": "code",
      "metadata": {
        "id": "o8vD28X_uF57",
        "colab_type": "code",
        "colab": {}
      },
      "source": [
        "trafic_flow_reshaped = np.zeros((351,24,4,len(grouped_traffic_flow.columns)))\n",
        "trafic_flow_reshaped.fill(-1)"
      ],
      "execution_count": 0,
      "outputs": []
    },
    {
      "cell_type": "code",
      "metadata": {
        "id": "yFdqxucrn-gA",
        "colab_type": "code",
        "colab": {}
      },
      "source": [
        "#content -> todas as colunas sem hora e dia\n",
        "#esta função cria um array temporal por dias e horas\n",
        "for (day,hour),content in grouped_traffic_flow.iterrows():\n",
        "    index_day = int(day - 15)\n",
        "\n",
        "    #se tiver -1 vai para negativo\n",
        "    index_hour = int(hour)\n",
        "\n",
        "    for entrance in range(4):\n",
        "        place_holder = []\n",
        "        for i in range(len(grouped_traffic_flow.columns)):\n",
        "            place_holder.append(content[i][entrance])\n",
        "    \n",
        "        trafic_flow_reshaped[index_day][index_hour][entrance] = np.array(place_holder)\n",
        "        "
      ],
      "execution_count": 0,
      "outputs": []
    },
    {
      "cell_type": "code",
      "metadata": {
        "id": "-x4culA_IaL3",
        "colab_type": "code",
        "colab": {
          "base_uri": "https://localhost:8080/",
          "height": 35
        },
        "outputId": "db73ec65-7dff-449a-f5fd-0dbc5d5ea78b"
      },
      "source": [
        "counter = 0\n",
        "for i in range(351):\n",
        "  for j in range(24):\n",
        "    if trafic_flow_reshaped[i][j][0][3] != -1:\n",
        "      counter+=1\n",
        "counter"
      ],
      "execution_count": 105,
      "outputs": [
        {
          "output_type": "execute_result",
          "data": {
            "text/plain": [
              "6815"
            ]
          },
          "metadata": {
            "tags": []
          },
          "execution_count": 105
        }
      ]
    },
    {
      "cell_type": "code",
      "metadata": {
        "id": "gRXWVg4Irsuu",
        "colab_type": "code",
        "outputId": "5517084c-c1f1-4f8f-9108-352a4588b698",
        "colab": {
          "base_uri": "https://localhost:8080/",
          "height": 256
        }
      },
      "source": [
        "print(trafic_flow_reshaped.shape)\n",
        "trafic_flow_reshaped[0][19]"
      ],
      "execution_count": 106,
      "outputs": [
        {
          "output_type": "stream",
          "text": [
            "(351, 24, 4, 12)\n"
          ],
          "name": "stdout"
        },
        {
          "output_type": "execute_result",
          "data": {
            "text/plain": [
              "array([[1.        , 0.        , 1.        , 0.99999313, 0.        ,\n",
              "        0.21212121, 0.6744186 , 0.91358025, 0.07142857, 0.12      ,\n",
              "        0.        , 0.        ],\n",
              "       [1.        , 0.33333333, 1.        , 0.29229009, 0.        ,\n",
              "        0.21212121, 0.6744186 , 0.91358025, 0.07142857, 0.12      ,\n",
              "        0.        , 0.        ],\n",
              "       [1.        , 0.66666667, 0.        , 0.79355269, 0.        ,\n",
              "        0.21212121, 0.6744186 , 0.91358025, 0.07142857, 0.12      ,\n",
              "        0.        , 0.        ],\n",
              "       [1.        , 1.        , 0.5       , 0.54500946, 0.        ,\n",
              "        0.21212121, 0.6744186 , 0.91358025, 0.07142857, 0.12      ,\n",
              "        0.        , 0.        ]])"
            ]
          },
          "metadata": {
            "tags": []
          },
          "execution_count": 106
        }
      ]
    },
    {
      "cell_type": "code",
      "metadata": {
        "id": "JguahWepuTid",
        "colab_type": "code",
        "outputId": "4f6123cc-c4c9-475b-b370-f5bc6c53789e",
        "colab": {
          "base_uri": "https://localhost:8080/",
          "height": 449
        }
      },
      "source": [
        "grouped_punctual_incidents = punctual_incidents_normalized.groupby(['Day of year', 'Hour']).agg(lambda x: list(x))\n",
        "grouped_punctual_incidents.head()"
      ],
      "execution_count": 107,
      "outputs": [
        {
          "output_type": "execute_result",
          "data": {
            "text/html": [
              "<div>\n",
              "<style scoped>\n",
              "    .dataframe tbody tr th:only-of-type {\n",
              "        vertical-align: middle;\n",
              "    }\n",
              "\n",
              "    .dataframe tbody tr th {\n",
              "        vertical-align: top;\n",
              "    }\n",
              "\n",
              "    .dataframe thead th {\n",
              "        text-align: right;\n",
              "    }\n",
              "</style>\n",
              "<table border=\"1\" class=\"dataframe\">\n",
              "  <thead>\n",
              "    <tr style=\"text-align: right;\">\n",
              "      <th></th>\n",
              "      <th></th>\n",
              "      <th>magnitude_of_delay_desc</th>\n",
              "      <th>length_in_meters</th>\n",
              "      <th>delay_in_seconds</th>\n",
              "      <th>AvenidaCentral</th>\n",
              "      <th>AvenidaLiberdade</th>\n",
              "      <th>RuaDeCaires</th>\n",
              "      <th>Bosch</th>\n",
              "      <th>week_or_not</th>\n",
              "      <th>Minute</th>\n",
              "    </tr>\n",
              "    <tr>\n",
              "      <th>Day of year</th>\n",
              "      <th>Hour</th>\n",
              "      <th></th>\n",
              "      <th></th>\n",
              "      <th></th>\n",
              "      <th></th>\n",
              "      <th></th>\n",
              "      <th></th>\n",
              "      <th></th>\n",
              "      <th></th>\n",
              "      <th></th>\n",
              "    </tr>\n",
              "  </thead>\n",
              "  <tbody>\n",
              "    <tr>\n",
              "      <th>15</th>\n",
              "      <th>19</th>\n",
              "      <td>[0.5, 0.5, 0.5, 1.0, 1.0, 0.0, 1.0, 1.0, 1.0, ...</td>\n",
              "      <td>[0.0832409972299169, 0.13767313019390584, 0.08...</td>\n",
              "      <td>[0.01688664596273292, 0.03610248447204969, 0.0...</td>\n",
              "      <td>[0.3788401855751303, 0.3391396277838723, 0.126...</td>\n",
              "      <td>[0.4055087009098813, 0.30502284857314715, 0.14...</td>\n",
              "      <td>[0.27240673892583406, 0.22880618977279096, 0.2...</td>\n",
              "      <td>[0.1746011688174085, 0.05065291773696623, 0.44...</td>\n",
              "      <td>[1.0, 1.0, 1.0, 1.0, 1.0, 1.0, 1.0, 1.0, 1.0, ...</td>\n",
              "      <td>[0.08333333333333333, 0.08333333333333333, 0.0...</td>\n",
              "    </tr>\n",
              "    <tr>\n",
              "      <th rowspan=\"4\" valign=\"top\">16</th>\n",
              "      <th>8</th>\n",
              "      <td>[1.0, 0.5, 1.0, 1.0, 1.0, 1.0, 0.5, 1.0, 1.0, ...</td>\n",
              "      <td>[0.038227146814404436, 0.09182825484764544, 0....</td>\n",
              "      <td>[0.01106366459627329, 0.024068322981366456, 0....</td>\n",
              "      <td>[0.5507741575713005, 0.37627702628430915, 0.30...</td>\n",
              "      <td>[0.5029863166330251, 0.3463496762020834, 0.285...</td>\n",
              "      <td>[0.48364530622437174, 0.26985749005677173, 0.1...</td>\n",
              "      <td>[0.277122816936313, 0.0902808690565426, 0.0318...</td>\n",
              "      <td>[1.0, 1.0, 1.0, 1.0, 1.0, 1.0, 1.0, 1.0, 1.0, ...</td>\n",
              "      <td>[0.4, 0.4, 0.4, 0.4, 0.4, 0.4, 0.4, 0.4, 0.4, ...</td>\n",
              "    </tr>\n",
              "    <tr>\n",
              "      <th>9</th>\n",
              "      <td>[1.0, 0.0, 1.0, 1.0, 0.5, 1.0, 1.0, 1.0, 1.0, ...</td>\n",
              "      <td>[0.0832409972299169, 0.1926592797783934, 0.059...</td>\n",
              "      <td>[0.04444875776397515, 0.026979813664596272, 0....</td>\n",
              "      <td>[0.3788401855751303, 0.23008203940512229, 0.29...</td>\n",
              "      <td>[0.4055087009098813, 0.24627870129517784, 0.27...</td>\n",
              "      <td>[0.27240673892583406, 0.09862601976517309, 0.1...</td>\n",
              "      <td>[0.1746011688174085, 0.1230668119990839, 0.028...</td>\n",
              "      <td>[1.0, 1.0, 1.0, 1.0, 1.0, 1.0, 1.0, 1.0, 1.0, ...</td>\n",
              "      <td>[0.06666666666666668, 0.06666666666666668, 0.0...</td>\n",
              "    </tr>\n",
              "    <tr>\n",
              "      <th>10</th>\n",
              "      <td>[0.0]</td>\n",
              "      <td>[0.10664819944598339]</td>\n",
              "      <td>[0.007569875776397514]</td>\n",
              "      <td>[0.37955291444546274]</td>\n",
              "      <td>[0.26506759955548714]</td>\n",
              "      <td>[0.39197836406003533]</td>\n",
              "      <td>[0.28868189688066065]</td>\n",
              "      <td>[1.0]</td>\n",
              "      <td>[0.06666666666666668]</td>\n",
              "    </tr>\n",
              "    <tr>\n",
              "      <th>11</th>\n",
              "      <td>[1.0]</td>\n",
              "      <td>[0.03462603878116344]</td>\n",
              "      <td>[0.023874223602484472]</td>\n",
              "      <td>[0.08186255874814218]</td>\n",
              "      <td>[0.13422039930584245]</td>\n",
              "      <td>[0.2818255853309882]</td>\n",
              "      <td>[0.376068381679153]</td>\n",
              "      <td>[1.0]</td>\n",
              "      <td>[0.7333333333333333]</td>\n",
              "    </tr>\n",
              "  </tbody>\n",
              "</table>\n",
              "</div>"
            ],
            "text/plain": [
              "                                            magnitude_of_delay_desc  ...                                             Minute\n",
              "Day of year Hour                                                     ...                                                   \n",
              "15          19    [0.5, 0.5, 0.5, 1.0, 1.0, 0.0, 1.0, 1.0, 1.0, ...  ...  [0.08333333333333333, 0.08333333333333333, 0.0...\n",
              "16          8     [1.0, 0.5, 1.0, 1.0, 1.0, 1.0, 0.5, 1.0, 1.0, ...  ...  [0.4, 0.4, 0.4, 0.4, 0.4, 0.4, 0.4, 0.4, 0.4, ...\n",
              "            9     [1.0, 0.0, 1.0, 1.0, 0.5, 1.0, 1.0, 1.0, 1.0, ...  ...  [0.06666666666666668, 0.06666666666666668, 0.0...\n",
              "            10                                                [0.0]  ...                              [0.06666666666666668]\n",
              "            11                                                [1.0]  ...                               [0.7333333333333333]\n",
              "\n",
              "[5 rows x 9 columns]"
            ]
          },
          "metadata": {
            "tags": []
          },
          "execution_count": 107
        }
      ]
    },
    {
      "cell_type": "code",
      "metadata": {
        "id": "ta9Qp3pkthI3",
        "colab_type": "code",
        "colab": {}
      },
      "source": [
        "punctual_incidents_reshaped = np.zeros((351,24,223,len(grouped_punctual_incidents.columns)))\n",
        "punctual_incidents_reshaped.fill(-1)"
      ],
      "execution_count": 0,
      "outputs": []
    },
    {
      "cell_type": "code",
      "metadata": {
        "id": "SRKdHbqFupoA",
        "colab_type": "code",
        "colab": {}
      },
      "source": [
        "for (day,hour),content in grouped_punctual_incidents.iterrows():\n",
        "    index_day = int(day - 15)\n",
        "    index_hour = int(hour)\n",
        "    \n",
        "    for entrance in range(len(content[0])):\n",
        "        place_holder = []\n",
        "        for i in range(len(grouped_punctual_incidents.columns)):\n",
        "            place_holder.append(content[i][entrance])\n",
        "    \n",
        "        punctual_incidents_reshaped[index_day][index_hour][entrance] = np.array(place_holder)\n",
        "        "
      ],
      "execution_count": 0,
      "outputs": []
    },
    {
      "cell_type": "code",
      "metadata": {
        "id": "Gh4cUoKRvW-o",
        "colab_type": "code",
        "outputId": "8b6eb666-73e8-47b9-b8b4-9f33a7d27275",
        "colab": {
          "base_uri": "https://localhost:8080/",
          "height": 146
        }
      },
      "source": [
        "punctual_incidents_reshaped[0][18]"
      ],
      "execution_count": 110,
      "outputs": [
        {
          "output_type": "execute_result",
          "data": {
            "text/plain": [
              "array([[-1., -1., -1., ..., -1., -1., -1.],\n",
              "       [-1., -1., -1., ..., -1., -1., -1.],\n",
              "       [-1., -1., -1., ..., -1., -1., -1.],\n",
              "       ...,\n",
              "       [-1., -1., -1., ..., -1., -1., -1.],\n",
              "       [-1., -1., -1., ..., -1., -1., -1.],\n",
              "       [-1., -1., -1., ..., -1., -1., -1.]])"
            ]
          },
          "metadata": {
            "tags": []
          },
          "execution_count": 110
        }
      ]
    },
    {
      "cell_type": "code",
      "metadata": {
        "id": "5Dzgx4P-vkmc",
        "colab_type": "code",
        "outputId": "a4e72b03-3fe3-4281-c845-4edf39176293",
        "colab": {
          "base_uri": "https://localhost:8080/",
          "height": 238
        }
      },
      "source": [
        "grouped_closed_roads = closed_roads_normalized.groupby(['Day of year', 'Hour']).agg(lambda x: list(x))\n",
        "grouped_closed_roads.head()"
      ],
      "execution_count": 111,
      "outputs": [
        {
          "output_type": "execute_result",
          "data": {
            "text/html": [
              "<div>\n",
              "<style scoped>\n",
              "    .dataframe tbody tr th:only-of-type {\n",
              "        vertical-align: middle;\n",
              "    }\n",
              "\n",
              "    .dataframe tbody tr th {\n",
              "        vertical-align: top;\n",
              "    }\n",
              "\n",
              "    .dataframe thead th {\n",
              "        text-align: right;\n",
              "    }\n",
              "</style>\n",
              "<table border=\"1\" class=\"dataframe\">\n",
              "  <thead>\n",
              "    <tr style=\"text-align: right;\">\n",
              "      <th></th>\n",
              "      <th></th>\n",
              "      <th>length_in_meters</th>\n",
              "      <th>AvenidaCentral</th>\n",
              "      <th>AvenidaLiberdade</th>\n",
              "      <th>RuaDeCaires</th>\n",
              "      <th>Bosch</th>\n",
              "      <th>week_or_not</th>\n",
              "    </tr>\n",
              "    <tr>\n",
              "      <th>Day of year</th>\n",
              "      <th>Hour</th>\n",
              "      <th></th>\n",
              "      <th></th>\n",
              "      <th></th>\n",
              "      <th></th>\n",
              "      <th></th>\n",
              "      <th></th>\n",
              "    </tr>\n",
              "  </thead>\n",
              "  <tbody>\n",
              "    <tr>\n",
              "      <th rowspan=\"5\" valign=\"top\">15</th>\n",
              "      <th>19</th>\n",
              "      <td>[0.03626306084818685]</td>\n",
              "      <td>[0.18012757697717777]</td>\n",
              "      <td>[0.15036128164510024]</td>\n",
              "      <td>[0.30646102349450727]</td>\n",
              "      <td>[0.4025830411786491]</td>\n",
              "      <td>[1.0]</td>\n",
              "    </tr>\n",
              "    <tr>\n",
              "      <th>20</th>\n",
              "      <td>[0.03626306084818685]</td>\n",
              "      <td>[0.18012757697717777]</td>\n",
              "      <td>[0.15036128164510024]</td>\n",
              "      <td>[0.30646102349450727]</td>\n",
              "      <td>[0.4025830411786491]</td>\n",
              "      <td>[1.0]</td>\n",
              "    </tr>\n",
              "    <tr>\n",
              "      <th>21</th>\n",
              "      <td>[0.03626306084818685]</td>\n",
              "      <td>[0.18012757697717777]</td>\n",
              "      <td>[0.15036128164510024]</td>\n",
              "      <td>[0.30646102349450727]</td>\n",
              "      <td>[0.4025830411786491]</td>\n",
              "      <td>[1.0]</td>\n",
              "    </tr>\n",
              "    <tr>\n",
              "      <th>22</th>\n",
              "      <td>[0.03626306084818685]</td>\n",
              "      <td>[0.18012757697717777]</td>\n",
              "      <td>[0.15036128164510024]</td>\n",
              "      <td>[0.30646102349450727]</td>\n",
              "      <td>[0.4025830411786491]</td>\n",
              "      <td>[1.0]</td>\n",
              "    </tr>\n",
              "    <tr>\n",
              "      <th>23</th>\n",
              "      <td>[0.03626306084818685]</td>\n",
              "      <td>[0.18012757697717777]</td>\n",
              "      <td>[0.15036128164510024]</td>\n",
              "      <td>[0.30646102349450727]</td>\n",
              "      <td>[0.4025830411786491]</td>\n",
              "      <td>[1.0]</td>\n",
              "    </tr>\n",
              "  </tbody>\n",
              "</table>\n",
              "</div>"
            ],
            "text/plain": [
              "                       length_in_meters  ... week_or_not\n",
              "Day of year Hour                         ...            \n",
              "15          19    [0.03626306084818685]  ...       [1.0]\n",
              "            20    [0.03626306084818685]  ...       [1.0]\n",
              "            21    [0.03626306084818685]  ...       [1.0]\n",
              "            22    [0.03626306084818685]  ...       [1.0]\n",
              "            23    [0.03626306084818685]  ...       [1.0]\n",
              "\n",
              "[5 rows x 6 columns]"
            ]
          },
          "metadata": {
            "tags": []
          },
          "execution_count": 111
        }
      ]
    },
    {
      "cell_type": "code",
      "metadata": {
        "id": "BcjTT6H_vxKJ",
        "colab_type": "code",
        "colab": {}
      },
      "source": [
        "closed_roads_reshaped = np.zeros((351,24,7,len(grouped_closed_roads.columns)))\n",
        "closed_roads_reshaped.fill(-1)"
      ],
      "execution_count": 0,
      "outputs": []
    },
    {
      "cell_type": "code",
      "metadata": {
        "id": "tfX2r4VhwhFf",
        "colab_type": "code",
        "colab": {}
      },
      "source": [
        "for (day,hour),content in grouped_closed_roads.iterrows():\n",
        "    index_day = int(day - 15)\n",
        "    index_hour = int(hour)\n",
        "\n",
        "    \n",
        "    for entrance in range(len(content[0])):\n",
        "        place_holder = []\n",
        "        for i in range(len(grouped_closed_roads.columns)):\n",
        "            place_holder.append(content[i][entrance])\n",
        "    \n",
        "        closed_roads_reshaped[index_day][index_hour][entrance] = np.array(place_holder)\n",
        "        "
      ],
      "execution_count": 0,
      "outputs": []
    },
    {
      "cell_type": "code",
      "metadata": {
        "id": "OwpkBDqQwpgm",
        "colab_type": "code",
        "outputId": "87ce4338-93da-4f07-852a-2db54be363df",
        "colab": {
          "base_uri": "https://localhost:8080/",
          "height": 146
        }
      },
      "source": [
        "closed_roads_reshaped[0][18]"
      ],
      "execution_count": 114,
      "outputs": [
        {
          "output_type": "execute_result",
          "data": {
            "text/plain": [
              "array([[-1., -1., -1., -1., -1., -1.],\n",
              "       [-1., -1., -1., -1., -1., -1.],\n",
              "       [-1., -1., -1., -1., -1., -1.],\n",
              "       [-1., -1., -1., -1., -1., -1.],\n",
              "       [-1., -1., -1., -1., -1., -1.],\n",
              "       [-1., -1., -1., -1., -1., -1.],\n",
              "       [-1., -1., -1., -1., -1., -1.]])"
            ]
          },
          "metadata": {
            "tags": []
          },
          "execution_count": 114
        }
      ]
    },
    {
      "cell_type": "code",
      "metadata": {
        "id": "ND66VAY8y8Pa",
        "colab_type": "code",
        "outputId": "b38487e3-8f9d-41c5-af21-b9c1f78e1111",
        "colab": {
          "base_uri": "https://localhost:8080/",
          "height": 35
        }
      },
      "source": [
        "trafic_flow_reshaped.shape"
      ],
      "execution_count": 115,
      "outputs": [
        {
          "output_type": "execute_result",
          "data": {
            "text/plain": [
              "(351, 24, 4, 12)"
            ]
          },
          "metadata": {
            "tags": []
          },
          "execution_count": 115
        }
      ]
    },
    {
      "cell_type": "code",
      "metadata": {
        "id": "loDKZSf3zBZW",
        "colab_type": "code",
        "outputId": "f18c30fb-06be-4d00-a4d0-b00c68c9b0bf",
        "colab": {
          "base_uri": "https://localhost:8080/",
          "height": 35
        }
      },
      "source": [
        "punctual_incidents_reshaped.shape"
      ],
      "execution_count": 116,
      "outputs": [
        {
          "output_type": "execute_result",
          "data": {
            "text/plain": [
              "(351, 24, 223, 9)"
            ]
          },
          "metadata": {
            "tags": []
          },
          "execution_count": 116
        }
      ]
    },
    {
      "cell_type": "code",
      "metadata": {
        "id": "JRyRgFtrzBhH",
        "colab_type": "code",
        "outputId": "d6368be6-bcb1-4947-f006-af1abdf5e719",
        "colab": {
          "base_uri": "https://localhost:8080/",
          "height": 35
        }
      },
      "source": [
        "closed_roads_reshaped.shape"
      ],
      "execution_count": 117,
      "outputs": [
        {
          "output_type": "execute_result",
          "data": {
            "text/plain": [
              "(351, 24, 7, 6)"
            ]
          },
          "metadata": {
            "tags": []
          },
          "execution_count": 117
        }
      ]
    },
    {
      "cell_type": "code",
      "metadata": {
        "id": "Nqbbn6c833V6",
        "colab_type": "code",
        "outputId": "4af8b396-d82d-4b34-a80c-c80ac57a8433",
        "colab": {
          "base_uri": "https://localhost:8080/",
          "height": 90
        }
      },
      "source": [
        "trafic_flow_reshaped[0][18]"
      ],
      "execution_count": 118,
      "outputs": [
        {
          "output_type": "execute_result",
          "data": {
            "text/plain": [
              "array([[-1., -1., -1., -1., -1., -1., -1., -1., -1., -1., -1., -1.],\n",
              "       [-1., -1., -1., -1., -1., -1., -1., -1., -1., -1., -1., -1.],\n",
              "       [-1., -1., -1., -1., -1., -1., -1., -1., -1., -1., -1., -1.],\n",
              "       [-1., -1., -1., -1., -1., -1., -1., -1., -1., -1., -1., -1.]])"
            ]
          },
          "metadata": {
            "tags": []
          },
          "execution_count": 118
        }
      ]
    },
    {
      "cell_type": "code",
      "metadata": {
        "id": "ErCdayx49egO",
        "colab_type": "code",
        "outputId": "494f6877-2d8c-4781-fcb9-a356eaf67105",
        "colab": {
          "base_uri": "https://localhost:8080/",
          "height": 35
        }
      },
      "source": [
        "trafic_flow_reshaped[0][18][:,3]"
      ],
      "execution_count": 119,
      "outputs": [
        {
          "output_type": "execute_result",
          "data": {
            "text/plain": [
              "array([-1., -1., -1., -1.])"
            ]
          },
          "metadata": {
            "tags": []
          },
          "execution_count": 119
        }
      ]
    },
    {
      "cell_type": "code",
      "metadata": {
        "id": "dKPIWgn8BfrW",
        "colab_type": "code",
        "colab": {}
      },
      "source": [
        "background_hours = 5"
      ],
      "execution_count": 0,
      "outputs": []
    },
    {
      "cell_type": "code",
      "metadata": {
        "id": "bPMsCIUr2WLW",
        "colab_type": "code",
        "colab": {}
      },
      "source": [
        "labels = []\n",
        "timesteps = []\n",
        "\n",
        "for day in range(351):\n",
        "  for hour in range(24):\n",
        "    if (day == 350 and hour > 18):\n",
        "      break\n",
        "    else:\n",
        "        tbf = []\n",
        "        for context in range(background_hours):\n",
        "            current_jump = hour+context\n",
        "            #'''(day+15)/365 ,'''\n",
        "            time_frame = np.repeat( [[ hour/24 ]] , trafic_flow_reshaped.shape[2], axis=0) \n",
        "            if current_jump > 23 :\n",
        "                adjusted_jump = current_jump - 23\n",
        "                tbf.append( np.hstack((time_frame,trafic_flow_reshaped[day+1][adjusted_jump-1])) )\n",
        "\n",
        "            else:\n",
        "                tbf.append(np.hstack((time_frame,trafic_flow_reshaped[day][current_jump])))\n",
        "\n",
        "        timesteps.append(tbf)\n",
        "        label_jump = hour+background_hours\n",
        "\n",
        "        if label_jump > 23 :\n",
        "          adjusted_label_jump = label_jump - 23\n",
        "          labels.append(trafic_flow_reshaped[day+1][adjusted_label_jump-1][:,3])\n",
        "        else :\n",
        "          labels.append(trafic_flow_reshaped[day][hour+background_hours][:,3])"
      ],
      "execution_count": 0,
      "outputs": []
    },
    {
      "cell_type": "code",
      "metadata": {
        "id": "oDmJ0onGAOXr",
        "colab_type": "code",
        "outputId": "40e58391-3459-4605-8fdb-d7ad767cd775",
        "colab": {
          "base_uri": "https://localhost:8080/",
          "height": 54
        }
      },
      "source": [
        "traffic_flow_model_data = np.array(timesteps)\n",
        "labels = np.array(labels)\n",
        "print(traffic_flow_model_data.shape)\n",
        "print(labels.shape)"
      ],
      "execution_count": 122,
      "outputs": [
        {
          "output_type": "stream",
          "text": [
            "(8419, 5, 4, 13)\n",
            "(8419, 4)\n"
          ],
          "name": "stdout"
        }
      ]
    },
    {
      "cell_type": "code",
      "metadata": {
        "id": "dZbp7rTUBq9-",
        "colab_type": "code",
        "colab": {}
      },
      "source": [
        "#labels = []\n",
        "timesteps = []\n",
        "\n",
        "for day in range(351):\n",
        "  for hour in range(24):\n",
        "    if (day == 350 and hour > 18):\n",
        "      break\n",
        "    else:\n",
        "        tbf = []\n",
        "        for context in range(background_hours):\n",
        "            current_jump = hour+context\n",
        "            #'''(day+15)/365 ,'''\n",
        "            time_frame = np.repeat( [[ hour/24 ]] , punctual_incidents_reshaped.shape[2], axis=0) \n",
        "\n",
        "            if current_jump > 23 :\n",
        "                adjusted_jump = current_jump - 23\n",
        "                tbf.append(  np.hstack((time_frame,punctual_incidents_reshaped[day+1][adjusted_jump-1])))\n",
        "\n",
        "            else:\n",
        "                tbf.append( np.hstack(( time_frame, punctual_incidents_reshaped[day][hour+context])))\n",
        "\n",
        "        timesteps.append(tbf)\n",
        "        '''label_jump = hour+background_hours\n",
        "\n",
        "        if label_jump > 23 :\n",
        "          adjusted_label_jump = label_jump - 23\n",
        "          labels.append(punctual_incidents_reshaped[day+1][adjusted_label_jump-1][:,3])\n",
        "        else :\n",
        "          labels.append(punctual_incidents_reshaped[day][hour+background_hours][:,3])\n",
        "'''\n"
      ],
      "execution_count": 0,
      "outputs": []
    },
    {
      "cell_type": "code",
      "metadata": {
        "id": "9Xbq9A5EBxOY",
        "colab_type": "code",
        "outputId": "417f7b74-51ee-4c69-d151-2f16f67534f5",
        "colab": {
          "base_uri": "https://localhost:8080/",
          "height": 35
        }
      },
      "source": [
        "punctual_incidents_model_data = np.array(timesteps)\n",
        "#punctual_incidents_labels = np.array(labels)\n",
        "print(punctual_incidents_model_data.shape)\n",
        "#print(punctual_incidents_labels.shape)"
      ],
      "execution_count": 126,
      "outputs": [
        {
          "output_type": "stream",
          "text": [
            "(8419, 5, 223, 10)\n"
          ],
          "name": "stdout"
        }
      ]
    },
    {
      "cell_type": "code",
      "metadata": {
        "id": "70QMUnpLBd5a",
        "colab_type": "code",
        "colab": {}
      },
      "source": [
        "#labels = []\n",
        "timesteps = []\n",
        "\n",
        "for day in range(351):\n",
        "  for hour in range(24):\n",
        "    if (day == 350 and hour > 18):\n",
        "      break\n",
        "    else:\n",
        "        tbf = []\n",
        "        for context in range(background_hours):\n",
        "            current_jump = hour+context\n",
        "            #'''(day+15)/365 ,'''\n",
        "            time_frame = np.repeat( [[ hour/24 ]] , closed_roads_reshaped.shape[2], axis=0) \n",
        "\n",
        "            if current_jump > 23 :\n",
        "                adjusted_jump = current_jump - 23\n",
        "                tbf.append( np.hstack(( time_frame, closed_roads_reshaped[day+1][adjusted_jump-1])))\n",
        "\n",
        "            else:\n",
        "                tbf.append( np.hstack((time_frame, closed_roads_reshaped[day][hour+context])))\n",
        "\n",
        "        timesteps.append(tbf)\n",
        "        '''label_jump = hour+background_hours\n",
        "\n",
        "        if label_jump > 23 :\n",
        "          adjusted_label_jump = label_jump - 23\n",
        "          labels.append(closed_roads_reshaped[day+1][adjusted_label_jump-1][:,3])\n",
        "        else :\n",
        "          labels.append(closed_roads_reshaped[day][hour+background_hours][:,3])'''\n",
        "\n"
      ],
      "execution_count": 0,
      "outputs": []
    },
    {
      "cell_type": "code",
      "metadata": {
        "id": "4n4J_dMVB63Y",
        "colab_type": "code",
        "outputId": "68c0c0e8-3d11-4ddd-8203-ac8772fdcba8",
        "colab": {
          "base_uri": "https://localhost:8080/",
          "height": 35
        }
      },
      "source": [
        "closed_roads_model_data = np.array(timesteps)\n",
        "#closed_roads_labels = np.array(labels)\n",
        "print(closed_roads_model_data.shape)\n",
        "#print(closed_roads_labels.shape)"
      ],
      "execution_count": 128,
      "outputs": [
        {
          "output_type": "stream",
          "text": [
            "(8419, 5, 7, 7)\n"
          ],
          "name": "stdout"
        }
      ]
    },
    {
      "cell_type": "code",
      "metadata": {
        "id": "K4Vx1V4gIgdZ",
        "colab_type": "code",
        "outputId": "8f5ee7b2-2956-4d96-fd93-4d0b4c425378",
        "colab": {
          "base_uri": "https://localhost:8080/",
          "height": 35
        }
      },
      "source": [
        "indexes = []\n",
        "for i in range(closed_roads_model_data.shape[0]):\n",
        "    if -1 in labels[i]:\n",
        "      indexes.append(i)\n",
        "\n",
        "corrected_traffic_flow_model_data = np.delete(traffic_flow_model_data,indexes,axis=0)\n",
        "corrected_labels = np.delete(labels,indexes,axis=0)\n",
        "corrected_punctual_incidents_model_data = np.delete(punctual_incidents_model_data,indexes,axis=0)\n",
        "corrected_closed_roads_model_data = np.delete(closed_roads_model_data,indexes,axis=0)\n",
        "\n",
        "print(len(corrected_labels))\n"
      ],
      "execution_count": 129,
      "outputs": [
        {
          "output_type": "stream",
          "text": [
            "6815\n"
          ],
          "name": "stdout"
        }
      ]
    },
    {
      "cell_type": "code",
      "metadata": {
        "id": "KorllVJFJbDg",
        "colab_type": "code",
        "outputId": "73889c81-8f40-4256-a7a5-92c5ef68b9f3",
        "colab": {
          "base_uri": "https://localhost:8080/",
          "height": 90
        }
      },
      "source": [
        "print('Taffic flow data shape: {}'.format(corrected_traffic_flow_model_data.shape))\n",
        "print('Punctual incidents data shape: {}'.format(corrected_punctual_incidents_model_data.shape))\n",
        "print('Closed roads data shape: {}'.format(corrected_closed_roads_model_data.shape))\n",
        "print('Labels shape: {}'.format(corrected_labels.shape))"
      ],
      "execution_count": 130,
      "outputs": [
        {
          "output_type": "stream",
          "text": [
            "Taffic flow data shape: (6815, 5, 4, 13)\n",
            "Punctual incidents data shape: (6815, 5, 223, 10)\n",
            "Closed roads data shape: (6815, 5, 7, 7)\n",
            "Labels shape: (6815, 4)\n"
          ],
          "name": "stdout"
        }
      ]
    },
    {
      "cell_type": "code",
      "metadata": {
        "id": "GrTHewplHAqp",
        "colab_type": "code",
        "outputId": "beff086b-4d8c-47da-df9c-11e065f26fae",
        "colab": {
          "base_uri": "https://localhost:8080/",
          "height": 105
        }
      },
      "source": [
        "print('------------ Reshaping the datasets ------------')\n",
        "(x1,x2,x3,x4) = corrected_traffic_flow_model_data.shape\n",
        "corrected_traffic_flow_model_data = corrected_traffic_flow_model_data.reshape(x1,x2,x3*x4)\n",
        "print('Taffic flow data shape: {}'.format(corrected_traffic_flow_model_data.shape))\n",
        "\n",
        "(x1,x2,x3,x4) = corrected_punctual_incidents_model_data.shape\n",
        "corrected_punctual_incidents_model_data = corrected_punctual_incidents_model_data.reshape(x1,x2,x3*x4)\n",
        "print('Punctual incidents data shape: {}'.format(corrected_punctual_incidents_model_data.shape))\n",
        "\n",
        "(x1,x2,x3,x4) = corrected_closed_roads_model_data.shape\n",
        "corrected_closed_roads_model_data = corrected_closed_roads_model_data.reshape(x1,x2,x3*x4)\n",
        "print('Closed roads data shape: {}'.format(corrected_closed_roads_model_data.shape))\n",
        "\n",
        "print('Labels shape: {}'.format(corrected_labels.shape))"
      ],
      "execution_count": 0,
      "outputs": [
        {
          "output_type": "stream",
          "text": [
            "------------ Reshaping the datasets ------------\n",
            "Taffic flow data shape: (6700, 5, 52)\n",
            "Punctual incidents data shape: (6700, 5, 2230)\n",
            "Closed roads data shape: (6700, 5, 49)\n",
            "Labels shape: (6700, 4)\n"
          ],
          "name": "stdout"
        }
      ]
    },
    {
      "cell_type": "code",
      "metadata": {
        "id": "ndylMimzt3nZ",
        "colab_type": "code",
        "colab": {}
      },
      "source": [
        "import tensorflow as tf\n",
        "from tensorflow import keras\n",
        "from tensorflow.keras.models import Model\n",
        "from tensorflow.keras.layers import Input,LSTM,Masking,concatenate,Dense,Flatten,Reshape"
      ],
      "execution_count": 0,
      "outputs": []
    },
    {
      "cell_type": "code",
      "metadata": {
        "id": "JzaM6Gk4F8gs",
        "colab_type": "code",
        "outputId": "817e9cb2-c413-4129-d5f4-81d3c6de1603",
        "colab": {
          "base_uri": "https://localhost:8080/",
          "height": 621
        }
      },
      "source": [
        "def build_model(traffic_shape,punctual_shape,closed_shape):\n",
        "\n",
        "  traffic_flow_input = Input(shape = traffic_shape)\n",
        "  punctual_incidents_input = Input(shape = punctual_shape)\n",
        "  closed_roads_input = Input(shape = closed_shape)\n",
        "\n",
        "  mask1 = Masking(mask_value = -1)(traffic_flow_input)\n",
        "  lstm1 = LSTM(units=16)(mask1)\n",
        "  \n",
        "  mask2 = Masking(mask_value = -1)(punctual_incidents_input)\n",
        "  lstm2 = LSTM(units=16)(mask2)\n",
        "\n",
        "  mask3 = Masking(mask_value = -1)(closed_roads_input)\n",
        "  lstm3 = LSTM(units=16)(mask3)\n",
        "\n",
        "  concat_result = concatenate( [lstm1,lstm2,lstm3],axis=1)\n",
        "\n",
        "  dense1 = Dense(32,activation='relu')(concat_result)\n",
        "\n",
        "  dense_output = Dense(4,activation='sigmoid')(dense1)\n",
        "\n",
        "  model = Model(inputs=[traffic_flow_input,punctual_incidents_input,closed_roads_input], outputs = dense_output, name='traffic_flow_lstm')\n",
        "\n",
        "  model.compile(optimizer = \"adam\", loss = tf.keras.losses.MeanSquaredError())\n",
        "\n",
        "  return model\n",
        "\n",
        "model = build_model(corrected_traffic_flow_model_data.shape[1:],corrected_punctual_incidents_model_data.shape[1:],corrected_closed_roads_model_data.shape[1:])\n",
        "model.summary()"
      ],
      "execution_count": 0,
      "outputs": [
        {
          "output_type": "stream",
          "text": [
            "Model: \"traffic_flow_lstm\"\n",
            "__________________________________________________________________________________________________\n",
            "Layer (type)                    Output Shape         Param #     Connected to                     \n",
            "==================================================================================================\n",
            "input_26 (InputLayer)           [(None, 5, 52)]      0                                            \n",
            "__________________________________________________________________________________________________\n",
            "input_27 (InputLayer)           [(None, 5, 2230)]    0                                            \n",
            "__________________________________________________________________________________________________\n",
            "input_28 (InputLayer)           [(None, 5, 49)]      0                                            \n",
            "__________________________________________________________________________________________________\n",
            "masking_24 (Masking)            (None, 5, 52)        0           input_26[0][0]                   \n",
            "__________________________________________________________________________________________________\n",
            "masking_25 (Masking)            (None, 5, 2230)      0           input_27[0][0]                   \n",
            "__________________________________________________________________________________________________\n",
            "masking_26 (Masking)            (None, 5, 49)        0           input_28[0][0]                   \n",
            "__________________________________________________________________________________________________\n",
            "lstm_24 (LSTM)                  (None, 16)           4416        masking_24[0][0]                 \n",
            "__________________________________________________________________________________________________\n",
            "lstm_25 (LSTM)                  (None, 16)           143808      masking_25[0][0]                 \n",
            "__________________________________________________________________________________________________\n",
            "lstm_26 (LSTM)                  (None, 16)           4224        masking_26[0][0]                 \n",
            "__________________________________________________________________________________________________\n",
            "concatenate_8 (Concatenate)     (None, 48)           0           lstm_24[0][0]                    \n",
            "                                                                 lstm_25[0][0]                    \n",
            "                                                                 lstm_26[0][0]                    \n",
            "__________________________________________________________________________________________________\n",
            "dense_16 (Dense)                (None, 32)           1568        concatenate_8[0][0]              \n",
            "__________________________________________________________________________________________________\n",
            "dense_17 (Dense)                (None, 4)            132         dense_16[0][0]                   \n",
            "==================================================================================================\n",
            "Total params: 154,148\n",
            "Trainable params: 154,148\n",
            "Non-trainable params: 0\n",
            "__________________________________________________________________________________________________\n"
          ],
          "name": "stdout"
        }
      ]
    },
    {
      "cell_type": "code",
      "metadata": {
        "id": "cgyQkwqVPkZc",
        "colab_type": "code",
        "outputId": "9c46f023-aca6-41f9-d27d-429205ad9ad0",
        "colab": {
          "base_uri": "https://localhost:8080/",
          "height": 354
        }
      },
      "source": [
        "#custom backtest function\n",
        "#We have two aproaches for backtesting in temporal series\n",
        "#Sliding window or expanding window, i'm using expanding window\n",
        "\n",
        "def backtest_expanding(n_time_step,model):\n",
        "    \"\"\"\n",
        "    n_time_step - número de time_steps que queremos prever\n",
        "    \"\"\"\n",
        "\n",
        "    predictions = []\n",
        "    true_values = []\n",
        "    for i in reversed(range(1, n_time_step)):\n",
        "\n",
        "        x_train1 = corrected_traffic_flow_model_data[:len(corrected_traffic_flow_model_data)-i]\n",
        "        x_train2 = corrected_punctual_incidents_model_data[:len(corrected_punctual_incidents_model_data)-i]\n",
        "        x_train3 = corrected_closed_roads_model_data[:len(corrected_closed_roads_model_data)-i]\n",
        "        y_train = corrected_labels[:len(corrected_labels)-i]\n",
        "\n",
        "        x_test1 = corrected_traffic_flow_model_data[len(corrected_traffic_flow_model_data)-i]\n",
        "        x_test2 = corrected_punctual_incidents_model_data[len(corrected_punctual_incidents_model_data)-i]\n",
        "        x_test3 = corrected_closed_roads_model_data[len(corrected_closed_roads_model_data)-i]\n",
        "        y_test = corrected_labels[len(corrected_labels)-i]\n",
        "        \n",
        "        model.fit(\n",
        "            x=[\n",
        "              x_train1,\n",
        "              x_train2,\n",
        "              x_train3\n",
        "             ],\n",
        "          y =[y_train])\n",
        "        \n",
        "        x_test1 = x_test1.reshape(1,x_test1.shape[0],x_test1.shape[1])\n",
        "        x_test2 = x_test2.reshape(1,x_test2.shape[0],x_test2.shape[1])\n",
        "        x_test3 = x_test3.reshape(1,x_test3.shape[0],x_test3.shape[1])\n",
        "        \n",
        "\n",
        "        predictions.append(model.predict([x_test1,x_test2,x_test3])[0])\n",
        "        true_values.append(y_test)\n",
        "\n",
        "    return true_values, predictions\n",
        " \n",
        "n_time_step = 20\n",
        "true_values, predictions = backtest_expanding(n_time_step,model)"
      ],
      "execution_count": 0,
      "outputs": [
        {
          "output_type": "stream",
          "text": [
            "209/209 [==============================] - 4s 18ms/step - loss: 0.0239\n",
            "209/209 [==============================] - 4s 18ms/step - loss: 0.0141\n",
            "209/209 [==============================] - 4s 18ms/step - loss: 0.0130\n",
            "209/209 [==============================] - 4s 18ms/step - loss: 0.0124\n",
            "209/209 [==============================] - 4s 18ms/step - loss: 0.0119\n",
            "209/209 [==============================] - 4s 17ms/step - loss: 0.0115\n",
            "209/209 [==============================] - 4s 17ms/step - loss: 0.0109\n",
            "209/209 [==============================] - 3s 14ms/step - loss: 0.0103\n",
            "210/210 [==============================] - 4s 18ms/step - loss: 0.0100\n",
            "210/210 [==============================] - 4s 17ms/step - loss: 0.0096\n",
            "210/210 [==============================] - 4s 18ms/step - loss: 0.0095\n",
            "210/210 [==============================] - 4s 18ms/step - loss: 0.0092\n",
            "210/210 [==============================] - 4s 17ms/step - loss: 0.0089\n",
            "210/210 [==============================] - 4s 17ms/step - loss: 0.0087\n",
            "210/210 [==============================] - 4s 17ms/step - loss: 0.0085\n",
            "210/210 [==============================] - 4s 17ms/step - loss: 0.0085\n",
            "210/210 [==============================] - 4s 17ms/step - loss: 0.0084\n",
            "210/210 [==============================] - 4s 18ms/step - loss: 0.0083\n",
            "210/210 [==============================] - 4s 18ms/step - loss: 0.0082\n"
          ],
          "name": "stdout"
        }
      ]
    },
    {
      "cell_type": "code",
      "metadata": {
        "id": "EbPh4B3k-qCJ",
        "colab_type": "code",
        "outputId": "6dbf33cf-dc50-4af0-f441-7d552db14e67",
        "colab": {
          "base_uri": "https://localhost:8080/",
          "height": 52
        }
      },
      "source": [
        "print(len(x_axis))\n",
        "print(corrected_labels.shape)"
      ],
      "execution_count": 0,
      "outputs": [
        {
          "output_type": "stream",
          "text": [
            "6815\n",
            "(6700, 4)\n"
          ],
          "name": "stdout"
        }
      ]
    },
    {
      "cell_type": "code",
      "metadata": {
        "id": "GNON6luPPeiX",
        "colab_type": "code",
        "outputId": "06a40c72-4928-47ee-b640-7dbbc3a17a76",
        "colab": {
          "base_uri": "https://localhost:8080/",
          "height": 752
        }
      },
      "source": [
        "def make_plot(street_number,n_time_step,predictions,true_values,x_axis):\n",
        "\n",
        "  plt.figure(figsize=(30,10))\n",
        "  \n",
        "  i = n_time_step\n",
        " \n",
        "  x_axis = x_axis[:len(x_axis)-i]\n",
        "  y_train = corrected_labels[:len(corrected_labels)-i][:,street_number]\n",
        "  predictions = np.append(y_train,np.asarray(predictions)[:,street_number],axis=0)\n",
        "  true_values = np.append(y_train,np.asarray(true_values)[:,street_number],axis=0)\n",
        "\n",
        "\n",
        "\n",
        "  plt.plot(x_axis,y_train, 'o')\n",
        "  plt.plot(range(0,len(predictions)),predictions,'r')\n",
        "  plt.plot(range(0,len(true_values)),true_values,'b')\n",
        "\n",
        "  plt.title(\"Time Ratio Traffic in Braga\")\n",
        "  plt.xlabel(\"Time Ratio\")\n",
        "  plt.ylabel(\"Braga\")\n",
        "  plt.legend(['Train data',\n",
        "            'Predicted Time Ratio',\n",
        "            'Real Time Ratio',\n",
        "            ],loc = 'upper left')\n",
        "  \n",
        "  plt.legend\n",
        "  plt.show()\n",
        "\n",
        "make_plot(1,n_time_step,predictions,true_values,x_axis)"
      ],
      "execution_count": 0,
      "outputs": [
        {
          "output_type": "error",
          "ename": "ValueError",
          "evalue": "ignored",
          "traceback": [
            "\u001b[0;31m---------------------------------------------------------------------------\u001b[0m",
            "\u001b[0;31mValueError\u001b[0m                                Traceback (most recent call last)",
            "\u001b[0;32m<ipython-input-329-22ad0b9e32af>\u001b[0m in \u001b[0;36m<module>\u001b[0;34m()\u001b[0m\n\u001b[1;32m     27\u001b[0m   \u001b[0mplt\u001b[0m\u001b[0;34m.\u001b[0m\u001b[0mshow\u001b[0m\u001b[0;34m(\u001b[0m\u001b[0;34m)\u001b[0m\u001b[0;34m\u001b[0m\u001b[0;34m\u001b[0m\u001b[0m\n\u001b[1;32m     28\u001b[0m \u001b[0;34m\u001b[0m\u001b[0m\n\u001b[0;32m---> 29\u001b[0;31m \u001b[0mmake_plot\u001b[0m\u001b[0;34m(\u001b[0m\u001b[0;36m1\u001b[0m\u001b[0;34m,\u001b[0m\u001b[0mn_time_step\u001b[0m\u001b[0;34m,\u001b[0m\u001b[0mpredictions\u001b[0m\u001b[0;34m,\u001b[0m\u001b[0mtrue_values\u001b[0m\u001b[0;34m,\u001b[0m\u001b[0mx_axis\u001b[0m\u001b[0;34m)\u001b[0m\u001b[0;34m\u001b[0m\u001b[0;34m\u001b[0m\u001b[0m\n\u001b[0m",
            "\u001b[0;32m<ipython-input-329-22ad0b9e32af>\u001b[0m in \u001b[0;36mmake_plot\u001b[0;34m(street_number, n_time_step, predictions, true_values, x_axis)\u001b[0m\n\u001b[1;32m     12\u001b[0m \u001b[0;34m\u001b[0m\u001b[0m\n\u001b[1;32m     13\u001b[0m \u001b[0;34m\u001b[0m\u001b[0m\n\u001b[0;32m---> 14\u001b[0;31m   \u001b[0mplt\u001b[0m\u001b[0;34m.\u001b[0m\u001b[0mplot\u001b[0m\u001b[0;34m(\u001b[0m\u001b[0mx_axis\u001b[0m\u001b[0;34m,\u001b[0m\u001b[0my_train\u001b[0m\u001b[0;34m,\u001b[0m \u001b[0;34m'o'\u001b[0m\u001b[0;34m)\u001b[0m\u001b[0;34m\u001b[0m\u001b[0;34m\u001b[0m\u001b[0m\n\u001b[0m\u001b[1;32m     15\u001b[0m   \u001b[0mplt\u001b[0m\u001b[0;34m.\u001b[0m\u001b[0mplot\u001b[0m\u001b[0;34m(\u001b[0m\u001b[0mrange\u001b[0m\u001b[0;34m(\u001b[0m\u001b[0;36m0\u001b[0m\u001b[0;34m,\u001b[0m\u001b[0mlen\u001b[0m\u001b[0;34m(\u001b[0m\u001b[0mpredictions\u001b[0m\u001b[0;34m)\u001b[0m\u001b[0;34m)\u001b[0m\u001b[0;34m,\u001b[0m\u001b[0mpredictions\u001b[0m\u001b[0;34m,\u001b[0m\u001b[0;34m'r'\u001b[0m\u001b[0;34m)\u001b[0m\u001b[0;34m\u001b[0m\u001b[0;34m\u001b[0m\u001b[0m\n\u001b[1;32m     16\u001b[0m   \u001b[0mplt\u001b[0m\u001b[0;34m.\u001b[0m\u001b[0mplot\u001b[0m\u001b[0;34m(\u001b[0m\u001b[0mrange\u001b[0m\u001b[0;34m(\u001b[0m\u001b[0;36m0\u001b[0m\u001b[0;34m,\u001b[0m\u001b[0mlen\u001b[0m\u001b[0;34m(\u001b[0m\u001b[0mtrue_values\u001b[0m\u001b[0;34m)\u001b[0m\u001b[0;34m)\u001b[0m\u001b[0;34m,\u001b[0m\u001b[0mtrue_values\u001b[0m\u001b[0;34m,\u001b[0m\u001b[0;34m'b'\u001b[0m\u001b[0;34m)\u001b[0m\u001b[0;34m\u001b[0m\u001b[0;34m\u001b[0m\u001b[0m\n",
            "\u001b[0;32m/usr/local/lib/python3.6/dist-packages/matplotlib/pyplot.py\u001b[0m in \u001b[0;36mplot\u001b[0;34m(scalex, scaley, data, *args, **kwargs)\u001b[0m\n\u001b[1;32m   2761\u001b[0m     return gca().plot(\n\u001b[1;32m   2762\u001b[0m         *args, scalex=scalex, scaley=scaley, **({\"data\": data} if data\n\u001b[0;32m-> 2763\u001b[0;31m         is not None else {}), **kwargs)\n\u001b[0m\u001b[1;32m   2764\u001b[0m \u001b[0;34m\u001b[0m\u001b[0m\n\u001b[1;32m   2765\u001b[0m \u001b[0;34m\u001b[0m\u001b[0m\n",
            "\u001b[0;32m/usr/local/lib/python3.6/dist-packages/matplotlib/axes/_axes.py\u001b[0m in \u001b[0;36mplot\u001b[0;34m(self, scalex, scaley, data, *args, **kwargs)\u001b[0m\n\u001b[1;32m   1644\u001b[0m         \"\"\"\n\u001b[1;32m   1645\u001b[0m         \u001b[0mkwargs\u001b[0m \u001b[0;34m=\u001b[0m \u001b[0mcbook\u001b[0m\u001b[0;34m.\u001b[0m\u001b[0mnormalize_kwargs\u001b[0m\u001b[0;34m(\u001b[0m\u001b[0mkwargs\u001b[0m\u001b[0;34m,\u001b[0m \u001b[0mmlines\u001b[0m\u001b[0;34m.\u001b[0m\u001b[0mLine2D\u001b[0m\u001b[0;34m)\u001b[0m\u001b[0;34m\u001b[0m\u001b[0;34m\u001b[0m\u001b[0m\n\u001b[0;32m-> 1646\u001b[0;31m         \u001b[0mlines\u001b[0m \u001b[0;34m=\u001b[0m \u001b[0;34m[\u001b[0m\u001b[0;34m*\u001b[0m\u001b[0mself\u001b[0m\u001b[0;34m.\u001b[0m\u001b[0m_get_lines\u001b[0m\u001b[0;34m(\u001b[0m\u001b[0;34m*\u001b[0m\u001b[0margs\u001b[0m\u001b[0;34m,\u001b[0m \u001b[0mdata\u001b[0m\u001b[0;34m=\u001b[0m\u001b[0mdata\u001b[0m\u001b[0;34m,\u001b[0m \u001b[0;34m**\u001b[0m\u001b[0mkwargs\u001b[0m\u001b[0;34m)\u001b[0m\u001b[0;34m]\u001b[0m\u001b[0;34m\u001b[0m\u001b[0;34m\u001b[0m\u001b[0m\n\u001b[0m\u001b[1;32m   1647\u001b[0m         \u001b[0;32mfor\u001b[0m \u001b[0mline\u001b[0m \u001b[0;32min\u001b[0m \u001b[0mlines\u001b[0m\u001b[0;34m:\u001b[0m\u001b[0;34m\u001b[0m\u001b[0;34m\u001b[0m\u001b[0m\n\u001b[1;32m   1648\u001b[0m             \u001b[0mself\u001b[0m\u001b[0;34m.\u001b[0m\u001b[0madd_line\u001b[0m\u001b[0;34m(\u001b[0m\u001b[0mline\u001b[0m\u001b[0;34m)\u001b[0m\u001b[0;34m\u001b[0m\u001b[0;34m\u001b[0m\u001b[0m\n",
            "\u001b[0;32m/usr/local/lib/python3.6/dist-packages/matplotlib/axes/_base.py\u001b[0m in \u001b[0;36m__call__\u001b[0;34m(self, *args, **kwargs)\u001b[0m\n\u001b[1;32m    214\u001b[0m                 \u001b[0mthis\u001b[0m \u001b[0;34m+=\u001b[0m \u001b[0margs\u001b[0m\u001b[0;34m[\u001b[0m\u001b[0;36m0\u001b[0m\u001b[0;34m]\u001b[0m\u001b[0;34m,\u001b[0m\u001b[0;34m\u001b[0m\u001b[0;34m\u001b[0m\u001b[0m\n\u001b[1;32m    215\u001b[0m                 \u001b[0margs\u001b[0m \u001b[0;34m=\u001b[0m \u001b[0margs\u001b[0m\u001b[0;34m[\u001b[0m\u001b[0;36m1\u001b[0m\u001b[0;34m:\u001b[0m\u001b[0;34m]\u001b[0m\u001b[0;34m\u001b[0m\u001b[0;34m\u001b[0m\u001b[0m\n\u001b[0;32m--> 216\u001b[0;31m             \u001b[0;32myield\u001b[0m \u001b[0;32mfrom\u001b[0m \u001b[0mself\u001b[0m\u001b[0;34m.\u001b[0m\u001b[0m_plot_args\u001b[0m\u001b[0;34m(\u001b[0m\u001b[0mthis\u001b[0m\u001b[0;34m,\u001b[0m \u001b[0mkwargs\u001b[0m\u001b[0;34m)\u001b[0m\u001b[0;34m\u001b[0m\u001b[0;34m\u001b[0m\u001b[0m\n\u001b[0m\u001b[1;32m    217\u001b[0m \u001b[0;34m\u001b[0m\u001b[0m\n\u001b[1;32m    218\u001b[0m     \u001b[0;32mdef\u001b[0m \u001b[0mget_next_color\u001b[0m\u001b[0;34m(\u001b[0m\u001b[0mself\u001b[0m\u001b[0;34m)\u001b[0m\u001b[0;34m:\u001b[0m\u001b[0;34m\u001b[0m\u001b[0;34m\u001b[0m\u001b[0m\n",
            "\u001b[0;32m/usr/local/lib/python3.6/dist-packages/matplotlib/axes/_base.py\u001b[0m in \u001b[0;36m_plot_args\u001b[0;34m(self, tup, kwargs)\u001b[0m\n\u001b[1;32m    340\u001b[0m \u001b[0;34m\u001b[0m\u001b[0m\n\u001b[1;32m    341\u001b[0m         \u001b[0;32mif\u001b[0m \u001b[0mx\u001b[0m\u001b[0;34m.\u001b[0m\u001b[0mshape\u001b[0m\u001b[0;34m[\u001b[0m\u001b[0;36m0\u001b[0m\u001b[0;34m]\u001b[0m \u001b[0;34m!=\u001b[0m \u001b[0my\u001b[0m\u001b[0;34m.\u001b[0m\u001b[0mshape\u001b[0m\u001b[0;34m[\u001b[0m\u001b[0;36m0\u001b[0m\u001b[0;34m]\u001b[0m\u001b[0;34m:\u001b[0m\u001b[0;34m\u001b[0m\u001b[0;34m\u001b[0m\u001b[0m\n\u001b[0;32m--> 342\u001b[0;31m             raise ValueError(f\"x and y must have same first dimension, but \"\n\u001b[0m\u001b[1;32m    343\u001b[0m                              f\"have shapes {x.shape} and {y.shape}\")\n\u001b[1;32m    344\u001b[0m         \u001b[0;32mif\u001b[0m \u001b[0mx\u001b[0m\u001b[0;34m.\u001b[0m\u001b[0mndim\u001b[0m \u001b[0;34m>\u001b[0m \u001b[0;36m2\u001b[0m \u001b[0;32mor\u001b[0m \u001b[0my\u001b[0m\u001b[0;34m.\u001b[0m\u001b[0mndim\u001b[0m \u001b[0;34m>\u001b[0m \u001b[0;36m2\u001b[0m\u001b[0;34m:\u001b[0m\u001b[0;34m\u001b[0m\u001b[0;34m\u001b[0m\u001b[0m\n",
            "\u001b[0;31mValueError\u001b[0m: x and y must have same first dimension, but have shapes (6795,) and (6680,)"
          ]
        },
        {
          "output_type": "display_data",
          "data": {
            "image/png": "[encoded data removed]",
            "text/plain": [
              "<Figure size 2160x720 with 1 Axes>"
            ]
          },
          "metadata": {
            "tags": [],
            "needs_background": "light"
          }
        }
      ]
    },
    {
      "cell_type": "code",
      "metadata": {
        "id": "2leWAPN6UcS3",
        "colab_type": "code",
        "outputId": "c0ba0cf6-52c1-4241-b8ac-cad5f720b035",
        "colab": {
          "base_uri": "https://localhost:8080/",
          "height": 264
        }
      },
      "source": [
        "mimport matplotlib.pyplot as plt\n",
        "accuracy = history.history[\"loss\"]\n",
        "#val_accuracy = history.history[\"val_accuracy\"]\n",
        "\n",
        "plt.plot(accuracy,'r')\n",
        "#plt.plot(val_accuracy,'b')\n",
        "plt.legend([\"Train\"])\n",
        "plt.show()"
      ],
      "execution_count": 0,
      "outputs": [
        {
          "output_type": "display_data",
          "data": {
            "image/png": "[encoded data removed]",
            "text/plain": [
              "<Figure size 432x288 with 1 Axes>"
            ]
          },
          "metadata": {
            "tags": [],
            "needs_background": "light"
          }
        }
      ]
    },
    {
      "cell_type": "code",
      "metadata": {
        "id": "SLlIK3sDgpve",
        "colab_type": "code",
        "colab": {}
      },
      "source": [
        ""
      ],
      "execution_count": 0,
      "outputs": []
    }
  ]
}